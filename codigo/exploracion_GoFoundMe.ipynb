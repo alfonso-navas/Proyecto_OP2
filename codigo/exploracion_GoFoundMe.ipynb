{
 "cells": [
  {
   "cell_type": "markdown",
   "metadata": {},
   "source": [
    "# Análisis exploratorio de los datos preliminares de GoFoundMe"
   ]
  },
  {
   "cell_type": "markdown",
   "metadata": {},
   "source": [
    "En este cuaderno se muestra la exploración de datos que fueron obtenidos mediante *web scrapping* de GoFoundMe."
   ]
  },
  {
   "cell_type": "markdown",
   "metadata": {},
   "source": [
    "Primero, importamos las bibliotecas que usaremos:"
   ]
  },
  {
   "cell_type": "code",
   "execution_count": 93,
   "metadata": {},
   "outputs": [],
   "source": [
    "import numpy as np\n",
    "import matplotlib.pyplot as plt\n",
    "%matplotlib inline\n",
    "import pandas as pd"
   ]
  },
  {
   "cell_type": "markdown",
   "metadata": {},
   "source": [
    "y cargamos los datos que se van a analizar:"
   ]
  },
  {
   "cell_type": "code",
   "execution_count": 120,
   "metadata": {},
   "outputs": [
    {
     "data": {
      "text/html": [
       "<div>\n",
       "<style scoped>\n",
       "    .dataframe tbody tr th:only-of-type {\n",
       "        vertical-align: middle;\n",
       "    }\n",
       "\n",
       "    .dataframe tbody tr th {\n",
       "        vertical-align: top;\n",
       "    }\n",
       "\n",
       "    .dataframe thead th {\n",
       "        text-align: right;\n",
       "    }\n",
       "</style>\n",
       "<table border=\"1\" class=\"dataframe\">\n",
       "  <thead>\n",
       "    <tr style=\"text-align: right;\">\n",
       "      <th></th>\n",
       "      <th>url</th>\n",
       "      <th>title</th>\n",
       "      <th>tags</th>\n",
       "      <th>current amount</th>\n",
       "      <th>total_amount</th>\n",
       "      <th>description</th>\n",
       "      <th>created</th>\n",
       "      <th>launch_date</th>\n",
       "      <th>country</th>\n",
       "      <th>donation_count</th>\n",
       "      <th>is_charity</th>\n",
       "    </tr>\n",
       "  </thead>\n",
       "  <tbody>\n",
       "    <tr>\n",
       "      <th>0</th>\n",
       "      <td>https://www.gofundme.com/f/help-otsmars-parent...</td>\n",
       "      <td>Help Otsmar's parents beat Covid-19</td>\n",
       "      <td>Medical, Illness &amp; Healing</td>\n",
       "      <td>$17,550</td>\n",
       "      <td>$50,000</td>\n",
       "      <td>Sara Schlesinger is organizing this fundraiser...</td>\n",
       "      <td>Created April 2, 2021</td>\n",
       "      <td>2021-04-02</td>\n",
       "      <td>US</td>\n",
       "      <td>174</td>\n",
       "      <td>false</td>\n",
       "    </tr>\n",
       "    <tr>\n",
       "      <th>1</th>\n",
       "      <td>https://www.gofundme.com/f/ecuador-covid19-foo...</td>\n",
       "      <td>Ecuador &amp; Venezuela COVID-19 Food Relief</td>\n",
       "      <td>Volunteer &amp; Service</td>\n",
       "      <td>$5,730</td>\n",
       "      <td>$6,000</td>\n",
       "      <td>Team fundraiserKirsten Chaplin and 3 others ar...</td>\n",
       "      <td>Created April 13, 2020</td>\n",
       "      <td>2020-04-13</td>\n",
       "      <td>US</td>\n",
       "      <td>148</td>\n",
       "      <td>false</td>\n",
       "    </tr>\n",
       "    <tr>\n",
       "      <th>2</th>\n",
       "      <td>https://www.gofundme.com/f/support-venezuelas-...</td>\n",
       "      <td>Support the Venezuelan COVID-19 Crisis</td>\n",
       "      <td>Medical, Illness &amp; Healing</td>\n",
       "      <td>$5,350</td>\n",
       "      <td>$5,000</td>\n",
       "      <td>Team fundraiserAlessandra Feuerberg and 2 othe...</td>\n",
       "      <td>Created April 25, 2020</td>\n",
       "      <td>2020-04-25</td>\n",
       "      <td>US</td>\n",
       "      <td>142</td>\n",
       "      <td>false</td>\n",
       "    </tr>\n",
       "    <tr>\n",
       "      <th>3</th>\n",
       "      <td>https://www.gofundme.com/f/pccwcc-williams-med...</td>\n",
       "      <td>Williams' Medical Expenses</td>\n",
       "      <td>Medical, Illness &amp; Healing</td>\n",
       "      <td>$3,239</td>\n",
       "      <td>$8,000</td>\n",
       "      <td>Team fundraiserRoselyn Vasquez and Jennifer Kn...</td>\n",
       "      <td>Created April 6, 2021</td>\n",
       "      <td>2021-04-06</td>\n",
       "      <td>US</td>\n",
       "      <td>37</td>\n",
       "      <td>false</td>\n",
       "    </tr>\n",
       "    <tr>\n",
       "      <th>4</th>\n",
       "      <td>https://www.gofundme.com/f/help-animals-withou...</td>\n",
       "      <td>Help homeless animals in Venezuela COVID-19</td>\n",
       "      <td>Animals &amp; Pets</td>\n",
       "      <td>€1,050</td>\n",
       "      <td>€1,800</td>\n",
       "      <td>Christian Vielma is organizing this fundraiser...</td>\n",
       "      <td>Created July 5, 2020</td>\n",
       "      <td>2020-07-05</td>\n",
       "      <td>US</td>\n",
       "      <td>32</td>\n",
       "      <td>false</td>\n",
       "    </tr>\n",
       "    <tr>\n",
       "      <th>...</th>\n",
       "      <td>...</td>\n",
       "      <td>...</td>\n",
       "      <td>...</td>\n",
       "      <td>...</td>\n",
       "      <td>...</td>\n",
       "      <td>...</td>\n",
       "      <td>...</td>\n",
       "      <td>...</td>\n",
       "      <td>...</td>\n",
       "      <td>...</td>\n",
       "      <td>...</td>\n",
       "    </tr>\n",
       "    <tr>\n",
       "      <th>995</th>\n",
       "      <td>https://www.gofundme.com/f/maria-eleonor-vielm...</td>\n",
       "      <td>EL MARATÓN DE LA REINA DE NUESTRO CUENTO: MAMÁ...</td>\n",
       "      <td>Medical, Illness &amp; Healing</td>\n",
       "      <td>£174</td>\n",
       "      <td>£10,000</td>\n",
       "      <td>Andre Lopez is organizing this fundraiser.EL M...</td>\n",
       "      <td>Created June 7, 2020</td>\n",
       "      <td>2020-06-07</td>\n",
       "      <td>US</td>\n",
       "      <td>15</td>\n",
       "      <td>false</td>\n",
       "    </tr>\n",
       "    <tr>\n",
       "      <th>996</th>\n",
       "      <td>https://www.gofundme.com/f/uncle-luis-wants-to...</td>\n",
       "      <td>Uncle Luis Wants to Live -El Tío Luis Quiere V...</td>\n",
       "      <td>Medical, Illness &amp; Healing</td>\n",
       "      <td>$1,662</td>\n",
       "      <td>$8,000</td>\n",
       "      <td>Eglee Suarez is organizing this fundraiser.El ...</td>\n",
       "      <td>Created September 5, 2020</td>\n",
       "      <td>2020-09-05</td>\n",
       "      <td>US</td>\n",
       "      <td>17</td>\n",
       "      <td>false</td>\n",
       "    </tr>\n",
       "    <tr>\n",
       "      <th>997</th>\n",
       "      <td>https://www.gofundme.com/f/un-aporte-para-el-d...</td>\n",
       "      <td>Un aporte para el Dr. Daniel Gomez</td>\n",
       "      <td>Medical, Illness &amp; Healing</td>\n",
       "      <td>€450</td>\n",
       "      <td>€1,250</td>\n",
       "      <td>Annie Mailin García Guédez is organizing this ...</td>\n",
       "      <td>Created December 25, 2020</td>\n",
       "      <td>2020-12-25</td>\n",
       "      <td>US</td>\n",
       "      <td>17</td>\n",
       "      <td>false</td>\n",
       "    </tr>\n",
       "    <tr>\n",
       "      <th>998</th>\n",
       "      <td>https://www.gofundme.com/f/ayudemos-a-juan-en-...</td>\n",
       "      <td>Ayudemos a Juan en su lucha contra el COVID-19</td>\n",
       "      <td>Accidents &amp; Emergencies</td>\n",
       "      <td>$1,445</td>\n",
       "      <td>$30,000</td>\n",
       "      <td>Xiomara Ontiveros is organizing this fundraise...</td>\n",
       "      <td>Created August 7, 2020</td>\n",
       "      <td>2020-08-07</td>\n",
       "      <td>US</td>\n",
       "      <td>26</td>\n",
       "      <td>false</td>\n",
       "    </tr>\n",
       "    <tr>\n",
       "      <th>999</th>\n",
       "      <td>https://www.gofundme.com/f/sewage-flooded-fami...</td>\n",
       "      <td>Sewage Flooded Families Homes in Venezuela</td>\n",
       "      <td>Accidents &amp; Emergencies</td>\n",
       "      <td>$850</td>\n",
       "      <td>$3,900</td>\n",
       "      <td>Erika Garcia-Malave is organizing this fundrai...</td>\n",
       "      <td>Created September 13, 2020</td>\n",
       "      <td>2020-09-13</td>\n",
       "      <td>US</td>\n",
       "      <td>23</td>\n",
       "      <td>false</td>\n",
       "    </tr>\n",
       "  </tbody>\n",
       "</table>\n",
       "<p>1002 rows × 11 columns</p>\n",
       "</div>"
      ],
      "text/plain": [
       "                                                   url  \\\n",
       "0    https://www.gofundme.com/f/help-otsmars-parent...   \n",
       "1    https://www.gofundme.com/f/ecuador-covid19-foo...   \n",
       "2    https://www.gofundme.com/f/support-venezuelas-...   \n",
       "3    https://www.gofundme.com/f/pccwcc-williams-med...   \n",
       "4    https://www.gofundme.com/f/help-animals-withou...   \n",
       "..                                                 ...   \n",
       "995  https://www.gofundme.com/f/maria-eleonor-vielm...   \n",
       "996  https://www.gofundme.com/f/uncle-luis-wants-to...   \n",
       "997  https://www.gofundme.com/f/un-aporte-para-el-d...   \n",
       "998  https://www.gofundme.com/f/ayudemos-a-juan-en-...   \n",
       "999  https://www.gofundme.com/f/sewage-flooded-fami...   \n",
       "\n",
       "                                                 title  \\\n",
       "0                  Help Otsmar's parents beat Covid-19   \n",
       "1             Ecuador & Venezuela COVID-19 Food Relief   \n",
       "2               Support the Venezuelan COVID-19 Crisis   \n",
       "3                           Williams' Medical Expenses   \n",
       "4          Help homeless animals in Venezuela COVID-19   \n",
       "..                                                 ...   \n",
       "995  EL MARATÓN DE LA REINA DE NUESTRO CUENTO: MAMÁ...   \n",
       "996  Uncle Luis Wants to Live -El Tío Luis Quiere V...   \n",
       "997                 Un aporte para el Dr. Daniel Gomez   \n",
       "998     Ayudemos a Juan en su lucha contra el COVID-19   \n",
       "999         Sewage Flooded Families Homes in Venezuela   \n",
       "\n",
       "                           tags current amount total_amount  \\\n",
       "0    Medical, Illness & Healing        $17,550      $50,000   \n",
       "1           Volunteer & Service         $5,730       $6,000   \n",
       "2    Medical, Illness & Healing         $5,350       $5,000   \n",
       "3    Medical, Illness & Healing         $3,239       $8,000   \n",
       "4                Animals & Pets         €1,050       €1,800   \n",
       "..                          ...            ...          ...   \n",
       "995  Medical, Illness & Healing           £174      £10,000   \n",
       "996  Medical, Illness & Healing         $1,662       $8,000   \n",
       "997  Medical, Illness & Healing           €450       €1,250   \n",
       "998     Accidents & Emergencies         $1,445      $30,000   \n",
       "999     Accidents & Emergencies           $850       $3,900   \n",
       "\n",
       "                                           description  \\\n",
       "0    Sara Schlesinger is organizing this fundraiser...   \n",
       "1    Team fundraiserKirsten Chaplin and 3 others ar...   \n",
       "2    Team fundraiserAlessandra Feuerberg and 2 othe...   \n",
       "3    Team fundraiserRoselyn Vasquez and Jennifer Kn...   \n",
       "4    Christian Vielma is organizing this fundraiser...   \n",
       "..                                                 ...   \n",
       "995  Andre Lopez is organizing this fundraiser.EL M...   \n",
       "996  Eglee Suarez is organizing this fundraiser.El ...   \n",
       "997  Annie Mailin García Guédez is organizing this ...   \n",
       "998  Xiomara Ontiveros is organizing this fundraise...   \n",
       "999  Erika Garcia-Malave is organizing this fundrai...   \n",
       "\n",
       "                        created launch_date country donation_count is_charity  \n",
       "0         Created April 2, 2021  2021-04-02      US            174      false  \n",
       "1        Created April 13, 2020  2020-04-13      US            148      false  \n",
       "2        Created April 25, 2020  2020-04-25      US            142      false  \n",
       "3         Created April 6, 2021  2021-04-06      US             37      false  \n",
       "4          Created July 5, 2020  2020-07-05      US             32      false  \n",
       "..                          ...         ...     ...            ...        ...  \n",
       "995        Created June 7, 2020  2020-06-07      US             15      false  \n",
       "996   Created September 5, 2020  2020-09-05      US             17      false  \n",
       "997   Created December 25, 2020  2020-12-25      US             17      false  \n",
       "998      Created August 7, 2020  2020-08-07      US             26      false  \n",
       "999  Created September 13, 2020  2020-09-13      US             23      false  \n",
       "\n",
       "[1002 rows x 11 columns]"
      ]
     },
     "execution_count": 120,
     "metadata": {},
     "output_type": "execute_result"
    }
   ],
   "source": [
    "df = pd.read_pickle('../datos/GoFundMeData_VenezuelaCovid_20210421.pkl').explode('tags')\n",
    "df #echamos un primer vistazo"
   ]
  },
  {
   "cell_type": "markdown",
   "metadata": {},
   "source": [
    "Variables de interés:\n",
    "* Distribución de paises.\n",
    "* Distribución de tags.\n",
    "* Distribución del monto actual, monto total, número de donantes y porcentaje recaudado.\n",
    "* Serie de tiempo de nuevas campañas, monto total y monto total por campaña.\n",
    "* Relacionar el número de días de campaña con monto actual, número de donantes y porcentaje recaudado.\n",
    "\n",
    "Separar por tags cuando se pueda."
   ]
  },
  {
   "cell_type": "markdown",
   "metadata": {},
   "source": [
    "## Distribución de paises:"
   ]
  },
  {
   "cell_type": "code",
   "execution_count": 95,
   "metadata": {},
   "outputs": [],
   "source": [
    "#veamos la tabla:\n",
    "#df.groupby(['country']).count()[['url']]"
   ]
  },
  {
   "cell_type": "code",
   "execution_count": 97,
   "metadata": {},
   "outputs": [
    {
     "data": {
      "image/png": "[encoded data removed]",
      "text/plain": [
       "<Figure size 432x288 with 1 Axes>"
      ]
     },
     "metadata": {
      "needs_background": "light"
     },
     "output_type": "display_data"
    }
   ],
   "source": [
    "#visualicemos la distribución de paises\n",
    "df.groupby(['country']).count().reset_index().plot(x = 'country', y = 'url', kind = 'bar')\n",
    "plt.show()"
   ]
  },
  {
   "cell_type": "markdown",
   "metadata": {},
   "source": [
    "Todas las campañas de la tabla provienen de estados unidos."
   ]
  },
  {
   "cell_type": "markdown",
   "metadata": {},
   "source": [
    "## Distribución de tags:"
   ]
  },
  {
   "cell_type": "code",
   "execution_count": 100,
   "metadata": {},
   "outputs": [],
   "source": [
    "# veamos la tabla\n",
    "#df.groupby('tags').count()[['url']]"
   ]
  },
  {
   "cell_type": "code",
   "execution_count": 101,
   "metadata": {
    "scrolled": false
   },
   "outputs": [
    {
     "data": {
      "text/plain": [
       "[]"
      ]
     },
     "execution_count": 101,
     "metadata": {},
     "output_type": "execute_result"
    },
    {
     "data": {
      "image/png": "[encoded data removed]",
      "text/plain": [
       "<Figure size 720x288 with 1 Axes>"
      ]
     },
     "metadata": {
      "needs_background": "light"
     },
     "output_type": "display_data"
    }
   ],
   "source": [
    "# visualicemos la distribución de tags\n",
    "df.groupby('tags').count().reset_index().plot(x = 'tags', y = 'url', kind = 'bar', figsize = (10, 4))\n",
    "plt.plot()"
   ]
  },
  {
   "cell_type": "markdown",
   "metadata": {},
   "source": [
    "## Número de campañas "
   ]
  },
  {
   "cell_type": "code",
   "execution_count": 144,
   "metadata": {},
   "outputs": [
    {
     "data": {
      "image/png": "[encoded data removed]",
      "text/plain": [
       "<Figure size 432x288 with 1 Axes>"
      ]
     },
     "metadata": {
      "needs_background": "light"
     },
     "output_type": "display_data"
    }
   ],
   "source": [
    "serie_diaria = pd.to_datetime(df['launch_date']).value_counts() # Creamos una serie de tiempo a partir\n",
    "\n",
    "serie_diaria[serie_diaria.index > pd.to_datetime('2020-01-01')].resample('W').mean().plot()\n",
    "plt.show()"
   ]
  },
  {
   "cell_type": "markdown",
   "metadata": {},
   "source": [
    "## Distribución de dinero colectado y total:"
   ]
  },
  {
   "cell_type": "markdown",
   "metadata": {},
   "source": [
    "### Limpieza de divisas"
   ]
  },
  {
   "cell_type": "markdown",
   "metadata": {},
   "source": [
    "Antes que todo, verifiquemos que los datos estén completos:"
   ]
  },
  {
   "cell_type": "code",
   "execution_count": 116,
   "metadata": {},
   "outputs": [
    {
     "data": {
      "text/html": [
       "<div>\n",
       "<style scoped>\n",
       "    .dataframe tbody tr th:only-of-type {\n",
       "        vertical-align: middle;\n",
       "    }\n",
       "\n",
       "    .dataframe tbody tr th {\n",
       "        vertical-align: top;\n",
       "    }\n",
       "\n",
       "    .dataframe thead th {\n",
       "        text-align: right;\n",
       "    }\n",
       "</style>\n",
       "<table border=\"1\" class=\"dataframe\">\n",
       "  <thead>\n",
       "    <tr style=\"text-align: right;\">\n",
       "      <th></th>\n",
       "      <th>url</th>\n",
       "      <th>title</th>\n",
       "      <th>tags</th>\n",
       "      <th>current amount</th>\n",
       "      <th>total_amount</th>\n",
       "      <th>description</th>\n",
       "      <th>created</th>\n",
       "      <th>launch_date</th>\n",
       "      <th>country</th>\n",
       "      <th>donation_count</th>\n",
       "      <th>is_charity</th>\n",
       "    </tr>\n",
       "  </thead>\n",
       "  <tbody>\n",
       "    <tr>\n",
       "      <th>47</th>\n",
       "      <td>https://www.gofundme.com/f/help-my-mom-to-surv...</td>\n",
       "      <td>NaN</td>\n",
       "      <td>NaN</td>\n",
       "      <td>NaN</td>\n",
       "      <td>NaN</td>\n",
       "      <td>NaN</td>\n",
       "      <td>NaN</td>\n",
       "      <td>NaN</td>\n",
       "      <td>US</td>\n",
       "      <td>0</td>\n",
       "      <td>false</td>\n",
       "    </tr>\n",
       "  </tbody>\n",
       "</table>\n",
       "</div>"
      ],
      "text/plain": [
       "                                                  url title tags  \\\n",
       "47  https://www.gofundme.com/f/help-my-mom-to-surv...   NaN  NaN   \n",
       "\n",
       "   current amount total_amount description created launch_date country  \\\n",
       "47            NaN          NaN         NaN     NaN         NaN      US   \n",
       "\n",
       "   donation_count is_charity  \n",
       "47              0      false  "
      ]
     },
     "execution_count": 116,
     "metadata": {},
     "output_type": "execute_result"
    }
   ],
   "source": [
    "# sub df de datos con valores nulos para la variable 'total_amount'\n",
    "df[pd.isnull(df['total_amount'])]"
   ]
  },
  {
   "cell_type": "markdown",
   "metadata": {},
   "source": [
    "Vemos que es solo un dato, del que no tenemos más información, ignoraremos esta fila de nuestro análisis."
   ]
  },
  {
   "cell_type": "code",
   "execution_count": 117,
   "metadata": {},
   "outputs": [],
   "source": [
    "ndf = df[pd.isnull(df['total_amount']) == False]"
   ]
  },
  {
   "cell_type": "markdown",
   "metadata": {},
   "source": [
    "Algo de lo que nos percatamos es que el dinero no se solicita en la misma divisa. Para solucionar esto, se identifican los signos de todas las divisas presentes en nuestros datos. "
   ]
  },
  {
   "cell_type": "markdown",
   "metadata": {},
   "source": [
    "Para este paso creamos una función que recibe una lista/arreglo/serie de cantidades de dinero expresadas en diferentes divisas y devuelve la lista de símbolos de cada una de estas divisas:"
   ]
  },
  {
   "cell_type": "code",
   "execution_count": 111,
   "metadata": {},
   "outputs": [],
   "source": [
    "def lista_signos(dinero):\n",
    "    signos = []\n",
    "    for string in dinero:\n",
    "        signo = ''\n",
    "        string = str(string)\n",
    "        for char in string:\n",
    "            if char.isnumeric():\n",
    "                break\n",
    "            else:\n",
    "                signo += char\n",
    "        if signo == '':\n",
    "            signo = 'no registra'\n",
    "        signos.append(signo) \n",
    "    return signos"
   ]
  },
  {
   "cell_type": "markdown",
   "metadata": {},
   "source": [
    "Ahora, identificamos los símbolos para las cantidades de dinero en las columnas: *current amount*, *total_amount*"
   ]
  },
  {
   "cell_type": "code",
   "execution_count": 115,
   "metadata": {},
   "outputs": [
    {
     "name": "stdout",
     "output_type": "stream",
     "text": [
      "{'£', '$', '€', 'kr', 'no registra', 'CHF'} {'£', '$', '€', 'kr', 'CHF'}\n"
     ]
    }
   ],
   "source": [
    "#current amount\n",
    "signos_current = lista_signos(ndf['current amount'])\n",
    "\n",
    "#total_amount\n",
    "signos_total = lista_signos(ndf['total_amount'])\n",
    "\n",
    "#veamos cuáles signos se encuentra en cada caso\n",
    "print(set(signos_current), set(signos_total))"
   ]
  },
  {
   "cell_type": "markdown",
   "metadata": {},
   "source": [
    "y graficamos:"
   ]
  },
  {
   "cell_type": "code",
   "execution_count": null,
   "metadata": {},
   "outputs": [],
   "source": [
    "ndf.boxplot(column = 'total_amount', by = 'tags')\n",
    "plt.plot()"
   ]
  }
 ],
 "metadata": {
  "kernelspec": {
   "display_name": "Proyecto_OP2",
   "language": "python",
   "name": "proyecto_op2"
  },
  "language_info": {
   "codemirror_mode": {
    "name": "ipython",
    "version": 3
   },
   "file_extension": ".py",
   "mimetype": "text/x-python",
   "name": "python",
   "nbconvert_exporter": "python",
   "pygments_lexer": "ipython3",
   "version": "3.7.10"
  }
 },
 "nbformat": 4,
 "nbformat_minor": 4
}
