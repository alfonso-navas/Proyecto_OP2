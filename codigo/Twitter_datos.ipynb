{
 "cells": [
  {
   "cell_type": "markdown",
   "id": "f7a179cc",
   "metadata": {},
   "source": [
    "# Exploración de indicadores que reflejen la incidencia de Covid-19 en Venezuela usando fuentes de datos no oficiales.\n",
    "\n",
    "# Twitter - Extracción de datos \n",
    "\n",
    "Twitter permite acceder a información pública mediante las API (Application Programming Interfaces), en español, interfaz de programación de aplicaciones, éstas dependen de las aplicaciones que se van a utilizar y de los permisos asignados. \n",
    "\n",
    "Este notebook de Jupyter contiene todo el código utilizado para extraer tweets por medio de la API de Twitter por medio de la biblioteca [Twarc](https://pypi.org/project/twarc/).\n",
    "\n",
    "### Pasos a seguir para poder acceder a la API de Twiter. \n",
    "- Tener una cuenta en la red social de Twitter.\n",
    "- Solicitar una cuenta de desarrollador. [Create a project app](https://developer.twitter.com/en/apps)\n",
    "- Extraer las credenciales de permiso. \n",
    "[Academic Research Project](https://developer.twitter.com/en/docs/projects/overview#product-track)\n",
    "\n",
    "___\n",
    "\n",
    "**Advertencia: Los pasos en este notebook son repetitivos, ya que se documentaron todas las consultas para la extracción de los datos**.\n",
    "___\n",
    "\n",
    "## Configuración\n",
    "\n",
    "Configurar el entorno importando las bibliotecas con las que se trabajaran. "
   ]
  },
  {
   "cell_type": "code",
   "execution_count": 1,
   "id": "dd96c20e",
   "metadata": {},
   "outputs": [],
   "source": [
    "import twarc \n",
    "import pandas as pd\n",
    "import datetime\n",
    "import itertools\n",
    "from twarc.client2 import Twarc2\n",
    "import json"
   ]
  },
  {
   "cell_type": "markdown",
   "id": "d8ff7f69",
   "metadata": {},
   "source": [
    "Hacer la autenticación por medio de las credenciales para poder hacer la solicitud de extracción.\n",
    "___\n",
    "\n",
    "**Nota: las credenciales utilizadas son de investigación académica. Al hacer la solicitud con otro tipo de credenciales, puede arrojar distintos resultados.** "
   ]
  },
  {
   "cell_type": "code",
   "execution_count": 7,
   "id": "bd38a6bd",
   "metadata": {},
   "outputs": [],
   "source": [
    "t = Twarc2(bearer_token=\"  \")\n",
    "#La API de Twitter recomienda no hacer públicas las credenciales"
   ]
  },
  {
   "cell_type": "markdown",
   "id": "2b2f3912",
   "metadata": {},
   "source": [
    "En principio, se define la consulta en el periodo comprendido entre el 13 de marzo de 2020 hasta el 10 de mayo de 2021, para ello se utilizará start_time y end_time, respectivamente. En algunas consultas estos parámetros cambian para obtener mejores resultados. "
   ]
  },
  {
   "cell_type": "code",
   "execution_count": 4,
   "id": "1f135232",
   "metadata": {},
   "outputs": [],
   "source": [
    "start_time = datetime.datetime(2020, 3, 13, 0, 0, 0, 0, datetime.timezone.utc)\n",
    "end_time = datetime.datetime(2021, 5, 10, 0, 0, 0, 0, datetime.timezone.utc)\n",
    "\n",
    "#Estas variables deben estar en formato UTC"
   ]
  },
  {
   "cell_type": "markdown",
   "id": "8b8b17df",
   "metadata": {},
   "source": [
    "La consulta está determinada por: \n",
    "\n",
    "**Palabras claves**\n",
    "\n",
    "- covid-19\n",
    "- coronavirus\n",
    "- infectado covid-19\n",
    "- muerte covid-19\n",
    "- bombona de oxígeno\n",
    "- flujómetro de oxígeno\n",
    "- saturación de oxígeno\n",
    "- dexametasona\n",
    "- GoFundMe venezuela covid-19\n",
    "- recolectar dinero covid-19\n",
    "- ayuda covid-19\n",
    "- tratamiento covid-19\n",
    "- UCI \n",
    "- unidad de cuidados intensivos\n",
    "- servicio público covid-19 \n",
    "\n",
    "Las consultas se especifican con y sin hastahtag(#), ya que con este operador se realiza una coincidencia exacta; las palabras claves se especifican con y sin tilde diacrítica, debido a que hay distinción entre las palabras que la posean y las que no, no obstante, no se hace distinción entre mayúsculas y minúsculas. Se filtran todos aquellos tweets que son retweets y. Adicionalmente, la búsqueda de todas las palabras claves, a excepción de las relacionadas con \"GoFundMe\", se hice local, es decir, se restringe la búsqueda al país Venezuela.\n",
    "\n",
    "**Operadores y filtros**\n",
    "\n",
    "- -is:retweet ---- Negación del operador is:retweet, usada para buscar solo tweets originales.\n",
    "- OR ---- Conjunción (o), implica que los tweets coincidirán si cumple alguna de las condiciones. \n",
    "- place_country:VE ---- Usada para obtener tweets proveniente del país Venezuela.  \n",
    "- has link ---- Con link adjunto. \n",
    "\n",
    "[Creación de consultas para los tweets de búsqueda](https://developer.twitter.com/en/docs/twitter-api/tweets/search/integrate/build-a-query#examples).\n",
    "___\n",
    "\n",
    "Se utiliza `t.search_all(query, star_time, end_time)` para hacer las consultas, donde el parámetro `query` está conformado por la palabra clave, filtros y operadores asociados. \n",
    "\n",
    "Por ejemplo: la siguiente consulta arroja tweets que contengan la palabra clave \"covid-19\", que provengan del \"paí Venezuela\", que sean tweets originales y del periodo de tiempo \"13 de marzo de 2020 - 10 de mayo de 2021\". \n",
    "\n",
    "~~~\n",
    "search_results = t.search_all(query=\"covid-19 place_country:VE -is:retweet\", start_time=start_time, end_time=end_time)\n",
    "~~~\n",
    "\n",
    "### Solicitud: covid-19, coronavirus\n",
    "\n",
    "___ \n",
    "\n",
    "En principio, se a muestra los pasos detalladamente, luego se crea una función para aplicarlas a las distintas búsquedas.\n"
   ]
  },
  {
   "cell_type": "code",
   "execution_count": null,
   "id": "32d23de2",
   "metadata": {},
   "outputs": [],
   "source": [
    "search_results = t.search_all(query=\"covid-19 place_country:VE -is:retweet OR coronavirus place_country:VE -is:retweet\", start_time=start_time, end_time=end_time)"
   ]
  },
  {
   "cell_type": "markdown",
   "id": "65250cad",
   "metadata": {},
   "source": [
    "Obtener todas las páginas de resultados en un archivo formato .JSON. "
   ]
  },
  {
   "cell_type": "code",
   "execution_count": null,
   "id": "ef959b9f",
   "metadata": {},
   "outputs": [],
   "source": [
    "for page in search_results:\n",
    "    with open(\"../datos/datos_twitter/datos_twitter.json\", \"w+\") as f:\n",
    "        f.write(json.dumps(page) + \"\\n\")"
   ]
  },
  {
   "cell_type": "markdown",
   "id": "10b57fec",
   "metadata": {},
   "source": [
    "A continuación, se crea una función que permita reproducir el procedimiento anterior."
   ]
  },
  {
   "cell_type": "code",
   "execution_count": 3,
   "id": "4ea6a5de",
   "metadata": {},
   "outputs": [],
   "source": [
    "def extraccion_datos_twitter(query, start_time, end_time, nombre):\n",
    "    \"\"\"Hacemos la solicitud\"\"\"\n",
    "    search_results = t.search_all(query, start_time=start_time, end_time=end_time) \n",
    "    \n",
    "    \"\"\"Definimos la ruta y la variable que me da el nombre del archivo\"\"\"\n",
    "    ruta = \"../datos/datos_twitter/\"\n",
    "    nombre = ruta + nombre\n",
    "    \n",
    "    \"\"\"Guardar resultados en .json\"\"\"\n",
    "    for page in search_results:\n",
    "        with open(nombre, \"w+\") as f:\n",
    "            f.write(json.dumps(page) + \"\\n\")  \n",
    "    "
   ]
  },
  {
   "cell_type": "markdown",
   "id": "b2389777",
   "metadata": {},
   "source": [
    "### Solicitud: infectado covid-19, muerte covid-19"
   ]
  },
  {
   "cell_type": "code",
   "execution_count": null,
   "id": "afd11a9a",
   "metadata": {},
   "outputs": [],
   "source": [
    "query = \"infectado covid-19 place_country:VE -is:retweet OR muerte covid-19 place_country:VE -is:retweet\"\n",
    "extraccion_datos_twitter(query, start_time, end_time, \"datos_twitter2.json\")"
   ]
  },
  {
   "cell_type": "code",
   "execution_count": null,
   "id": "d2cf404e",
   "metadata": {},
   "outputs": [],
   "source": [
    "query = \"#infectadocovid-19 place_country:VE -is:retweet OR #muertecovid-19 place_country:VE -is:retweet\"\n",
    "extraccion_datos_twitter(query, start_time, end_time, \"datos_twitter3.json\")"
   ]
  },
  {
   "cell_type": "markdown",
   "id": "c517d7d7",
   "metadata": {},
   "source": [
    "### Solicitud: oxígeno, dexametasona"
   ]
  },
  {
   "cell_type": "code",
   "execution_count": null,
   "id": "1b6933c5",
   "metadata": {},
   "outputs": [],
   "source": [
    "query = \"oxígeno place_country:VE -is:retweet OR dexametasona place_country:VE -is:retweet\"\n",
    "extraccion_datos_twitter(query, start_time, end_time, \"datos_twitter4.json\")"
   ]
  },
  {
   "cell_type": "markdown",
   "id": "72955a6a",
   "metadata": {},
   "source": [
    "### Solicitud:bombona de oxígeno, dexametasona"
   ]
  },
  {
   "cell_type": "code",
   "execution_count": null,
   "id": "e04fe23b",
   "metadata": {},
   "outputs": [],
   "source": [
    "query=\"bombona de oxígeno place_country:VE -is:retweet OR dexametasona place_country:VE -is:retweet\"\n",
    "extraccion_datos_twitter(query, start_time, end_time, \"datos_twitter5.json\")"
   ]
  },
  {
   "cell_type": "markdown",
   "id": "9819ca7c",
   "metadata": {},
   "source": [
    "### Solicitud: GoFundMe"
   ]
  },
  {
   "cell_type": "code",
   "execution_count": null,
   "id": "42ecf5e1",
   "metadata": {},
   "outputs": [],
   "source": [
    "query=\"GoFundMe venezuela covid-19 -is:retweet OR GoFundMe venezuela covid-19 has:links -is:retweet\"\n",
    "extraccion_datos_twitter(query, start_time, end_time, \"datos_twitter6.json\")"
   ]
  },
  {
   "cell_type": "code",
   "execution_count": null,
   "id": "669780d4",
   "metadata": {},
   "outputs": [],
   "source": [
    "query=\"#GoFundMe venezuela covid-19 -is:retweet OR #GoFundMe venezuela covid-19 has:links -is:retweet\"\n",
    "extraccion_datos_twitter(query, start_time, end_time, \"datos_twitter7.json\")"
   ]
  },
  {
   "cell_type": "code",
   "execution_count": null,
   "id": "c78afcc1",
   "metadata": {},
   "outputs": [],
   "source": [
    "start_time = datetime.datetime(2021, 1, 1, 0, 0, 0, 0, datetime.timezone.utc)\n",
    "end_time = datetime.datetime(2021, 5, 10, 0, 0, 0, 0, datetime.timezone.utc)\n",
    "query=\"GoFundMe venezuela covid-19 -is:retweet OR GoFundMe venezuela covid-19 has:links -is:retweet\"\n",
    "extraccion_datos_twitter(query, start_time, end_time, \"datos_twitter8.json\")"
   ]
  },
  {
   "cell_type": "code",
   "execution_count": null,
   "id": "91feadc6",
   "metadata": {},
   "outputs": [],
   "source": [
    "query=\"#GoFundMe venezuela covid-19 -is:retweet OR #GoFundMe venezuela covid-19 has:links -is:retweet\"\n",
    "extraccion_datos_twitter(query, start_time, end_time, \"datos_twitter9.json\")"
   ]
  },
  {
   "cell_type": "markdown",
   "id": "830d7599",
   "metadata": {},
   "source": [
    "### Solicitud: recolectar dinero covid-19, ayuda covid-19"
   ]
  },
  {
   "cell_type": "code",
   "execution_count": null,
   "id": "60abbcab",
   "metadata": {},
   "outputs": [],
   "source": [
    "start_time = datetime.datetime(2020, 3, 13, 0, 0, 0, 0, datetime.timezone.utc)\n",
    "end_time = datetime.datetime(2021, 5, 10, 0, 0, 0, 0, datetime.timezone.utc)\n",
    "query = \"recolectar dinero covid-19 place_country:VE -is:retweet OR ayuda covid-19 place_country:VE has:links -is:retweet\"\n",
    "extraccion_datos_twitter(query, start_time, end_time, \"datos_twitter10.json\")"
   ]
  },
  {
   "cell_type": "code",
   "execution_count": null,
   "id": "a2e6bc83",
   "metadata": {},
   "outputs": [],
   "source": [
    "start_time = datetime.datetime(2021, 1, 1, 0, 0, 0, 0, datetime.timezone.utc)\n",
    "end_time = datetime.datetime(2021, 5, 10, 0, 0, 0, 0, datetime.timezone.utc)\n",
    "query = \"#RecolectarDinero covid-19 place_country:VE -is:retweet OR #ayuda covid-19 place_country:VE has:links -is:retweet\"\n",
    "extraccion_datos_twitter(query, start_time, end_time, \"datos_twitter11.json\")"
   ]
  },
  {
   "cell_type": "markdown",
   "id": "ea51a922",
   "metadata": {},
   "source": [
    "### Solicitud: flujómetro de oxígeno, saturación de oxígeno"
   ]
  },
  {
   "cell_type": "code",
   "execution_count": null,
   "id": "a7d7c564",
   "metadata": {},
   "outputs": [],
   "source": [
    "start_time = datetime.datetime(2020, 3, 13, 0, 0, 0, 0, datetime.timezone.utc)\n",
    "end_time = datetime.datetime(2021, 5, 10, 0, 0, 0, 0, datetime.timezone.utc)\n",
    "query=\"flujómetro de oxígeno place_country:VE -is:retweet OR saturación de oxígeno place_country:VE -is:retweet\"\n",
    "extraccion_datos_twitter(query, start_time, end_time, \"datos_twitter12.json\")"
   ]
  },
  {
   "cell_type": "code",
   "execution_count": null,
   "id": "6c6f5810",
   "metadata": {},
   "outputs": [],
   "source": [
    "query=\"flujometro de oxigeno place_country:VE -is:retweet OR saturacion de oxigeno place_country:VE -is:retweet\"\n",
    "extraccion_datos_twitter(query, start_time, end_time, \"datos_twitter13.json\")"
   ]
  },
  {
   "cell_type": "code",
   "execution_count": null,
   "id": "eca189ce",
   "metadata": {},
   "outputs": [],
   "source": [
    "query=\"#flujmetroOxigeno place_country:VE -is:retweet OR saturacionOxigeno place_country:VE -is:retweet\"\n",
    "extraccion_datos_twitter(query, start_time, end_time, \"datos_twitter14.json\")"
   ]
  },
  {
   "cell_type": "markdown",
   "id": "cb6d8a75",
   "metadata": {},
   "source": [
    "### Solicitud: servicio público\n",
    "\n",
    "- servicio público "
   ]
  },
  {
   "cell_type": "code",
   "execution_count": null,
   "id": "c5e8c4d3",
   "metadata": {},
   "outputs": [],
   "source": [
    "query=\"#ServicioPúblico covid-19 place_country:VE -is:retweet\"\n",
    "extraccion_datos_twitter(query, start_time, end_time, \"datos_twitte15.json\")"
   ]
  },
  {
   "cell_type": "code",
   "execution_count": null,
   "id": "ea000634",
   "metadata": {},
   "outputs": [],
   "source": [
    "query=\"#ServicioPublico covid-19 place_country:VE -is:retweet\"\n",
    "extraccion_datos_twitter(query, start_time, end_time, \"datos_twitter16.json\")"
   ]
  },
  {
   "cell_type": "code",
   "execution_count": null,
   "id": "90c28ba5",
   "metadata": {},
   "outputs": [],
   "source": [
    "start_time = datetime.datetime(2021, 1, 1, 0, 0, 0, 0, datetime.timezone.utc)\n",
    "end_time = datetime.datetime(2021, 5, 10, 0, 0, 0, 0, datetime.timezone.utc)\n",
    "query=\"servicio público covid-19 place_country:VE -is:retweet OR servicio publico covid-19 place_country:VE -is:retweet\" \n",
    "extraccion_datos_twitter(query, start_time, end_time, \"datos_twitter17.json\")"
   ]
  },
  {
   "cell_type": "code",
   "execution_count": null,
   "id": "57e2808c",
   "metadata": {},
   "outputs": [],
   "source": [
    "query=\"ServicioPublico covid-19 place_country:VE -is:retweet OR ServicioPúblico covid-19 place_country:VE -is:retweet\" \n",
    "extraccion_datos_twitter(query, start_time, end_time, \"datos_twitter18.json\")"
   ]
  },
  {
   "cell_type": "code",
   "execution_count": null,
   "id": "0cf2fb76",
   "metadata": {},
   "outputs": [],
   "source": [
    "start_time = datetime.datetime(2021, 1, 1, 0, 0, 0, 0, datetime.timezone.utc)\n",
    "end_time = datetime.datetime(2021, 1, 31, 0, 0, 0, 0, datetime.timezone.utc)\n",
    "query=\"servicio público covid-19 place_country:VE -is:retweet OR servicio publico covid-19 place_country:VE -is:retweet\" \n",
    "extraccion_datos_twitter(query, start_time, end_time, \"datos_twitter19.json\")"
   ]
  },
  {
   "cell_type": "code",
   "execution_count": null,
   "id": "08933f16",
   "metadata": {},
   "outputs": [],
   "source": [
    "query=\"ServicioPublico covid-19 place_country:VE -is:retweet OR ServicioPúblico covid-19 place_country:VE -is:retweet\" \n",
    "extraccion_datos_twitter(query, start_time, end_time, \"datos_twitter20.json\")"
   ]
  },
  {
   "cell_type": "code",
   "execution_count": null,
   "id": "8fef5484",
   "metadata": {},
   "outputs": [],
   "source": [
    "start_time = datetime.datetime(2021, 2, 1, 0, 0, 0, 0, datetime.timezone.utc)\n",
    "end_time = datetime.datetime(2021, 2, 28, 0, 0, 0, 0, datetime.timezone.utc)\n",
    "query=\"servicio público covid-19 place_country:VE -is:retweet OR servicio publico covid-19 place_country:VE -is:retweet\" \n",
    "extraccion_datos_twitter(query, start_time, end_time, \"datos_twitter21.json\")"
   ]
  },
  {
   "cell_type": "code",
   "execution_count": null,
   "id": "e634e597",
   "metadata": {},
   "outputs": [],
   "source": [
    "query=\"ServicioPublico covid-19 place_country:VE -is:retweet OR ServicioPúblico covid-19 place_country:VE -is:retweet\" \n",
    "extraccion_datos_twitter(query, start_time, end_time, \"datos_twitter22.json\")"
   ]
  },
  {
   "cell_type": "code",
   "execution_count": null,
   "id": "43916bdf",
   "metadata": {},
   "outputs": [],
   "source": [
    "start_time = datetime.datetime(2021, 3, 1, 0, 0, 0, 0, datetime.timezone.utc)\n",
    "end_time = datetime.datetime(2021, 3, 31, 0, 0, 0, 0, datetime.timezone.utc)\n",
    "query=\"servicio público covid-19 place_country:VE -is:retweet OR servicio publico covid-19 place_country:VE -is:retweet\" \n",
    "extraccion_datos_twitter(query, start_time, end_time, \"datos_twitter23.json\")"
   ]
  },
  {
   "cell_type": "code",
   "execution_count": null,
   "id": "aec6f8db",
   "metadata": {},
   "outputs": [],
   "source": [
    "query=\"ServicioPublico covid-19 place_country:VE -is:retweet OR ServicioPúblico covid-19 place_country:VE -is:retweet\" \n",
    "extraccion_datos_twitter(query, start_time, end_time, \"datos_twitter24.json\")"
   ]
  },
  {
   "cell_type": "code",
   "execution_count": null,
   "id": "d412e8f6",
   "metadata": {},
   "outputs": [],
   "source": [
    "start_time = datetime.datetime(2021, 4, 1, 0, 0, 0, 0, datetime.timezone.utc)\n",
    "end_time = datetime.datetime(2021, 4, 30, 0, 0, 0, 0, datetime.timezone.utc)\n",
    "query=\"servicio público covid-19 place_country:VE -is:retweet OR servicio publico covid-19 place_country:VE -is:retweet\" \n",
    "extraccion_datos_twitter(query, start_time, end_time, \"datos_twitter25.json\")"
   ]
  },
  {
   "cell_type": "code",
   "execution_count": null,
   "id": "da768e12",
   "metadata": {},
   "outputs": [],
   "source": [
    "query=\"ServicioPublico covid-19 place_country:VE -is:retweet OR ServicioPúblico covid-19 place_country:VE -is:retweet\" \n",
    "extraccion_datos_twitter(query, start_time, end_time, \"datos_twitter26.json\")"
   ]
  },
  {
   "cell_type": "code",
   "execution_count": null,
   "id": "fc157d75",
   "metadata": {},
   "outputs": [],
   "source": [
    "start_time = datetime.datetime(2021, 5, 1, 0, 0, 0, 0, datetime.timezone.utc)\n",
    "end_time = datetime.datetime(2021, 5, 10, 0, 0, 0, 0, datetime.timezone.utc)\n",
    "query=\"servicio público covid-19 place_country:VE -is:retweet OR servicio publico covid-19 place_country:VE -is:retweet\" \n",
    "extraccion_datos_twitter(query, start_time, end_time, \"datos_twitter27.json\")"
   ]
  },
  {
   "cell_type": "code",
   "execution_count": null,
   "id": "7e7e259e",
   "metadata": {},
   "outputs": [],
   "source": [
    "query=\"ServicioPublico covid-19 place_country:VE -is:retweet OR ServicioPúblico covid-19 place_country:VE -is:retweet\" \n",
    "extraccion_datos_twitter(query, start_time, end_time, \"datos_twitter28.json\")"
   ]
  },
  {
   "cell_type": "code",
   "execution_count": null,
   "id": "a9661e9e",
   "metadata": {},
   "outputs": [],
   "source": [
    "start_time = datetime.datetime(2020, 3, 13, 0, 0, 0, 0, datetime.timezone.utc)\n",
    "end_time = datetime.datetime(2021, 5, 10, 0, 0, 0, 0, datetime.timezone.utc)\n",
    "search_results = t.search_all(query=\"servicio publico place_country:VE -is:retweet OR servicio publico place_country:VE -is:retweet\", start_time=start_time, end_time=end_time)\n",
    "extraccion_datos_twitter(query, start_time, end_time, \"datos_twitter29.json\")"
   ]
  },
  {
   "cell_type": "markdown",
   "id": "2ad7cce6",
   "metadata": {},
   "source": [
    "### Solicitud:  UCIS, unidad de cuidados intensivos"
   ]
  },
  {
   "cell_type": "code",
   "execution_count": null,
   "id": "c6e1f8cd",
   "metadata": {},
   "outputs": [],
   "source": [
    "start_time = datetime.datetime(2020, 3, 13, 0, 0, 0, 0, datetime.timezone.utc)\n",
    "end_time = datetime.datetime(2021, 5, 10, 0, 0, 0, 0, datetime.timezone.utc)\n",
    "query=\"UCIS place_country:VE -is:retweet OR unidad de cuidados intensivos place_country:VE -is:retweet\"\n",
    "extraccion_datos_twitter(query, start_time, end_time, \"datos_twitter30.json\")"
   ]
  },
  {
   "cell_type": "code",
   "execution_count": null,
   "id": "156616f7",
   "metadata": {},
   "outputs": [],
   "source": [
    "query=\"#UCIS place_country:VE -is:retweet\"\n",
    "extraccion_datos_twitter(query, start_time, end_time, \"datos_twitter31.json\")"
   ]
  },
  {
   "cell_type": "markdown",
   "id": "10a0ef66",
   "metadata": {},
   "source": [
    "### Solicitud: tratamiento covid-19"
   ]
  },
  {
   "cell_type": "code",
   "execution_count": null,
   "id": "6b014d14",
   "metadata": {},
   "outputs": [],
   "source": [
    "query=\"tratamiento covid-19 place_country:VE -is:retweet\"\n",
    "extraccion_datos_twitter(query, start_time, end_time, \"datos_twitter32.json\")"
   ]
  }
 ],
 "metadata": {
  "kernelspec": {
   "display_name": "Python 3",
   "language": "python",
   "name": "python3"
  },
  "language_info": {
   "codemirror_mode": {
    "name": "ipython",
    "version": 3
   },
   "file_extension": ".py",
   "mimetype": "text/x-python",
   "name": "python",
   "nbconvert_exporter": "python",
   "pygments_lexer": "ipython3",
   "version": "3.8.8"
  }
 },
 "nbformat": 4,
 "nbformat_minor": 5
}
