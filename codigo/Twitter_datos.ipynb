{
 "cells": [
  {
   "cell_type": "markdown",
   "id": "f7a179cc",
   "metadata": {},
   "source": [
    "# Exploración de indicadores que reflejen la incidencia de Covid-19 en Venezuela usando fuentes de datos no oficiales.\n",
    "\n",
    "# Google Trends API - pytrends \n",
    "\n",
    "Twitter permite acceder a información pública mediante las API (Application Programming Interfaces), en español, interfaz de programación de aplicaciones, éstas dependen de las aplicaciones que se van a utilizar y de los permisos asignados. \n",
    "\n",
    "Este notebook de Jupyter contiene todo el código utilizado para extraer tweets por medio de la API de Twitter por medio de la biblioteca [Twarc](https://pypi.org/project/twarc/).\n",
    "\n",
    "### Pasos a seguir para poder acceder a la API de Twiter. \n",
    "- Tener una cuenta en la red social de Twitter.\n",
    "- Solicitar una cuenta de desarrollador. [Create a project app](https://developer.twitter.com/en/apps)\n",
    "- Extraer las credenciales de permiso. \n",
    "[Academic Research Project](https://developer.twitter.com/en/docs/projects/overview#product-track)\n",
    "\n",
    "___\n",
    "\n",
    "**Advertencia: Los pasos en este notebook son repetitivos, ya que se documentaron todas las consultas para la extracción de los datos**.\n",
    "___\n",
    "\n",
    "## Configuración\n",
    "\n",
    "Configurar el entorno importando las bibliotecas con las que se trabajaran. "
   ]
  },
  {
   "cell_type": "code",
   "execution_count": 1,
   "id": "dd96c20e",
   "metadata": {},
   "outputs": [],
   "source": [
    "import twarc \n",
    "import pandas as pd\n",
    "import datetime\n",
    "import itertools\n",
    "from twarc.client2 import Twarc2\n",
    "import json"
   ]
  },
  {
   "cell_type": "markdown",
   "id": "d8ff7f69",
   "metadata": {},
   "source": [
    "Hacer la autenticación por medio de las credenciales para poder hacer la solicitud de extracción.\n",
    "___\n",
    "\n",
    "**Nota: las credenciales utilizadas son de investigación académica. Al hacer la solicitud con otro tipo de credenciales, puede arrojar distintos resultados.** "
   ]
  },
  {
   "cell_type": "code",
   "execution_count": 7,
   "id": "bd38a6bd",
   "metadata": {},
   "outputs": [],
   "source": [
    "t = Twarc2(bearer_token=\"AAAAAAAAAAAAAAAAAAAAABmzOgEAAAAAAdXaEdw8lrDMBtPj%2BwY318SBBmk%3DCvdZpj9aQg2ORVIfm0glUMXBNSm1yoDl1Zp1ifSRh3Lf6j6QEm\")\n",
    "#Recomiendan no hacer las credenciales públicas"
   ]
  },
  {
   "cell_type": "markdown",
   "id": "2b2f3912",
   "metadata": {},
   "source": [
    "En principio, se define la consulta en el periodo comprendido entre el 13 de marzo de 2020 hasta el 10 de mayo de 2021, para ello se utilizará start_time y end_time, respectivamente. En algunas consultas estos parámetros cambian para obtener mejores resultados. "
   ]
  },
  {
   "cell_type": "code",
   "execution_count": 4,
   "id": "1f135232",
   "metadata": {},
   "outputs": [],
   "source": [
    "start_time = datetime.datetime(2020, 3, 13, 0, 0, 0, 0, datetime.timezone.utc)\n",
    "end_time = datetime.datetime(2021, 5, 10, 0, 0, 0, 0, datetime.timezone.utc)\n",
    "\n",
    "#Estas variables deben estar en formato UTC"
   ]
  },
  {
   "cell_type": "markdown",
   "id": "8b8b17df",
   "metadata": {},
   "source": [
    "La consulta está determinada por: \n",
    "\n",
    "**Palabras claves**\n",
    "\n",
    "- covid-19\n",
    "- coronavirus\n",
    "- infectado covid-19\n",
    "- muerte covid-19\n",
    "- bombona de oxígeno\n",
    "- flujómetro de oxígeno\n",
    "- saturación de oxígeno\n",
    "- dexametasona\n",
    "- GoFundMe venezuela covid-19\n",
    "- recolectar dinero covid-19\n",
    "- ayuda covid-19\n",
    "- tratamiento covid-19\n",
    "- UCI \n",
    "- unidad de cuidados intensivos\n",
    "- servicio público covid-19 \n",
    "\n",
    "Las consultas se especifican con y sin hastahtag(#), ya que con este operador se realiza una coincidencia exacta; las palabras claves se especifican con y sin tilde diacrítica, debido a que hay distinción entre las palabras que la posean y las que no, no obstante, no se hace distinción entre mayúsculas y minúsculas. Se filtran todos aquellos tweets que son retweets y. Adicionalmente, la búsqueda de todas las palabras claves, a excepción de las relacionadas con \"GoFundMe\", se hice local, es decir, se restringe la búsqueda al país Venezuela.\n",
    "\n",
    "**Operadores y filtros**\n",
    "\n",
    "- -is:retweet ---- Negación del operador is:retweet, usada para buscar solo tweets originales.\n",
    "- OR ---- Conjunción (o), implica que los tweets coincidirán si cumple alguna de las condiciones. \n",
    "- place_country:VE ---- Usada para obtener tweets proveniente del país Venezuela.  \n",
    "- has link ---- Con link adjunto. \n",
    "\n",
    "[Creación de consultas para los tweets de búsqueda](https://developer.twitter.com/en/docs/twitter-api/tweets/search/integrate/build-a-query#examples).\n",
    "___\n",
    "\n",
    "Se utiliza `t.search_all(query, star_time, end_time)` para hacer las consultas, donde el parámetro `query` está conformado por la palabra clave, filtros y operadores asociados. \n",
    "\n",
    "Por ejemplo: la siguiente consulta arroja tweets que contengan la palabra clave \"covid-19\", que provengan del \"paí Venezuela\", que sean tweets originales y del periodo de tiempo \"13 de marzo de 2020 - 10 de mayo de 2021\". \n",
    "\n",
    "~~~\n",
    "search_results = t.search_all(query=\"covid-19 place_country:VE -is:retweet\", start_time=start_time, end_time=end_time)\n",
    "~~~\n",
    "\n",
    "### Solicitud: covid-19, coronavirus\n",
    "\n",
    "___ \n",
    "\n",
    "En principio, se a muestra los pasos detalladamente, luego se crea una función para aplicarlas a las distintas búsquedas.\n"
   ]
  },
  {
   "cell_type": "code",
   "execution_count": null,
   "id": "32d23de2",
   "metadata": {},
   "outputs": [],
   "source": [
    "search_results = t.search_all(query=\"covid-19 place_country:VE -is:retweet OR coronavirus place_country:VE -is:retweet\", start_time=start_time, end_time=end_time)"
   ]
  },
  {
   "cell_type": "markdown",
   "id": "65250cad",
   "metadata": {},
   "source": [
    "Obtener todas las páginas de resultados en un archivo formato .JSON. "
   ]
  },
  {
   "cell_type": "code",
   "execution_count": null,
   "id": "ef959b9f",
   "metadata": {},
   "outputs": [],
   "source": [
    "for page in search_results:\n",
    "    with open(\"../datos/datos_twitter/datos_twitter.json\", \"w+\") as f:\n",
    "        f.write(json.dumps(page) + \"\\n\")"
   ]
  },
  {
   "cell_type": "markdown",
   "id": "b3f73229",
   "metadata": {},
   "source": [
    "se convierte el archivo .json en un archivo .csv"
   ]
  },
  {
   "cell_type": "code",
   "execution_count": null,
   "id": "8097ebea",
   "metadata": {},
   "outputs": [],
   "source": [
    "convertir a .cvs\n",
    "df = pd.read_json(r'../datos/datos_twitter/datos_twitter.json')\n",
    "df.to_csv (r'../datos/datos_twitter/datos_twitter.csv')     "
   ]
  },
  {
   "cell_type": "markdown",
   "id": "10b57fec",
   "metadata": {},
   "source": [
    "A continuación, se crea una función que permita reproducir el procedimiento anterior."
   ]
  },
  {
   "cell_type": "code",
   "execution_count": 3,
   "id": "4ea6a5de",
   "metadata": {},
   "outputs": [],
   "source": [
    "def extraccion_datos_twitter(query, start_time, end_time, nombre):\n",
    "    \"\"\"Hacemos la solicitud\"\"\"\n",
    "    search_results = t.search_all(query, start_time=start_time, end_time=end_time) \n",
    "    \n",
    "    \"\"\"Definimos la ruta y la variable que me da el nombre del archivo\"\"\"\n",
    "    ruta = \"../datos/datos_twitter/\"\n",
    "    nombre = ruta + nombre\n",
    "    \n",
    "    \"\"\"Guardar resultados en .json\"\"\"\n",
    "    for page in search_results:\n",
    "        with open(nombre, \"w+\") as f:\n",
    "            f.write(json.dumps(page) + \"\\n\")  \n",
    "    "
   ]
  },
  {
   "cell_type": "markdown",
   "id": "b2389777",
   "metadata": {},
   "source": [
    "### Solicitud: infectado covid-19, muerte covid-19"
   ]
  },
  {
   "cell_type": "code",
   "execution_count": null,
   "id": "afd11a9a",
   "metadata": {},
   "outputs": [],
   "source": [
    "query = \"infectado covid-19 place_country:VE -is:retweet OR muerte covid-19 place_country:VE -is:retweet\"\n",
    "extraccion_datos_twitter(query, start_time, end_time, \"datos_twitter2.json\")"
   ]
  },
  {
   "cell_type": "code",
   "execution_count": null,
   "id": "d2cf404e",
   "metadata": {},
   "outputs": [],
   "source": [
    "query = \"#infectadocovid-19 place_country:VE -is:retweet OR #muertecovid-19 place_country:VE -is:retweet\"\n",
    "extraccion_datos_twitter(query, start_time, end_time, \"datos_twitter3.json\")"
   ]
  },
  {
   "cell_type": "markdown",
   "id": "c517d7d7",
   "metadata": {},
   "source": [
    "### Solicitud: oxígeno, dexametasona"
   ]
  },
  {
   "cell_type": "code",
   "execution_count": null,
   "id": "1b6933c5",
   "metadata": {},
   "outputs": [],
   "source": [
    "query = \"oxígeno place_country:VE -is:retweet OR dexametasona place_country:VE -is:retweet\"\n",
    "extraccion_datos_twitter(query, start_time, end_time, \"datos_twitter4.json\")"
   ]
  },
  {
   "cell_type": "markdown",
   "id": "72955a6a",
   "metadata": {},
   "source": [
    "### Solicitud:bombona de oxígeno, dexametasona"
   ]
  },
  {
   "cell_type": "code",
   "execution_count": null,
   "id": "e04fe23b",
   "metadata": {},
   "outputs": [],
   "source": [
    "query=\"bombona de oxígeno place_country:VE -is:retweet OR dexametasona place_country:VE -is:retweet\"\n",
    "extraccion_datos_twitter(query, start_time, end_time, \"datos_twitter5.json\")"
   ]
  },
  {
   "cell_type": "markdown",
   "id": "9819ca7c",
   "metadata": {},
   "source": [
    "### Solicitud: GoFundMe"
   ]
  },
  {
   "cell_type": "code",
   "execution_count": null,
   "id": "42ecf5e1",
   "metadata": {},
   "outputs": [],
   "source": [
    "query=\"GoFundMe venezuela covid-19 -is:retweet OR GoFundMe venezuela covid-19 has:links -is:retweet\"\n",
    "extraccion_datos_twitter(query, start_time, end_time, \"datos_twitter6.json\")"
   ]
  },
  {
   "cell_type": "code",
   "execution_count": null,
   "id": "669780d4",
   "metadata": {},
   "outputs": [],
   "source": [
    "query=\"#GoFundMe venezuela covid-19 -is:retweet OR #GoFundMe venezuela covid-19 has:links -is:retweet\"\n",
    "extraccion_datos_twitter(query, start_time, end_time, \"datos_twitter7.json\")"
   ]
  },
  {
   "cell_type": "code",
   "execution_count": null,
   "id": "c78afcc1",
   "metadata": {},
   "outputs": [],
   "source": [
    "start_time = datetime.datetime(2021, 1, 1, 0, 0, 0, 0, datetime.timezone.utc)\n",
    "end_time = datetime.datetime(2021, 5, 10, 0, 0, 0, 0, datetime.timezone.utc)\n",
    "query=\"GoFundMe venezuela covid-19 -is:retweet OR GoFundMe venezuela covid-19 has:links -is:retweet\"\n",
    "extraccion_datos_twitter(query, start_time, end_time, \"datos_twitter8.json\")"
   ]
  },
  {
   "cell_type": "code",
   "execution_count": null,
   "id": "91feadc6",
   "metadata": {},
   "outputs": [],
   "source": [
    "query=\"#GoFundMe venezuela covid-19 -is:retweet OR #GoFundMe venezuela covid-19 has:links -is:retweet\"\n",
    "extraccion_datos_twitter(query, start_time, end_time, \"datos_twitter9.json\")"
   ]
  },
  {
   "cell_type": "markdown",
   "id": "830d7599",
   "metadata": {},
   "source": [
    "### Solicitud: recolectar dinero covid-19, ayuda covid-19"
   ]
  },
  {
   "cell_type": "code",
   "execution_count": null,
   "id": "60abbcab",
   "metadata": {},
   "outputs": [],
   "source": [
    "start_time = datetime.datetime(2020, 3, 13, 0, 0, 0, 0, datetime.timezone.utc)\n",
    "end_time = datetime.datetime(2021, 5, 10, 0, 0, 0, 0, datetime.timezone.utc)\n",
    "query = \"recolectar dinero covid-19 place_country:VE -is:retweet OR ayuda covid-19 place_country:VE has:links -is:retweet\"\n",
    "extraccion_datos_twitter(query, start_time, end_time, \"datos_twitter10.json\")"
   ]
  },
  {
   "cell_type": "code",
   "execution_count": null,
   "id": "a2e6bc83",
   "metadata": {},
   "outputs": [],
   "source": [
    "start_time = datetime.datetime(2021, 1, 1, 0, 0, 0, 0, datetime.timezone.utc)\n",
    "end_time = datetime.datetime(2021, 5, 10, 0, 0, 0, 0, datetime.timezone.utc)\n",
    "query = \"#RecolectarDinero covid-19 place_country:VE -is:retweet OR #ayuda covid-19 place_country:VE has:links -is:retweet\"\n",
    "extraccion_datos_twitter(query, start_time, end_time, \"datos_twitter11.json\")"
   ]
  },
  {
   "cell_type": "markdown",
   "id": "ea51a922",
   "metadata": {},
   "source": [
    "### Solicitud: flujómetro de oxígeno, saturación de oxígeno"
   ]
  },
  {
   "cell_type": "code",
   "execution_count": null,
   "id": "a7d7c564",
   "metadata": {},
   "outputs": [],
   "source": [
    "start_time = datetime.datetime(2020, 3, 13, 0, 0, 0, 0, datetime.timezone.utc)\n",
    "end_time = datetime.datetime(2021, 5, 10, 0, 0, 0, 0, datetime.timezone.utc)\n",
    "query=\"flujómetro de oxígeno place_country:VE -is:retweet OR saturación de oxígeno place_country:VE -is:retweet\"\n",
    "extraccion_datos_twitter(query, start_time, end_time, \"datos_twitter12.json\")"
   ]
  },
  {
   "cell_type": "code",
   "execution_count": null,
   "id": "6c6f5810",
   "metadata": {},
   "outputs": [],
   "source": [
    "query=\"flujometro de oxigeno place_country:VE -is:retweet OR saturacion de oxigeno place_country:VE -is:retweet\"\n",
    "extraccion_datos_twitter(query, start_time, end_time, \"datos_twitter13.json\")"
   ]
  },
  {
   "cell_type": "code",
   "execution_count": null,
   "id": "eca189ce",
   "metadata": {},
   "outputs": [],
   "source": [
    "query=\"#flujmetroOxigeno place_country:VE -is:retweet OR saturacionOxigeno place_country:VE -is:retweet\"\n",
    "extraccion_datos_twitter(query, start_time, end_time, \"datos_twitter14.json\")"
   ]
  },
  {
   "cell_type": "markdown",
   "id": "cb6d8a75",
   "metadata": {},
   "source": [
    "### Solicitud: servicio público\n",
    "\n",
    "- servicio público "
   ]
  },
  {
   "cell_type": "code",
   "execution_count": null,
   "id": "c5e8c4d3",
   "metadata": {},
   "outputs": [],
   "source": [
    "query=\"#ServicioPúblico covid-19 place_country:VE -is:retweet\"\n",
    "extraccion_datos_twitter(query, start_time, end_time, \"datos_twitte15.json\")"
   ]
  },
  {
   "cell_type": "code",
   "execution_count": null,
   "id": "ea000634",
   "metadata": {},
   "outputs": [],
   "source": [
    "query=\"#ServicioPublico covid-19 place_country:VE -is:retweet\"\n",
    "extraccion_datos_twitter(query, start_time, end_time, \"datos_twitter16.json\")"
   ]
  },
  {
   "cell_type": "code",
   "execution_count": null,
   "id": "90c28ba5",
   "metadata": {},
   "outputs": [],
   "source": [
    "start_time = datetime.datetime(2021, 1, 1, 0, 0, 0, 0, datetime.timezone.utc)\n",
    "end_time = datetime.datetime(2021, 5, 10, 0, 0, 0, 0, datetime.timezone.utc)\n",
    "query=\"servicio público covid-19 place_country:VE -is:retweet OR servicio publico covid-19 place_country:VE -is:retweet\" \n",
    "extraccion_datos_twitter(query, start_time, end_time, \"datos_twitter17.json\")"
   ]
  },
  {
   "cell_type": "code",
   "execution_count": null,
   "id": "57e2808c",
   "metadata": {},
   "outputs": [],
   "source": [
    "query=\"ServicioPublico covid-19 place_country:VE -is:retweet OR ServicioPúblico covid-19 place_country:VE -is:retweet\" \n",
    "extraccion_datos_twitter(query, start_time, end_time, \"datos_twitter18.json\")"
   ]
  },
  {
   "cell_type": "code",
   "execution_count": null,
   "id": "0cf2fb76",
   "metadata": {},
   "outputs": [],
   "source": [
    "start_time = datetime.datetime(2021, 1, 1, 0, 0, 0, 0, datetime.timezone.utc)\n",
    "end_time = datetime.datetime(2021, 1, 31, 0, 0, 0, 0, datetime.timezone.utc)\n",
    "query=\"servicio público covid-19 place_country:VE -is:retweet OR servicio publico covid-19 place_country:VE -is:retweet\" \n",
    "extraccion_datos_twitter(query, start_time, end_time, \"datos_twitter19.json\")"
   ]
  },
  {
   "cell_type": "code",
   "execution_count": null,
   "id": "08933f16",
   "metadata": {},
   "outputs": [],
   "source": [
    "query=\"ServicioPublico covid-19 place_country:VE -is:retweet OR ServicioPúblico covid-19 place_country:VE -is:retweet\" \n",
    "extraccion_datos_twitter(query, start_time, end_time, \"datos_twitter20.json\")"
   ]
  },
  {
   "cell_type": "code",
   "execution_count": null,
   "id": "8fef5484",
   "metadata": {},
   "outputs": [],
   "source": [
    "start_time = datetime.datetime(2021, 2, 1, 0, 0, 0, 0, datetime.timezone.utc)\n",
    "end_time = datetime.datetime(2021, 2, 28, 0, 0, 0, 0, datetime.timezone.utc)\n",
    "query=\"servicio público covid-19 place_country:VE -is:retweet OR servicio publico covid-19 place_country:VE -is:retweet\" \n",
    "extraccion_datos_twitter(query, start_time, end_time, \"datos_twitter21.json\")"
   ]
  },
  {
   "cell_type": "code",
   "execution_count": null,
   "id": "e634e597",
   "metadata": {},
   "outputs": [],
   "source": [
    "query=\"ServicioPublico covid-19 place_country:VE -is:retweet OR ServicioPúblico covid-19 place_country:VE -is:retweet\" \n",
    "extraccion_datos_twitter(query, start_time, end_time, \"datos_twitter22.json\")"
   ]
  },
  {
   "cell_type": "code",
   "execution_count": null,
   "id": "43916bdf",
   "metadata": {},
   "outputs": [],
   "source": [
    "start_time = datetime.datetime(2021, 3, 1, 0, 0, 0, 0, datetime.timezone.utc)\n",
    "end_time = datetime.datetime(2021, 3, 31, 0, 0, 0, 0, datetime.timezone.utc)\n",
    "query=\"servicio público covid-19 place_country:VE -is:retweet OR servicio publico covid-19 place_country:VE -is:retweet\" \n",
    "extraccion_datos_twitter(query, start_time, end_time, \"datos_twitter23.json\")"
   ]
  },
  {
   "cell_type": "code",
   "execution_count": null,
   "id": "aec6f8db",
   "metadata": {},
   "outputs": [],
   "source": [
    "query=\"ServicioPublico covid-19 place_country:VE -is:retweet OR ServicioPúblico covid-19 place_country:VE -is:retweet\" \n",
    "extraccion_datos_twitter(query, start_time, end_time, \"datos_twitter24.json\")"
   ]
  },
  {
   "cell_type": "code",
   "execution_count": null,
   "id": "d412e8f6",
   "metadata": {},
   "outputs": [],
   "source": [
    "start_time = datetime.datetime(2021, 4, 1, 0, 0, 0, 0, datetime.timezone.utc)\n",
    "end_time = datetime.datetime(2021, 4, 30, 0, 0, 0, 0, datetime.timezone.utc)\n",
    "query=\"servicio público covid-19 place_country:VE -is:retweet OR servicio publico covid-19 place_country:VE -is:retweet\" \n",
    "extraccion_datos_twitter(query, start_time, end_time, \"datos_twitter25.json\")"
   ]
  },
  {
   "cell_type": "code",
   "execution_count": null,
   "id": "da768e12",
   "metadata": {},
   "outputs": [],
   "source": [
    "query=\"ServicioPublico covid-19 place_country:VE -is:retweet OR ServicioPúblico covid-19 place_country:VE -is:retweet\" \n",
    "extraccion_datos_twitter(query, start_time, end_time, \"datos_twitter26.json\")"
   ]
  },
  {
   "cell_type": "code",
   "execution_count": null,
   "id": "fc157d75",
   "metadata": {},
   "outputs": [],
   "source": [
    "start_time = datetime.datetime(2021, 5, 1, 0, 0, 0, 0, datetime.timezone.utc)\n",
    "end_time = datetime.datetime(2021, 5, 10, 0, 0, 0, 0, datetime.timezone.utc)\n",
    "query=\"servicio público covid-19 place_country:VE -is:retweet OR servicio publico covid-19 place_country:VE -is:retweet\" \n",
    "extraccion_datos_twitter(query, start_time, end_time, \"datos_twitter27.json\")"
   ]
  },
  {
   "cell_type": "code",
   "execution_count": null,
   "id": "7e7e259e",
   "metadata": {},
   "outputs": [],
   "source": [
    "query=\"ServicioPublico covid-19 place_country:VE -is:retweet OR ServicioPúblico covid-19 place_country:VE -is:retweet\" \n",
    "extraccion_datos_twitter(query, start_time, end_time, \"datos_twitter28.json\")"
   ]
  },
  {
   "cell_type": "code",
   "execution_count": null,
   "id": "a9661e9e",
   "metadata": {},
   "outputs": [],
   "source": [
    "start_time = datetime.datetime(2020, 3, 13, 0, 0, 0, 0, datetime.timezone.utc)\n",
    "end_time = datetime.datetime(2021, 5, 10, 0, 0, 0, 0, datetime.timezone.utc)\n",
    "search_results = t.search_all(query=\"servicio publico place_country:VE -is:retweet OR servicio publico place_country:VE -is:retweet\", start_time=start_time, end_time=end_time)\n",
    "extraccion_datos_twitter(query, start_time, end_time, \"datos_twitter29.json\")"
   ]
  },
  {
   "cell_type": "markdown",
   "id": "2ad7cce6",
   "metadata": {},
   "source": [
    "### Solicitud:  UCIS, unidad de cuidados intensivos"
   ]
  },
  {
   "cell_type": "code",
   "execution_count": null,
   "id": "c6e1f8cd",
   "metadata": {},
   "outputs": [],
   "source": [
    "start_time = datetime.datetime(2020, 3, 13, 0, 0, 0, 0, datetime.timezone.utc)\n",
    "end_time = datetime.datetime(2021, 5, 10, 0, 0, 0, 0, datetime.timezone.utc)\n",
    "query=\"UCIS place_country:VE -is:retweet OR unidad de cuidados intensivos place_country:VE -is:retweet\"\n",
    "extraccion_datos_twitter(query, start_time, end_time, \"datos_twitter30.json\")"
   ]
  },
  {
   "cell_type": "code",
   "execution_count": null,
   "id": "156616f7",
   "metadata": {},
   "outputs": [],
   "source": [
    "query=\"#UCIS place_country:VE -is:retweet\"\n",
    "extraccion_datos_twitter(query, start_time, end_time, \"datos_twitter31.json\")"
   ]
  },
  {
   "cell_type": "markdown",
   "id": "10a0ef66",
   "metadata": {},
   "source": [
    "### Solicitud: tratamiento covid-19"
   ]
  },
  {
   "cell_type": "code",
   "execution_count": null,
   "id": "6b014d14",
   "metadata": {},
   "outputs": [],
   "source": [
    "query=\"tratamiento covid-19 place_country:VE -is:retweet\"\n",
    "extraccion_datos_twitter(query, start_time, end_time, \"datos_twitter32.json\")"
   ]
  },
  {
   "cell_type": "markdown",
   "id": "2b8e30da",
   "metadata": {},
   "source": [
    "### Esto es una prueba "
   ]
  },
  {
   "cell_type": "code",
   "execution_count": 8,
   "id": "8c5ab098",
   "metadata": {},
   "outputs": [],
   "source": [
    "start_time = datetime.datetime(2021, 4, 15, 0, 0, 0, 0, datetime.timezone.utc)\n",
    "end_time = datetime.datetime(2021, 5, 10, 0, 0, 0, 0, datetime.timezone.utc)\n",
    "search_results = t.search_all(query=\"#tratamientCovid place_country:VE -is:retweet OR #InfectadoCovid place_country:VE -is:retweet OR #MuerteCovid place_country:VE -is:retweet\", start_time=start_time, end_time=end_time)"
   ]
  },
  {
   "cell_type": "code",
   "execution_count": 10,
   "id": "5aeaf13a",
   "metadata": {},
   "outputs": [],
   "source": [
    "for page in search_results:\n",
    "    with open(\"../datos/datos_twitter/prueba2.json\", \"w+\") as f:\n",
    "        f.write(json.dumps(page) + \"\\n\")"
   ]
  },
  {
   "cell_type": "code",
   "execution_count": 20,
   "id": "88a8170a",
   "metadata": {},
   "outputs": [
    {
     "ename": "ValueError",
     "evalue": "arrays must all be same length",
     "output_type": "error",
     "traceback": [
      "\u001b[0;31m---------------------------------------------------------------------------\u001b[0m",
      "\u001b[0;31mValueError\u001b[0m                                Traceback (most recent call last)",
      "\u001b[0;32m<ipython-input-20-64c9829963ad>\u001b[0m in \u001b[0;36m<module>\u001b[0;34m\u001b[0m\n\u001b[1;32m      1\u001b[0m \u001b[0;31m#Qué estoy haciendo mal?\u001b[0m\u001b[0;34m\u001b[0m\u001b[0;34m\u001b[0m\u001b[0;34m\u001b[0m\u001b[0m\n\u001b[0;32m----> 2\u001b[0;31m \u001b[0mdf\u001b[0m \u001b[0;34m=\u001b[0m \u001b[0mpd\u001b[0m\u001b[0;34m.\u001b[0m\u001b[0mread_json\u001b[0m\u001b[0;34m(\u001b[0m\u001b[0;34mr'../datos/datos_twitter/prueba.json'\u001b[0m\u001b[0;34m)\u001b[0m\u001b[0;34m\u001b[0m\u001b[0;34m\u001b[0m\u001b[0m\n\u001b[0m\u001b[1;32m      3\u001b[0m \u001b[0mdf\u001b[0m\u001b[0;34m.\u001b[0m\u001b[0mto_csv\u001b[0m \u001b[0;34m(\u001b[0m\u001b[0;34mr'../datos/datos_twitter/prueba.csv'\u001b[0m\u001b[0;34m)\u001b[0m\u001b[0;34m\u001b[0m\u001b[0;34m\u001b[0m\u001b[0m\n",
      "\u001b[0;32m~/anaconda3/lib/python3.8/site-packages/pandas/util/_decorators.py\u001b[0m in \u001b[0;36mwrapper\u001b[0;34m(*args, **kwargs)\u001b[0m\n\u001b[1;32m    197\u001b[0m                 \u001b[0;32melse\u001b[0m\u001b[0;34m:\u001b[0m\u001b[0;34m\u001b[0m\u001b[0;34m\u001b[0m\u001b[0m\n\u001b[1;32m    198\u001b[0m                     \u001b[0mkwargs\u001b[0m\u001b[0;34m[\u001b[0m\u001b[0mnew_arg_name\u001b[0m\u001b[0;34m]\u001b[0m \u001b[0;34m=\u001b[0m \u001b[0mnew_arg_value\u001b[0m\u001b[0;34m\u001b[0m\u001b[0;34m\u001b[0m\u001b[0m\n\u001b[0;32m--> 199\u001b[0;31m             \u001b[0;32mreturn\u001b[0m \u001b[0mfunc\u001b[0m\u001b[0;34m(\u001b[0m\u001b[0;34m*\u001b[0m\u001b[0margs\u001b[0m\u001b[0;34m,\u001b[0m \u001b[0;34m**\u001b[0m\u001b[0mkwargs\u001b[0m\u001b[0;34m)\u001b[0m\u001b[0;34m\u001b[0m\u001b[0;34m\u001b[0m\u001b[0m\n\u001b[0m\u001b[1;32m    200\u001b[0m \u001b[0;34m\u001b[0m\u001b[0m\n\u001b[1;32m    201\u001b[0m         \u001b[0;32mreturn\u001b[0m \u001b[0mcast\u001b[0m\u001b[0;34m(\u001b[0m\u001b[0mF\u001b[0m\u001b[0;34m,\u001b[0m \u001b[0mwrapper\u001b[0m\u001b[0;34m)\u001b[0m\u001b[0;34m\u001b[0m\u001b[0;34m\u001b[0m\u001b[0m\n",
      "\u001b[0;32m~/anaconda3/lib/python3.8/site-packages/pandas/util/_decorators.py\u001b[0m in \u001b[0;36mwrapper\u001b[0;34m(*args, **kwargs)\u001b[0m\n\u001b[1;32m    297\u001b[0m                 )\n\u001b[1;32m    298\u001b[0m                 \u001b[0mwarnings\u001b[0m\u001b[0;34m.\u001b[0m\u001b[0mwarn\u001b[0m\u001b[0;34m(\u001b[0m\u001b[0mmsg\u001b[0m\u001b[0;34m,\u001b[0m \u001b[0mFutureWarning\u001b[0m\u001b[0;34m,\u001b[0m \u001b[0mstacklevel\u001b[0m\u001b[0;34m=\u001b[0m\u001b[0mstacklevel\u001b[0m\u001b[0;34m)\u001b[0m\u001b[0;34m\u001b[0m\u001b[0;34m\u001b[0m\u001b[0m\n\u001b[0;32m--> 299\u001b[0;31m             \u001b[0;32mreturn\u001b[0m \u001b[0mfunc\u001b[0m\u001b[0;34m(\u001b[0m\u001b[0;34m*\u001b[0m\u001b[0margs\u001b[0m\u001b[0;34m,\u001b[0m \u001b[0;34m**\u001b[0m\u001b[0mkwargs\u001b[0m\u001b[0;34m)\u001b[0m\u001b[0;34m\u001b[0m\u001b[0;34m\u001b[0m\u001b[0m\n\u001b[0m\u001b[1;32m    300\u001b[0m \u001b[0;34m\u001b[0m\u001b[0m\n\u001b[1;32m    301\u001b[0m         \u001b[0;32mreturn\u001b[0m \u001b[0mwrapper\u001b[0m\u001b[0;34m\u001b[0m\u001b[0;34m\u001b[0m\u001b[0m\n",
      "\u001b[0;32m~/anaconda3/lib/python3.8/site-packages/pandas/io/json/_json.py\u001b[0m in \u001b[0;36mread_json\u001b[0;34m(path_or_buf, orient, typ, dtype, convert_axes, convert_dates, keep_default_dates, numpy, precise_float, date_unit, encoding, lines, chunksize, compression, nrows, storage_options)\u001b[0m\n\u001b[1;32m    561\u001b[0m \u001b[0;34m\u001b[0m\u001b[0m\n\u001b[1;32m    562\u001b[0m     \u001b[0;32mwith\u001b[0m \u001b[0mjson_reader\u001b[0m\u001b[0;34m:\u001b[0m\u001b[0;34m\u001b[0m\u001b[0;34m\u001b[0m\u001b[0m\n\u001b[0;32m--> 563\u001b[0;31m         \u001b[0;32mreturn\u001b[0m \u001b[0mjson_reader\u001b[0m\u001b[0;34m.\u001b[0m\u001b[0mread\u001b[0m\u001b[0;34m(\u001b[0m\u001b[0;34m)\u001b[0m\u001b[0;34m\u001b[0m\u001b[0;34m\u001b[0m\u001b[0m\n\u001b[0m\u001b[1;32m    564\u001b[0m \u001b[0;34m\u001b[0m\u001b[0m\n\u001b[1;32m    565\u001b[0m \u001b[0;34m\u001b[0m\u001b[0m\n",
      "\u001b[0;32m~/anaconda3/lib/python3.8/site-packages/pandas/io/json/_json.py\u001b[0m in \u001b[0;36mread\u001b[0;34m(self)\u001b[0m\n\u001b[1;32m    692\u001b[0m                 \u001b[0mobj\u001b[0m \u001b[0;34m=\u001b[0m \u001b[0mself\u001b[0m\u001b[0;34m.\u001b[0m\u001b[0m_get_object_parser\u001b[0m\u001b[0;34m(\u001b[0m\u001b[0mself\u001b[0m\u001b[0;34m.\u001b[0m\u001b[0m_combine_lines\u001b[0m\u001b[0;34m(\u001b[0m\u001b[0mdata_lines\u001b[0m\u001b[0;34m)\u001b[0m\u001b[0;34m)\u001b[0m\u001b[0;34m\u001b[0m\u001b[0;34m\u001b[0m\u001b[0m\n\u001b[1;32m    693\u001b[0m         \u001b[0;32melse\u001b[0m\u001b[0;34m:\u001b[0m\u001b[0;34m\u001b[0m\u001b[0;34m\u001b[0m\u001b[0m\n\u001b[0;32m--> 694\u001b[0;31m             \u001b[0mobj\u001b[0m \u001b[0;34m=\u001b[0m \u001b[0mself\u001b[0m\u001b[0;34m.\u001b[0m\u001b[0m_get_object_parser\u001b[0m\u001b[0;34m(\u001b[0m\u001b[0mself\u001b[0m\u001b[0;34m.\u001b[0m\u001b[0mdata\u001b[0m\u001b[0;34m)\u001b[0m\u001b[0;34m\u001b[0m\u001b[0;34m\u001b[0m\u001b[0m\n\u001b[0m\u001b[1;32m    695\u001b[0m         \u001b[0mself\u001b[0m\u001b[0;34m.\u001b[0m\u001b[0mclose\u001b[0m\u001b[0;34m(\u001b[0m\u001b[0;34m)\u001b[0m\u001b[0;34m\u001b[0m\u001b[0;34m\u001b[0m\u001b[0m\n\u001b[1;32m    696\u001b[0m         \u001b[0;32mreturn\u001b[0m \u001b[0mobj\u001b[0m\u001b[0;34m\u001b[0m\u001b[0;34m\u001b[0m\u001b[0m\n",
      "\u001b[0;32m~/anaconda3/lib/python3.8/site-packages/pandas/io/json/_json.py\u001b[0m in \u001b[0;36m_get_object_parser\u001b[0;34m(self, json)\u001b[0m\n\u001b[1;32m    714\u001b[0m         \u001b[0mobj\u001b[0m \u001b[0;34m=\u001b[0m \u001b[0;32mNone\u001b[0m\u001b[0;34m\u001b[0m\u001b[0;34m\u001b[0m\u001b[0m\n\u001b[1;32m    715\u001b[0m         \u001b[0;32mif\u001b[0m \u001b[0mtyp\u001b[0m \u001b[0;34m==\u001b[0m \u001b[0;34m\"frame\"\u001b[0m\u001b[0;34m:\u001b[0m\u001b[0;34m\u001b[0m\u001b[0;34m\u001b[0m\u001b[0m\n\u001b[0;32m--> 716\u001b[0;31m             \u001b[0mobj\u001b[0m \u001b[0;34m=\u001b[0m \u001b[0mFrameParser\u001b[0m\u001b[0;34m(\u001b[0m\u001b[0mjson\u001b[0m\u001b[0;34m,\u001b[0m \u001b[0;34m**\u001b[0m\u001b[0mkwargs\u001b[0m\u001b[0;34m)\u001b[0m\u001b[0;34m.\u001b[0m\u001b[0mparse\u001b[0m\u001b[0;34m(\u001b[0m\u001b[0;34m)\u001b[0m\u001b[0;34m\u001b[0m\u001b[0;34m\u001b[0m\u001b[0m\n\u001b[0m\u001b[1;32m    717\u001b[0m \u001b[0;34m\u001b[0m\u001b[0m\n\u001b[1;32m    718\u001b[0m         \u001b[0;32mif\u001b[0m \u001b[0mtyp\u001b[0m \u001b[0;34m==\u001b[0m \u001b[0;34m\"series\"\u001b[0m \u001b[0;32mor\u001b[0m \u001b[0mobj\u001b[0m \u001b[0;32mis\u001b[0m \u001b[0;32mNone\u001b[0m\u001b[0;34m:\u001b[0m\u001b[0;34m\u001b[0m\u001b[0;34m\u001b[0m\u001b[0m\n",
      "\u001b[0;32m~/anaconda3/lib/python3.8/site-packages/pandas/io/json/_json.py\u001b[0m in \u001b[0;36mparse\u001b[0;34m(self)\u001b[0m\n\u001b[1;32m    829\u001b[0m \u001b[0;34m\u001b[0m\u001b[0m\n\u001b[1;32m    830\u001b[0m         \u001b[0;32melse\u001b[0m\u001b[0;34m:\u001b[0m\u001b[0;34m\u001b[0m\u001b[0;34m\u001b[0m\u001b[0m\n\u001b[0;32m--> 831\u001b[0;31m             \u001b[0mself\u001b[0m\u001b[0;34m.\u001b[0m\u001b[0m_parse_no_numpy\u001b[0m\u001b[0;34m(\u001b[0m\u001b[0;34m)\u001b[0m\u001b[0;34m\u001b[0m\u001b[0;34m\u001b[0m\u001b[0m\n\u001b[0m\u001b[1;32m    832\u001b[0m \u001b[0;34m\u001b[0m\u001b[0m\n\u001b[1;32m    833\u001b[0m         \u001b[0;32mif\u001b[0m \u001b[0mself\u001b[0m\u001b[0;34m.\u001b[0m\u001b[0mobj\u001b[0m \u001b[0;32mis\u001b[0m \u001b[0;32mNone\u001b[0m\u001b[0;34m:\u001b[0m\u001b[0;34m\u001b[0m\u001b[0;34m\u001b[0m\u001b[0m\n",
      "\u001b[0;32m~/anaconda3/lib/python3.8/site-packages/pandas/io/json/_json.py\u001b[0m in \u001b[0;36m_parse_no_numpy\u001b[0;34m(self)\u001b[0m\n\u001b[1;32m   1076\u001b[0m \u001b[0;34m\u001b[0m\u001b[0m\n\u001b[1;32m   1077\u001b[0m         \u001b[0;32mif\u001b[0m \u001b[0morient\u001b[0m \u001b[0;34m==\u001b[0m \u001b[0;34m\"columns\"\u001b[0m\u001b[0;34m:\u001b[0m\u001b[0;34m\u001b[0m\u001b[0;34m\u001b[0m\u001b[0m\n\u001b[0;32m-> 1078\u001b[0;31m             self.obj = DataFrame(\n\u001b[0m\u001b[1;32m   1079\u001b[0m                 \u001b[0mloads\u001b[0m\u001b[0;34m(\u001b[0m\u001b[0mjson\u001b[0m\u001b[0;34m,\u001b[0m \u001b[0mprecise_float\u001b[0m\u001b[0;34m=\u001b[0m\u001b[0mself\u001b[0m\u001b[0;34m.\u001b[0m\u001b[0mprecise_float\u001b[0m\u001b[0;34m)\u001b[0m\u001b[0;34m,\u001b[0m \u001b[0mdtype\u001b[0m\u001b[0;34m=\u001b[0m\u001b[0;32mNone\u001b[0m\u001b[0;34m\u001b[0m\u001b[0;34m\u001b[0m\u001b[0m\n\u001b[1;32m   1080\u001b[0m             )\n",
      "\u001b[0;32m~/anaconda3/lib/python3.8/site-packages/pandas/core/frame.py\u001b[0m in \u001b[0;36m__init__\u001b[0;34m(self, data, index, columns, dtype, copy)\u001b[0m\n\u001b[1;32m    527\u001b[0m \u001b[0;34m\u001b[0m\u001b[0m\n\u001b[1;32m    528\u001b[0m         \u001b[0;32melif\u001b[0m \u001b[0misinstance\u001b[0m\u001b[0;34m(\u001b[0m\u001b[0mdata\u001b[0m\u001b[0;34m,\u001b[0m \u001b[0mdict\u001b[0m\u001b[0;34m)\u001b[0m\u001b[0;34m:\u001b[0m\u001b[0;34m\u001b[0m\u001b[0;34m\u001b[0m\u001b[0m\n\u001b[0;32m--> 529\u001b[0;31m             \u001b[0mmgr\u001b[0m \u001b[0;34m=\u001b[0m \u001b[0minit_dict\u001b[0m\u001b[0;34m(\u001b[0m\u001b[0mdata\u001b[0m\u001b[0;34m,\u001b[0m \u001b[0mindex\u001b[0m\u001b[0;34m,\u001b[0m \u001b[0mcolumns\u001b[0m\u001b[0;34m,\u001b[0m \u001b[0mdtype\u001b[0m\u001b[0;34m=\u001b[0m\u001b[0mdtype\u001b[0m\u001b[0;34m)\u001b[0m\u001b[0;34m\u001b[0m\u001b[0;34m\u001b[0m\u001b[0m\n\u001b[0m\u001b[1;32m    530\u001b[0m         \u001b[0;32melif\u001b[0m \u001b[0misinstance\u001b[0m\u001b[0;34m(\u001b[0m\u001b[0mdata\u001b[0m\u001b[0;34m,\u001b[0m \u001b[0mma\u001b[0m\u001b[0;34m.\u001b[0m\u001b[0mMaskedArray\u001b[0m\u001b[0;34m)\u001b[0m\u001b[0;34m:\u001b[0m\u001b[0;34m\u001b[0m\u001b[0;34m\u001b[0m\u001b[0m\n\u001b[1;32m    531\u001b[0m             \u001b[0;32mimport\u001b[0m \u001b[0mnumpy\u001b[0m\u001b[0;34m.\u001b[0m\u001b[0mma\u001b[0m\u001b[0;34m.\u001b[0m\u001b[0mmrecords\u001b[0m \u001b[0;32mas\u001b[0m \u001b[0mmrecords\u001b[0m\u001b[0;34m\u001b[0m\u001b[0;34m\u001b[0m\u001b[0m\n",
      "\u001b[0;32m~/anaconda3/lib/python3.8/site-packages/pandas/core/internals/construction.py\u001b[0m in \u001b[0;36minit_dict\u001b[0;34m(data, index, columns, dtype)\u001b[0m\n\u001b[1;32m    285\u001b[0m             \u001b[0marr\u001b[0m \u001b[0;32mif\u001b[0m \u001b[0;32mnot\u001b[0m \u001b[0mis_datetime64tz_dtype\u001b[0m\u001b[0;34m(\u001b[0m\u001b[0marr\u001b[0m\u001b[0;34m)\u001b[0m \u001b[0;32melse\u001b[0m \u001b[0marr\u001b[0m\u001b[0;34m.\u001b[0m\u001b[0mcopy\u001b[0m\u001b[0;34m(\u001b[0m\u001b[0;34m)\u001b[0m \u001b[0;32mfor\u001b[0m \u001b[0marr\u001b[0m \u001b[0;32min\u001b[0m \u001b[0marrays\u001b[0m\u001b[0;34m\u001b[0m\u001b[0;34m\u001b[0m\u001b[0m\n\u001b[1;32m    286\u001b[0m         ]\n\u001b[0;32m--> 287\u001b[0;31m     \u001b[0;32mreturn\u001b[0m \u001b[0marrays_to_mgr\u001b[0m\u001b[0;34m(\u001b[0m\u001b[0marrays\u001b[0m\u001b[0;34m,\u001b[0m \u001b[0mdata_names\u001b[0m\u001b[0;34m,\u001b[0m \u001b[0mindex\u001b[0m\u001b[0;34m,\u001b[0m \u001b[0mcolumns\u001b[0m\u001b[0;34m,\u001b[0m \u001b[0mdtype\u001b[0m\u001b[0;34m=\u001b[0m\u001b[0mdtype\u001b[0m\u001b[0;34m)\u001b[0m\u001b[0;34m\u001b[0m\u001b[0;34m\u001b[0m\u001b[0m\n\u001b[0m\u001b[1;32m    288\u001b[0m \u001b[0;34m\u001b[0m\u001b[0m\n\u001b[1;32m    289\u001b[0m \u001b[0;34m\u001b[0m\u001b[0m\n",
      "\u001b[0;32m~/anaconda3/lib/python3.8/site-packages/pandas/core/internals/construction.py\u001b[0m in \u001b[0;36marrays_to_mgr\u001b[0;34m(arrays, arr_names, index, columns, dtype, verify_integrity)\u001b[0m\n\u001b[1;32m     78\u001b[0m         \u001b[0;31m# figure out the index, if necessary\u001b[0m\u001b[0;34m\u001b[0m\u001b[0;34m\u001b[0m\u001b[0;34m\u001b[0m\u001b[0m\n\u001b[1;32m     79\u001b[0m         \u001b[0;32mif\u001b[0m \u001b[0mindex\u001b[0m \u001b[0;32mis\u001b[0m \u001b[0;32mNone\u001b[0m\u001b[0;34m:\u001b[0m\u001b[0;34m\u001b[0m\u001b[0;34m\u001b[0m\u001b[0m\n\u001b[0;32m---> 80\u001b[0;31m             \u001b[0mindex\u001b[0m \u001b[0;34m=\u001b[0m \u001b[0mextract_index\u001b[0m\u001b[0;34m(\u001b[0m\u001b[0marrays\u001b[0m\u001b[0;34m)\u001b[0m\u001b[0;34m\u001b[0m\u001b[0;34m\u001b[0m\u001b[0m\n\u001b[0m\u001b[1;32m     81\u001b[0m         \u001b[0;32melse\u001b[0m\u001b[0;34m:\u001b[0m\u001b[0;34m\u001b[0m\u001b[0;34m\u001b[0m\u001b[0m\n\u001b[1;32m     82\u001b[0m             \u001b[0mindex\u001b[0m \u001b[0;34m=\u001b[0m \u001b[0mensure_index\u001b[0m\u001b[0;34m(\u001b[0m\u001b[0mindex\u001b[0m\u001b[0;34m)\u001b[0m\u001b[0;34m\u001b[0m\u001b[0;34m\u001b[0m\u001b[0m\n",
      "\u001b[0;32m~/anaconda3/lib/python3.8/site-packages/pandas/core/internals/construction.py\u001b[0m in \u001b[0;36mextract_index\u001b[0;34m(data)\u001b[0m\n\u001b[1;32m    399\u001b[0m             \u001b[0mlengths\u001b[0m \u001b[0;34m=\u001b[0m \u001b[0mlist\u001b[0m\u001b[0;34m(\u001b[0m\u001b[0mset\u001b[0m\u001b[0;34m(\u001b[0m\u001b[0mraw_lengths\u001b[0m\u001b[0;34m)\u001b[0m\u001b[0;34m)\u001b[0m\u001b[0;34m\u001b[0m\u001b[0;34m\u001b[0m\u001b[0m\n\u001b[1;32m    400\u001b[0m             \u001b[0;32mif\u001b[0m \u001b[0mlen\u001b[0m\u001b[0;34m(\u001b[0m\u001b[0mlengths\u001b[0m\u001b[0;34m)\u001b[0m \u001b[0;34m>\u001b[0m \u001b[0;36m1\u001b[0m\u001b[0;34m:\u001b[0m\u001b[0;34m\u001b[0m\u001b[0;34m\u001b[0m\u001b[0m\n\u001b[0;32m--> 401\u001b[0;31m                 \u001b[0;32mraise\u001b[0m \u001b[0mValueError\u001b[0m\u001b[0;34m(\u001b[0m\u001b[0;34m\"arrays must all be same length\"\u001b[0m\u001b[0;34m)\u001b[0m\u001b[0;34m\u001b[0m\u001b[0;34m\u001b[0m\u001b[0m\n\u001b[0m\u001b[1;32m    402\u001b[0m \u001b[0;34m\u001b[0m\u001b[0m\n\u001b[1;32m    403\u001b[0m             \u001b[0;32mif\u001b[0m \u001b[0mhave_dicts\u001b[0m\u001b[0;34m:\u001b[0m\u001b[0;34m\u001b[0m\u001b[0;34m\u001b[0m\u001b[0m\n",
      "\u001b[0;31mValueError\u001b[0m: arrays must all be same length"
     ]
    }
   ],
   "source": [
    "#Qué estoy haciendo mal? \n",
    "df = pd.read_json(r'../datos/datos_twitter/prueba.json')\n",
    "df.to_csv (r'../datos/datos_twitter/prueba1.csv')   "
   ]
  },
  {
   "cell_type": "code",
   "execution_count": null,
   "id": "748e7a76",
   "metadata": {},
   "outputs": [],
   "source": []
  }
 ],
 "metadata": {
  "kernelspec": {
   "display_name": "Python 3",
   "language": "python",
   "name": "python3"
  },
  "language_info": {
   "codemirror_mode": {
    "name": "ipython",
    "version": 3
   },
   "file_extension": ".py",
   "mimetype": "text/x-python",
   "name": "python",
   "nbconvert_exporter": "python",
   "pygments_lexer": "ipython3",
   "version": "3.8.8"
  }
 },
 "nbformat": 4,
 "nbformat_minor": 5
}
