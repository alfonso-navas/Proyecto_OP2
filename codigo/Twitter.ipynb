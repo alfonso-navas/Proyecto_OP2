{
 "cells": [
  {
   "cell_type": "markdown",
   "id": "f7a179cc",
   "metadata": {},
   "source": [
    "# Extracción de datos de Twitter por medio de API \n",
    "\n",
    "API (Application Programming Interfaces), en español, interfaz de programación de aplicaciones, definiciones y protocolos que se utiliza para desarrollar e integrar el software de las aplicaciones, permitiendo la comunicación entre dos aplicaciones de software a través de un conjunto de reglas. Éstas dependen de las aplicaciones que se van a utilizar, y de los permisos que les dé el propietario de la API a los desarrolladores de terceros.\n",
    "\n",
    "## API de twitter\n",
    "Específicamente, utilizaremos la API de Twitter para extraer y analizar tweets, y de esta manera obtener información sobre la incidencia de COVID-19 en Venezuela.\n",
    "\n",
    "**Twarc** Bibilioteca de Python utilizada para acceder a la API de Twitter.\n",
    "\n",
    "**Pasos a seguir para poder utilizar esta aplicación**\n",
    "- Tener una cuenta en la red social de Twitter.\n",
    "- Solicitar una cuenta de desarrollador; al ser aprobada, crear una aplicación para poder extraer los datos de Twitter.\n",
    "- Extraer las credenciales de permiso (API KEY, API SECRET, ACCESS TOKEN, ACCESS TOKEN SECRET).\n"
   ]
  },
  {
   "cell_type": "markdown",
   "id": "f0970df2",
   "metadata": {},
   "source": [
    "Importamos las bibliotecas con las que vamos a trabajar"
   ]
  },
  {
   "cell_type": "code",
   "execution_count": 2,
   "id": "dd96c20e",
   "metadata": {},
   "outputs": [],
   "source": [
    "import twarc \n",
    "import datetime\n",
    "import itertools\n",
    "from twarc.client2 import Twarc2\n",
    "import json\n",
    "import pandas as pd\n",
    "import seaborn as sns\n",
    "import matplotlib.pyplot as plt \n"
   ]
  },
  {
   "cell_type": "markdown",
   "id": "d8ff7f69",
   "metadata": {},
   "source": [
    "Hacemos la autenticación mediante el bearer token"
   ]
  },
  {
   "cell_type": "code",
   "execution_count": 44,
   "id": "bd38a6bd",
   "metadata": {},
   "outputs": [],
   "source": [
    "t = Twarc2(bearer_token=\"AAAAAAAAAAAAAAAAAAAAABmzOgEAAAAAAdXaEdw8lrDMBtPj%2BwY318SBBmk%3DCvdZpj9aQg2ORVIfm0glUMXBNSm1yoDl1Zp1ifSRh3Lf6j6QEm\")"
   ]
  },
  {
   "cell_type": "markdown",
   "id": "2b2f3912",
   "metadata": {},
   "source": [
    "La consulta la definimos entre el período comprendido entre el 13 de marzo de 2020 hasta el 8 de mayo de 2021. Para eso definimos las variables 'fecha de inicio', 'fecha final'. "
   ]
  },
  {
   "cell_type": "code",
   "execution_count": 45,
   "id": "1f135232",
   "metadata": {},
   "outputs": [],
   "source": [
    "start_time = datetime.datetime(2020, 3, 13, 0, 0, 0, 0, datetime.timezone.utc)\n",
    "end_time = datetime.datetime(2021, 5, 8, 0, 0, 0, 0, datetime.timezone.utc)"
   ]
  },
  {
   "cell_type": "markdown",
   "id": "8b8b17df",
   "metadata": {},
   "source": [
    "La consulta está determinada por las siguientes frases o palabras claves: \n",
    "\n",
    "**Palabras claves** \n",
    "- covid-19\n",
    "- coronavirus\n",
    "- infectado covid-19\n",
    "- muerte covid-19\n",
    "- bombona de oxígeno\n",
    "- dexametasona\n",
    "- GoFoundMe venezuela (con link)\n",
    "- recolectar dinero\n",
    "- flujómetro de oxígeno\n",
    "- Tratamiento covid-19\n",
    "- UCI covid-19\n",
    "\n",
    "**Filtros**\n",
    "\n",
    "- No retweets\n",
    "- País: venezuela\n"
   ]
  },
  {
   "cell_type": "markdown",
   "id": "9a1aad1d",
   "metadata": {},
   "source": [
    "**Colección de todos los datos** \n"
   ]
  },
  {
   "cell_type": "markdown",
   "id": "917014e7",
   "metadata": {},
   "source": [
    "Leer los datos que se encuentran en un archivo .csv, con la columna 'created_at' como fecha; luego, pedir su forma."
   ]
  },
  {
   "cell_type": "code",
   "execution_count": 23,
   "id": "feb98752",
   "metadata": {},
   "outputs": [
    {
     "data": {
      "text/plain": [
       "(1124, 2)"
      ]
     },
     "execution_count": 23,
     "metadata": {},
     "output_type": "execute_result"
    }
   ],
   "source": [
    "data = pd.read_csv('data.csv', parse_dates=['created_at']) \n",
    "data.shape "
   ]
  },
  {
   "cell_type": "markdown",
   "id": "8ff264be",
   "metadata": {},
   "source": [
    "Convertir la columna a fecha."
   ]
  },
  {
   "cell_type": "code",
   "execution_count": 17,
   "id": "6ce1fec6",
   "metadata": {},
   "outputs": [],
   "source": [
    "data['created_at'] = pd.to_datetime(data['created_at'], format='%Y-%m-%d', errors='coerce')"
   ]
  },
  {
   "cell_type": "markdown",
   "id": "ea9429ec",
   "metadata": {},
   "source": [
    "Crear nuevas variables en el dataframe con el día, mes y año."
   ]
  },
  {
   "cell_type": "markdown",
   "id": "41f857b6",
   "metadata": {},
   "source": [
    "Crear un nuevo dataframe donde se agrupan las entradas con el mismo día, mes y año. El dataframe va a tener como índice la fecha en Y/M/D y como valor el número de tweets para ese día."
   ]
  },
  {
   "cell_type": "code",
   "execution_count": 18,
   "id": "48eec641",
   "metadata": {},
   "outputs": [],
   "source": [
    "time_series_with_counts = data.groupby(data['created_at'].dt.floor('d')).size()"
   ]
  },
  {
   "cell_type": "markdown",
   "id": "ddc2487f",
   "metadata": {},
   "source": [
    "Remover las filas que sean iguales, es decir, los tweets que estén repetidos. "
   ]
  },
  {
   "cell_type": "code",
   "execution_count": 19,
   "id": "ddbc1662",
   "metadata": {},
   "outputs": [
    {
     "data": {
      "text/html": [
       "<div>\n",
       "<style scoped>\n",
       "    .dataframe tbody tr th:only-of-type {\n",
       "        vertical-align: middle;\n",
       "    }\n",
       "\n",
       "    .dataframe tbody tr th {\n",
       "        vertical-align: top;\n",
       "    }\n",
       "\n",
       "    .dataframe thead th {\n",
       "        text-align: right;\n",
       "    }\n",
       "</style>\n",
       "<table border=\"1\" class=\"dataframe\">\n",
       "  <thead>\n",
       "    <tr style=\"text-align: right;\">\n",
       "      <th></th>\n",
       "      <th>created_at</th>\n",
       "      <th>text</th>\n",
       "    </tr>\n",
       "  </thead>\n",
       "  <tbody>\n",
       "    <tr>\n",
       "      <th>0</th>\n",
       "      <td>2021-04-28 23:17:21+00:00</td>\n",
       "      <td>Venezuela: el país donde el fiscal general qui...</td>\n",
       "    </tr>\n",
       "    <tr>\n",
       "      <th>1</th>\n",
       "      <td>2021-04-26 05:21:31+00:00</td>\n",
       "      <td>@the_efosa Hi, I'm a desperate son loocking fo...</td>\n",
       "    </tr>\n",
       "    <tr>\n",
       "      <th>2</th>\n",
       "      <td>2021-04-19 05:30:00+00:00</td>\n",
       "      <td>#VENEZUELAENELMUNDO | Es una realidad que, la ...</td>\n",
       "    </tr>\n",
       "    <tr>\n",
       "      <th>3</th>\n",
       "      <td>2021-04-19 02:08:17+00:00</td>\n",
       "      <td>Aún falta mucho, todavía los familiares de Ani...</td>\n",
       "    </tr>\n",
       "    <tr>\n",
       "      <th>4</th>\n",
       "      <td>2021-04-18 22:00:00+00:00</td>\n",
       "      <td>#VENEZUELAENELMUNDO | Es una realidad que, la ...</td>\n",
       "    </tr>\n",
       "    <tr>\n",
       "      <th>...</th>\n",
       "      <td>...</td>\n",
       "      <td>...</td>\n",
       "    </tr>\n",
       "    <tr>\n",
       "      <th>1119</th>\n",
       "      <td>2021-05-03 14:59:27+00:00</td>\n",
       "      <td>Con una inversión de 180mil millones de Bs\\nSe...</td>\n",
       "    </tr>\n",
       "    <tr>\n",
       "      <th>1120</th>\n",
       "      <td>2021-05-03 14:13:10+00:00</td>\n",
       "      <td>El Gobernador @EdwinRojasM indicó que la unida...</td>\n",
       "    </tr>\n",
       "    <tr>\n",
       "      <th>1121</th>\n",
       "      <td>2021-05-03 12:11:49+00:00</td>\n",
       "      <td>Gobernador @EdwinRojasM Siempre pensando en su...</td>\n",
       "    </tr>\n",
       "    <tr>\n",
       "      <th>1122</th>\n",
       "      <td>2021-05-01 16:35:13+00:00</td>\n",
       "      <td>Hermana. El murió primero. En Valencia. Ella m...</td>\n",
       "    </tr>\n",
       "    <tr>\n",
       "      <th>1123</th>\n",
       "      <td>2021-05-01 06:30:06+00:00</td>\n",
       "      <td>#1Mayo ¡Promesa Cumplida! Nueva unidad de cuid...</td>\n",
       "    </tr>\n",
       "  </tbody>\n",
       "</table>\n",
       "<p>1109 rows × 2 columns</p>\n",
       "</div>"
      ],
      "text/plain": [
       "                    created_at  \\\n",
       "0    2021-04-28 23:17:21+00:00   \n",
       "1    2021-04-26 05:21:31+00:00   \n",
       "2    2021-04-19 05:30:00+00:00   \n",
       "3    2021-04-19 02:08:17+00:00   \n",
       "4    2021-04-18 22:00:00+00:00   \n",
       "...                        ...   \n",
       "1119 2021-05-03 14:59:27+00:00   \n",
       "1120 2021-05-03 14:13:10+00:00   \n",
       "1121 2021-05-03 12:11:49+00:00   \n",
       "1122 2021-05-01 16:35:13+00:00   \n",
       "1123 2021-05-01 06:30:06+00:00   \n",
       "\n",
       "                                                   text  \n",
       "0     Venezuela: el país donde el fiscal general qui...  \n",
       "1     @the_efosa Hi, I'm a desperate son loocking fo...  \n",
       "2     #VENEZUELAENELMUNDO | Es una realidad que, la ...  \n",
       "3     Aún falta mucho, todavía los familiares de Ani...  \n",
       "4     #VENEZUELAENELMUNDO | Es una realidad que, la ...  \n",
       "...                                                 ...  \n",
       "1119  Con una inversión de 180mil millones de Bs\\nSe...  \n",
       "1120  El Gobernador @EdwinRojasM indicó que la unida...  \n",
       "1121  Gobernador @EdwinRojasM Siempre pensando en su...  \n",
       "1122  Hermana. El murió primero. En Valencia. Ella m...  \n",
       "1123  #1Mayo ¡Promesa Cumplida! Nueva unidad de cuid...  \n",
       "\n",
       "[1109 rows x 2 columns]"
      ]
     },
     "execution_count": 19,
     "metadata": {},
     "output_type": "execute_result"
    }
   ],
   "source": [
    "data.drop_duplicates(keep='first')"
   ]
  },
  {
   "cell_type": "code",
   "execution_count": 20,
   "id": "585f7dbc",
   "metadata": {},
   "outputs": [],
   "source": [
    "#ax = time_series_with_counts['created_at'].plot()\n",
    "#ax.set_title('Tweets')\n",
    "#ax.set_ylabel('count')"
   ]
  },
  {
   "cell_type": "code",
   "execution_count": 22,
   "id": "00c3952d",
   "metadata": {},
   "outputs": [
    {
     "data": {
      "text/plain": [
       "<AxesSubplot:xlabel='created_at'>"
      ]
     },
     "execution_count": 22,
     "metadata": {},
     "output_type": "execute_result"
    },
    {
     "data": {
      "image/png": "[encoded data removed]",
      "text/plain": [
       "<Figure size 1440x288 with 1 Axes>"
      ]
     },
     "metadata": {},
     "output_type": "display_data"
    }
   ],
   "source": [
    "sns.set(rc={'figure.figsize':(20, 4)})\n",
    "time_series_with_counts.plot()"
   ]
  },
  {
   "cell_type": "code",
   "execution_count": null,
   "id": "b1cdf04f",
   "metadata": {},
   "outputs": [],
   "source": []
  },
  {
   "cell_type": "code",
   "execution_count": null,
   "id": "17ebe545",
   "metadata": {},
   "outputs": [],
   "source": []
  },
  {
   "cell_type": "code",
   "execution_count": null,
   "id": "f5167118",
   "metadata": {},
   "outputs": [],
   "source": []
  },
  {
   "cell_type": "markdown",
   "id": "f46b39a6",
   "metadata": {},
   "source": [
    "**Búsqueda**\n",
    "\n",
    "- covid-19\n",
    "- coronavirus"
   ]
  },
  {
   "cell_type": "code",
   "execution_count": 40,
   "id": "32d23de2",
   "metadata": {},
   "outputs": [],
   "source": [
    "search_results = t.search_all(query=\"covid-19 place_country:VE -is:retweet OR coronavirus place_country:VE -is:retweet\", start_time=start_time, end_time=end_time)"
   ]
  },
  {
   "cell_type": "markdown",
   "id": "65250cad",
   "metadata": {},
   "source": [
    "Obtener todas las páginas de resultados "
   ]
  },
  {
   "cell_type": "code",
   "execution_count": 58,
   "id": "ef959b9f",
   "metadata": {},
   "outputs": [],
   "source": [
    "for page in search_results:\n",
    "    with open(\"Datos.json\", \"w+\") as f:\n",
    "        f.write(json.dumps(page) + \"\\n\")\n"
   ]
  },
  {
   "cell_type": "code",
   "execution_count": 507,
   "id": "a6ee4a21",
   "metadata": {},
   "outputs": [
    {
     "data": {
      "text/plain": [
       "(435, 2)"
      ]
     },
     "execution_count": 507,
     "metadata": {},
     "output_type": "execute_result"
    }
   ],
   "source": [
    "datos_twitter = pd.read_csv('datos_twitter.csv', parse_dates=['created_at'])  \n",
    "datos_twitter.shape "
   ]
  },
  {
   "cell_type": "code",
   "execution_count": 508,
   "id": "2d7b973f",
   "metadata": {},
   "outputs": [],
   "source": [
    "datos_twitter['created_at'] = pd.to_datetime(datos_twitter['created_at'], format='%Y-%m-%d', errors='coerce')\n"
   ]
  },
  {
   "cell_type": "code",
   "execution_count": 509,
   "id": "ee17a05b",
   "metadata": {},
   "outputs": [],
   "source": [
    "datos_twitter['day'] = datos_twitter['created_at'].dt.day\n",
    "datos_twitter['year'] = datos_twitter['created_at'].dt.year\n",
    "datos_twitter['month'] = datos_twitter['created_at'].dt.month  "
   ]
  },
  {
   "cell_type": "code",
   "execution_count": 510,
   "id": "b90838f7",
   "metadata": {},
   "outputs": [
    {
     "data": {
      "text/html": [
       "<div>\n",
       "<style scoped>\n",
       "    .dataframe tbody tr th:only-of-type {\n",
       "        vertical-align: middle;\n",
       "    }\n",
       "\n",
       "    .dataframe tbody tr th {\n",
       "        vertical-align: top;\n",
       "    }\n",
       "\n",
       "    .dataframe thead th {\n",
       "        text-align: right;\n",
       "    }\n",
       "</style>\n",
       "<table border=\"1\" class=\"dataframe\">\n",
       "  <thead>\n",
       "    <tr style=\"text-align: right;\">\n",
       "      <th></th>\n",
       "      <th>created_at</th>\n",
       "      <th>text</th>\n",
       "      <th>day</th>\n",
       "      <th>year</th>\n",
       "      <th>month</th>\n",
       "    </tr>\n",
       "  </thead>\n",
       "  <tbody>\n",
       "    <tr>\n",
       "      <th>0</th>\n",
       "      <td>2020-03-13 15:42:04+00:00</td>\n",
       "      <td>#Coronavirus || Cambia la forma de saludar, no...</td>\n",
       "      <td>13.0</td>\n",
       "      <td>2020.0</td>\n",
       "      <td>3.0</td>\n",
       "    </tr>\n",
       "    <tr>\n",
       "      <th>1</th>\n",
       "      <td>2020-03-13 15:41:55+00:00</td>\n",
       "      <td>HABEMUS COVID_19</td>\n",
       "      <td>13.0</td>\n",
       "      <td>2020.0</td>\n",
       "      <td>3.0</td>\n",
       "    </tr>\n",
       "    <tr>\n",
       "      <th>2</th>\n",
       "      <td>2020-03-13 15:39:45+00:00</td>\n",
       "      <td>CUIDADO ESL CORONAVIRUS NO ES JUEGO en Los Teq...</td>\n",
       "      <td>13.0</td>\n",
       "      <td>2020.0</td>\n",
       "      <td>3.0</td>\n",
       "    </tr>\n",
       "    <tr>\n",
       "      <th>3</th>\n",
       "      <td>2020-03-13 15:39:39+00:00</td>\n",
       "      <td>Le pedimos a la @opsoms que atienda el caso de...</td>\n",
       "      <td>13.0</td>\n",
       "      <td>2020.0</td>\n",
       "      <td>3.0</td>\n",
       "    </tr>\n",
       "    <tr>\n",
       "      <th>4</th>\n",
       "      <td>2020-03-13 15:39:26+00:00</td>\n",
       "      <td>A partir de éste momento, los que hace una sem...</td>\n",
       "      <td>13.0</td>\n",
       "      <td>2020.0</td>\n",
       "      <td>3.0</td>\n",
       "    </tr>\n",
       "    <tr>\n",
       "      <th>...</th>\n",
       "      <td>...</td>\n",
       "      <td>...</td>\n",
       "      <td>...</td>\n",
       "      <td>...</td>\n",
       "      <td>...</td>\n",
       "    </tr>\n",
       "    <tr>\n",
       "      <th>430</th>\n",
       "      <td>2020-03-13 00:08:39+00:00</td>\n",
       "      <td>Y con el #Covid_19 rodando. Peligroso el metro...</td>\n",
       "      <td>13.0</td>\n",
       "      <td>2020.0</td>\n",
       "      <td>3.0</td>\n",
       "    </tr>\n",
       "    <tr>\n",
       "      <th>431</th>\n",
       "      <td>2020-03-13 00:05:42+00:00</td>\n",
       "      <td>Es válido hacer concurso de quien usa mejor un...</td>\n",
       "      <td>13.0</td>\n",
       "      <td>2020.0</td>\n",
       "      <td>3.0</td>\n",
       "    </tr>\n",
       "    <tr>\n",
       "      <th>432</th>\n",
       "      <td>2020-03-13 00:04:57+00:00</td>\n",
       "      <td>Me acabo de comer unos mangos con adobo de el ...</td>\n",
       "      <td>13.0</td>\n",
       "      <td>2020.0</td>\n",
       "      <td>3.0</td>\n",
       "    </tr>\n",
       "    <tr>\n",
       "      <th>433</th>\n",
       "      <td>2020-03-13 00:04:19+00:00</td>\n",
       "      <td>@ansalomonico68 La pandemia del coronavirus pa...</td>\n",
       "      <td>13.0</td>\n",
       "      <td>2020.0</td>\n",
       "      <td>3.0</td>\n",
       "    </tr>\n",
       "    <tr>\n",
       "      <th>434</th>\n",
       "      <td>2020-03-13 00:00:50+00:00</td>\n",
       "      <td>@hdgc26 Busca cobres y gasolina antes de q lle...</td>\n",
       "      <td>13.0</td>\n",
       "      <td>2020.0</td>\n",
       "      <td>3.0</td>\n",
       "    </tr>\n",
       "  </tbody>\n",
       "</table>\n",
       "<p>435 rows × 5 columns</p>\n",
       "</div>"
      ],
      "text/plain": [
       "                   created_at  \\\n",
       "0   2020-03-13 15:42:04+00:00   \n",
       "1   2020-03-13 15:41:55+00:00   \n",
       "2   2020-03-13 15:39:45+00:00   \n",
       "3   2020-03-13 15:39:39+00:00   \n",
       "4   2020-03-13 15:39:26+00:00   \n",
       "..                        ...   \n",
       "430 2020-03-13 00:08:39+00:00   \n",
       "431 2020-03-13 00:05:42+00:00   \n",
       "432 2020-03-13 00:04:57+00:00   \n",
       "433 2020-03-13 00:04:19+00:00   \n",
       "434 2020-03-13 00:00:50+00:00   \n",
       "\n",
       "                                                  text   day    year  month  \n",
       "0    #Coronavirus || Cambia la forma de saludar, no...  13.0  2020.0    3.0  \n",
       "1                                     HABEMUS COVID_19  13.0  2020.0    3.0  \n",
       "2    CUIDADO ESL CORONAVIRUS NO ES JUEGO en Los Teq...  13.0  2020.0    3.0  \n",
       "3    Le pedimos a la @opsoms que atienda el caso de...  13.0  2020.0    3.0  \n",
       "4    A partir de éste momento, los que hace una sem...  13.0  2020.0    3.0  \n",
       "..                                                 ...   ...     ...    ...  \n",
       "430  Y con el #Covid_19 rodando. Peligroso el metro...  13.0  2020.0    3.0  \n",
       "431  Es válido hacer concurso de quien usa mejor un...  13.0  2020.0    3.0  \n",
       "432  Me acabo de comer unos mangos con adobo de el ...  13.0  2020.0    3.0  \n",
       "433  @ansalomonico68 La pandemia del coronavirus pa...  13.0  2020.0    3.0  \n",
       "434  @hdgc26 Busca cobres y gasolina antes de q lle...  13.0  2020.0    3.0  \n",
       "\n",
       "[435 rows x 5 columns]"
      ]
     },
     "execution_count": 510,
     "metadata": {},
     "output_type": "execute_result"
    }
   ],
   "source": [
    "datos_twitter.drop_duplicates(keep='first')"
   ]
  },
  {
   "cell_type": "code",
   "execution_count": 511,
   "id": "70a94baf",
   "metadata": {
    "scrolled": true
   },
   "outputs": [],
   "source": [
    "time_series_with_counts = datos_twitter[['created_at','day', 'month','year']].groupby(['day', 'month','year']).agg(['count'])"
   ]
  },
  {
   "cell_type": "code",
   "execution_count": 512,
   "id": "95a77379",
   "metadata": {},
   "outputs": [
    {
     "data": {
      "text/plain": [
       "Text(0, 0.5, 'COVID_19/Coronavirus')"
      ]
     },
     "execution_count": 512,
     "metadata": {},
     "output_type": "execute_result"
    },
    {
     "data": {
      "image/png": "[encoded data removed]",
      "text/plain": [
       "<Figure size 1440x288 with 1 Axes>"
      ]
     },
     "metadata": {},
     "output_type": "display_data"
    }
   ],
   "source": [
    "sns.set(rc={'figure.figsize':(20, 4)})\n",
    "ax = time_series_with_counts.plot()\n",
    "ax.set_ylabel('COVID_19/Coronavirus')"
   ]
  },
  {
   "cell_type": "markdown",
   "id": "fd9d236e",
   "metadata": {},
   "source": [
    "**Búsqueda1**\n",
    "\n",
    "- infectado covid-19\n",
    "- muerte covid-19"
   ]
  },
  {
   "cell_type": "code",
   "execution_count": 72,
   "id": "8b531be9",
   "metadata": {},
   "outputs": [],
   "source": [
    "search_results = t.search_all(query=\"infectado covid-19 place_country:VE -is:retweet OR muerte covid-19 place_country:VE -is:retweet\", start_time=start_time, end_time=end_time)"
   ]
  },
  {
   "cell_type": "code",
   "execution_count": 73,
   "id": "0bddd355",
   "metadata": {},
   "outputs": [],
   "source": [
    "for page in search_results:\n",
    "    with open(\"Datos1.json\", \"w+\") as f:\n",
    "        f.write(json.dumps(page) + \"\\n\")"
   ]
  },
  {
   "cell_type": "code",
   "execution_count": 513,
   "id": "87787758",
   "metadata": {},
   "outputs": [
    {
     "data": {
      "text/plain": [
       "(304, 2)"
      ]
     },
     "execution_count": 513,
     "metadata": {},
     "output_type": "execute_result"
    }
   ],
   "source": [
    "datos_twitter1 = pd.read_csv('datos_twitter1.csv', parse_dates=['created_at']) #leer los datos, con la columna 'created at' como fecha \n",
    "datos_twitter1.shape "
   ]
  },
  {
   "cell_type": "code",
   "execution_count": 514,
   "id": "59d6472f",
   "metadata": {},
   "outputs": [],
   "source": [
    "datos_twitter1['created_at'] = pd.to_datetime(datos_twitter1['created_at'], format='%Y-%m-%d', errors='coerce')\n"
   ]
  },
  {
   "cell_type": "code",
   "execution_count": 515,
   "id": "cddab70c",
   "metadata": {},
   "outputs": [],
   "source": [
    "datos_twitter1['day'] = datos_twitter1['created_at'].dt.day\n",
    "datos_twitter1['year'] = datos_twitter1['created_at'].dt.year\n",
    "datos_twitter1['month'] = datos_twitter1['created_at'].dt.month"
   ]
  },
  {
   "cell_type": "code",
   "execution_count": 516,
   "id": "9e6677a0",
   "metadata": {},
   "outputs": [
    {
     "data": {
      "text/html": [
       "<div>\n",
       "<style scoped>\n",
       "    .dataframe tbody tr th:only-of-type {\n",
       "        vertical-align: middle;\n",
       "    }\n",
       "\n",
       "    .dataframe tbody tr th {\n",
       "        vertical-align: top;\n",
       "    }\n",
       "\n",
       "    .dataframe thead th {\n",
       "        text-align: right;\n",
       "    }\n",
       "</style>\n",
       "<table border=\"1\" class=\"dataframe\">\n",
       "  <thead>\n",
       "    <tr style=\"text-align: right;\">\n",
       "      <th></th>\n",
       "      <th>created_at</th>\n",
       "      <th>text</th>\n",
       "      <th>day</th>\n",
       "      <th>year</th>\n",
       "      <th>month</th>\n",
       "    </tr>\n",
       "  </thead>\n",
       "  <tbody>\n",
       "    <tr>\n",
       "      <th>0</th>\n",
       "      <td>2021-04-28 11:18:54+00:00</td>\n",
       "      <td>Sumado al dolor por la muerte de Aristóbulo Is...</td>\n",
       "      <td>28</td>\n",
       "      <td>2021</td>\n",
       "      <td>4</td>\n",
       "    </tr>\n",
       "    <tr>\n",
       "      <th>1</th>\n",
       "      <td>2021-04-27 13:53:51+00:00</td>\n",
       "      <td>Muy triste por la muerte del profesor Andrés S...</td>\n",
       "      <td>27</td>\n",
       "      <td>2021</td>\n",
       "      <td>4</td>\n",
       "    </tr>\n",
       "    <tr>\n",
       "      <th>2</th>\n",
       "      <td>2021-04-24 17:18:23+00:00</td>\n",
       "      <td>@eloscarale *disminuye las probabilidades de c...</td>\n",
       "      <td>24</td>\n",
       "      <td>2021</td>\n",
       "      <td>4</td>\n",
       "    </tr>\n",
       "    <tr>\n",
       "      <th>3</th>\n",
       "      <td>2021-04-24 14:23:13+00:00</td>\n",
       "      <td>Éste capítulo se llama \"Danzando alrededor de ...</td>\n",
       "      <td>24</td>\n",
       "      <td>2021</td>\n",
       "      <td>4</td>\n",
       "    </tr>\n",
       "    <tr>\n",
       "      <th>4</th>\n",
       "      <td>2021-04-20 00:15:53+00:00</td>\n",
       "      <td>Lamento la muerte del Alcalde  Bastidas, como ...</td>\n",
       "      <td>20</td>\n",
       "      <td>2021</td>\n",
       "      <td>4</td>\n",
       "    </tr>\n",
       "    <tr>\n",
       "      <th>...</th>\n",
       "      <td>...</td>\n",
       "      <td>...</td>\n",
       "      <td>...</td>\n",
       "      <td>...</td>\n",
       "      <td>...</td>\n",
       "    </tr>\n",
       "    <tr>\n",
       "      <th>298</th>\n",
       "      <td>2020-03-16 10:57:21+00:00</td>\n",
       "      <td>URGENTE!!!\\n1er FALLECIDO POR COVID 19 EN     ...</td>\n",
       "      <td>16</td>\n",
       "      <td>2020</td>\n",
       "      <td>3</td>\n",
       "    </tr>\n",
       "    <tr>\n",
       "      <th>299</th>\n",
       "      <td>2020-03-15 01:58:03+00:00</td>\n",
       "      <td>1er FALLECIDO X COVID 19 EN VENEZUELA\\n1RA mue...</td>\n",
       "      <td>15</td>\n",
       "      <td>2020</td>\n",
       "      <td>3</td>\n",
       "    </tr>\n",
       "    <tr>\n",
       "      <th>300</th>\n",
       "      <td>2020-03-13 20:53:23+00:00</td>\n",
       "      <td>#LocalEC | Posible infectado con el covid-19 e...</td>\n",
       "      <td>13</td>\n",
       "      <td>2020</td>\n",
       "      <td>3</td>\n",
       "    </tr>\n",
       "    <tr>\n",
       "      <th>301</th>\n",
       "      <td>2020-03-13 03:18:52+00:00</td>\n",
       "      <td>por Dios si el gobierno negó la muerte de Cháv...</td>\n",
       "      <td>13</td>\n",
       "      <td>2020</td>\n",
       "      <td>3</td>\n",
       "    </tr>\n",
       "    <tr>\n",
       "      <th>303</th>\n",
       "      <td>2021-05-01 11:21:50+00:00</td>\n",
       "      <td>En el enfrentamiento a la covid 19 los colabor...</td>\n",
       "      <td>1</td>\n",
       "      <td>2021</td>\n",
       "      <td>5</td>\n",
       "    </tr>\n",
       "  </tbody>\n",
       "</table>\n",
       "<p>303 rows × 5 columns</p>\n",
       "</div>"
      ],
      "text/plain": [
       "                   created_at  \\\n",
       "0   2021-04-28 11:18:54+00:00   \n",
       "1   2021-04-27 13:53:51+00:00   \n",
       "2   2021-04-24 17:18:23+00:00   \n",
       "3   2021-04-24 14:23:13+00:00   \n",
       "4   2021-04-20 00:15:53+00:00   \n",
       "..                        ...   \n",
       "298 2020-03-16 10:57:21+00:00   \n",
       "299 2020-03-15 01:58:03+00:00   \n",
       "300 2020-03-13 20:53:23+00:00   \n",
       "301 2020-03-13 03:18:52+00:00   \n",
       "303 2021-05-01 11:21:50+00:00   \n",
       "\n",
       "                                                  text  day  year  month  \n",
       "0    Sumado al dolor por la muerte de Aristóbulo Is...   28  2021      4  \n",
       "1    Muy triste por la muerte del profesor Andrés S...   27  2021      4  \n",
       "2    @eloscarale *disminuye las probabilidades de c...   24  2021      4  \n",
       "3    Éste capítulo se llama \"Danzando alrededor de ...   24  2021      4  \n",
       "4    Lamento la muerte del Alcalde  Bastidas, como ...   20  2021      4  \n",
       "..                                                 ...  ...   ...    ...  \n",
       "298  URGENTE!!!\\n1er FALLECIDO POR COVID 19 EN     ...   16  2020      3  \n",
       "299  1er FALLECIDO X COVID 19 EN VENEZUELA\\n1RA mue...   15  2020      3  \n",
       "300  #LocalEC | Posible infectado con el covid-19 e...   13  2020      3  \n",
       "301  por Dios si el gobierno negó la muerte de Cháv...   13  2020      3  \n",
       "303  En el enfrentamiento a la covid 19 los colabor...    1  2021      5  \n",
       "\n",
       "[303 rows x 5 columns]"
      ]
     },
     "execution_count": 516,
     "metadata": {},
     "output_type": "execute_result"
    }
   ],
   "source": [
    "datos_twitter1.drop_duplicates(keep='first')"
   ]
  },
  {
   "cell_type": "code",
   "execution_count": 517,
   "id": "d41b4aa9",
   "metadata": {},
   "outputs": [],
   "source": [
    "time_series_with_counts = datos_twitter1[['created_at','day', 'month','year']].groupby(['day', 'month','year']).agg(['count'])"
   ]
  },
  {
   "cell_type": "code",
   "execution_count": 518,
   "id": "32e0a855",
   "metadata": {},
   "outputs": [
    {
     "data": {
      "text/plain": [
       "Text(0, 0.5, 'Conteo')"
      ]
     },
     "execution_count": 518,
     "metadata": {},
     "output_type": "execute_result"
    },
    {
     "data": {
      "image/png": "[encoded data removed]",
      "text/plain": [
       "<Figure size 1440x288 with 1 Axes>"
      ]
     },
     "metadata": {},
     "output_type": "display_data"
    }
   ],
   "source": [
    "sns.set(rc={'figure.figsize':(20, 4)})\n",
    "ax1 = time_series_with_counts.plot()\n",
    "ax1.set_title('Infectado/Muerte')\n",
    "ax1.set_ylabel('Conteo')"
   ]
  },
  {
   "cell_type": "markdown",
   "id": "c517d7d7",
   "metadata": {},
   "source": [
    "**Búsqueda2**\n",
    "\n",
    "    - oxígeno\n",
    "    - dexametasona"
   ]
  },
  {
   "cell_type": "code",
   "execution_count": 84,
   "id": "1b6933c5",
   "metadata": {},
   "outputs": [],
   "source": [
    "search_results = t.search_all(query=\"oxígeno place_country:VE -is:retweet OR dexametasona place_country:VE -is:retweet\", start_time=start_time, end_time=end_time)"
   ]
  },
  {
   "cell_type": "code",
   "execution_count": 85,
   "id": "c6cd6f7f",
   "metadata": {},
   "outputs": [],
   "source": [
    "for page in search_results:\n",
    "    with open(\"Datos2.json\", \"w+\") as f:\n",
    "        f.write(json.dumps(page) + \"\\n\")"
   ]
  },
  {
   "cell_type": "markdown",
   "id": "72955a6a",
   "metadata": {},
   "source": [
    "**Búsqueda3**\n",
    "\n",
    "- bombona de oxígeno\n",
    "- dexametasona"
   ]
  },
  {
   "cell_type": "code",
   "execution_count": 86,
   "id": "e04fe23b",
   "metadata": {},
   "outputs": [],
   "source": [
    "search_results = t.search_all(query=\"bombona de oxígeno place_country:VE -is:retweet OR dexametasona place_country:VE -is:retweet\", start_time=start_time, end_time=end_time)"
   ]
  },
  {
   "cell_type": "code",
   "execution_count": 87,
   "id": "4eba5d64",
   "metadata": {},
   "outputs": [],
   "source": [
    "for page in search_results:\n",
    "    with open(\"Datos3.json\", \"w+\") as f:\n",
    "        f.write(json.dumps(page) + \"\\n\")"
   ]
  },
  {
   "cell_type": "code",
   "execution_count": 519,
   "id": "cbb3c6a1",
   "metadata": {},
   "outputs": [
    {
     "data": {
      "text/plain": [
       "(212, 3)"
      ]
     },
     "execution_count": 519,
     "metadata": {},
     "output_type": "execute_result"
    }
   ],
   "source": [
    "datos_twitter3 = pd.read_csv('datos_twitter3.csv', parse_dates=['created_at']) #leer los datos, con la columna 'created at' como fecha \n",
    "datos_twitter3.shape "
   ]
  },
  {
   "cell_type": "code",
   "execution_count": 520,
   "id": "a78a0631",
   "metadata": {},
   "outputs": [],
   "source": [
    "datos_twitter3['created_at'] = pd.to_datetime(datos_twitter3['created_at'], format='%Y-%m-%d', errors='coerce')"
   ]
  },
  {
   "cell_type": "code",
   "execution_count": 521,
   "id": "707256e4",
   "metadata": {},
   "outputs": [],
   "source": [
    "datos_twitter3['day'] = datos_twitter3['created_at'].dt.day\n",
    "datos_twitter3['year'] = datos_twitter3['created_at'].dt.year\n",
    "datos_twitter3['month'] = datos_twitter3['created_at'].dt.month"
   ]
  },
  {
   "cell_type": "code",
   "execution_count": 522,
   "id": "e948f2a3",
   "metadata": {},
   "outputs": [
    {
     "data": {
      "text/html": [
       "<div>\n",
       "<style scoped>\n",
       "    .dataframe tbody tr th:only-of-type {\n",
       "        vertical-align: middle;\n",
       "    }\n",
       "\n",
       "    .dataframe tbody tr th {\n",
       "        vertical-align: top;\n",
       "    }\n",
       "\n",
       "    .dataframe thead th {\n",
       "        text-align: right;\n",
       "    }\n",
       "</style>\n",
       "<table border=\"1\" class=\"dataframe\">\n",
       "  <thead>\n",
       "    <tr style=\"text-align: right;\">\n",
       "      <th></th>\n",
       "      <th>created_at</th>\n",
       "      <th>text</th>\n",
       "      <th>Unnamed: 2</th>\n",
       "      <th>day</th>\n",
       "      <th>year</th>\n",
       "      <th>month</th>\n",
       "    </tr>\n",
       "  </thead>\n",
       "  <tbody>\n",
       "    <tr>\n",
       "      <th>0</th>\n",
       "      <td>2021-04-28 17:26:59+00:00</td>\n",
       "      <td>🚑 El hijo de una amiga sufrió la picadura de u...</td>\n",
       "      <td>NaN</td>\n",
       "      <td>28</td>\n",
       "      <td>2021</td>\n",
       "      <td>4</td>\n",
       "    </tr>\n",
       "    <tr>\n",
       "      <th>1</th>\n",
       "      <td>2021-04-24 13:36:31+00:00</td>\n",
       "      <td>Buenos días quien tenga información exacta y n...</td>\n",
       "      <td>NaN</td>\n",
       "      <td>24</td>\n",
       "      <td>2021</td>\n",
       "      <td>4</td>\n",
       "    </tr>\n",
       "    <tr>\n",
       "      <th>2</th>\n",
       "      <td>2021-04-24 13:34:00+00:00</td>\n",
       "      <td>@VirguezFranklin Reflexione!!  Quienes son los...</td>\n",
       "      <td>NaN</td>\n",
       "      <td>24</td>\n",
       "      <td>2021</td>\n",
       "      <td>4</td>\n",
       "    </tr>\n",
       "    <tr>\n",
       "      <th>3</th>\n",
       "      <td>2021-04-24 13:25:07+00:00</td>\n",
       "      <td>Reflexione!!  Quienes son los reales genocidas...</td>\n",
       "      <td>NaN</td>\n",
       "      <td>24</td>\n",
       "      <td>2021</td>\n",
       "      <td>4</td>\n",
       "    </tr>\n",
       "    <tr>\n",
       "      <th>4</th>\n",
       "      <td>2021-04-22 14:07:09+00:00</td>\n",
       "      <td>Muchos pagan lo que no tienen por una bombona ...</td>\n",
       "      <td>NaN</td>\n",
       "      <td>22</td>\n",
       "      <td>2021</td>\n",
       "      <td>4</td>\n",
       "    </tr>\n",
       "    <tr>\n",
       "      <th>...</th>\n",
       "      <td>...</td>\n",
       "      <td>...</td>\n",
       "      <td>...</td>\n",
       "      <td>...</td>\n",
       "      <td>...</td>\n",
       "      <td>...</td>\n",
       "    </tr>\n",
       "    <tr>\n",
       "      <th>207</th>\n",
       "      <td>2020-03-26 02:33:50+00:00</td>\n",
       "      <td>@frasancti @Juliococo No existe bombona de oxí...</td>\n",
       "      <td>NaN</td>\n",
       "      <td>26</td>\n",
       "      <td>2020</td>\n",
       "      <td>3</td>\n",
       "    </tr>\n",
       "    <tr>\n",
       "      <th>208</th>\n",
       "      <td>2020-03-25 17:18:58+00:00</td>\n",
       "      <td>@drodriven2 \\n\\nBuenas tardes camarada, como s...</td>\n",
       "      <td>NaN</td>\n",
       "      <td>25</td>\n",
       "      <td>2020</td>\n",
       "      <td>3</td>\n",
       "    </tr>\n",
       "    <tr>\n",
       "      <th>209</th>\n",
       "      <td>2020-03-17 20:46:32+00:00</td>\n",
       "      <td>@CarlosAranaSan @AnaGabyM07 Trump debe prohibi...</td>\n",
       "      <td>NaN</td>\n",
       "      <td>17</td>\n",
       "      <td>2020</td>\n",
       "      <td>3</td>\n",
       "    </tr>\n",
       "    <tr>\n",
       "      <th>210</th>\n",
       "      <td>2021-05-07 19:17:29+00:00</td>\n",
       "      <td>NaN</td>\n",
       "      <td>@FarmaciaAhinoa Buenas tardes. Por favor me pu...</td>\n",
       "      <td>7</td>\n",
       "      <td>2021</td>\n",
       "      <td>5</td>\n",
       "    </tr>\n",
       "    <tr>\n",
       "      <th>211</th>\n",
       "      <td>2021-05-05 22:41:11+00:00</td>\n",
       "      <td>NaN</td>\n",
       "      <td>Capriles se erige como la gran bombona de oxíg...</td>\n",
       "      <td>5</td>\n",
       "      <td>2021</td>\n",
       "      <td>5</td>\n",
       "    </tr>\n",
       "  </tbody>\n",
       "</table>\n",
       "<p>212 rows × 6 columns</p>\n",
       "</div>"
      ],
      "text/plain": [
       "                   created_at  \\\n",
       "0   2021-04-28 17:26:59+00:00   \n",
       "1   2021-04-24 13:36:31+00:00   \n",
       "2   2021-04-24 13:34:00+00:00   \n",
       "3   2021-04-24 13:25:07+00:00   \n",
       "4   2021-04-22 14:07:09+00:00   \n",
       "..                        ...   \n",
       "207 2020-03-26 02:33:50+00:00   \n",
       "208 2020-03-25 17:18:58+00:00   \n",
       "209 2020-03-17 20:46:32+00:00   \n",
       "210 2021-05-07 19:17:29+00:00   \n",
       "211 2021-05-05 22:41:11+00:00   \n",
       "\n",
       "                                                  text  \\\n",
       "0    🚑 El hijo de una amiga sufrió la picadura de u...   \n",
       "1    Buenos días quien tenga información exacta y n...   \n",
       "2    @VirguezFranklin Reflexione!!  Quienes son los...   \n",
       "3    Reflexione!!  Quienes son los reales genocidas...   \n",
       "4    Muchos pagan lo que no tienen por una bombona ...   \n",
       "..                                                 ...   \n",
       "207  @frasancti @Juliococo No existe bombona de oxí...   \n",
       "208  @drodriven2 \\n\\nBuenas tardes camarada, como s...   \n",
       "209  @CarlosAranaSan @AnaGabyM07 Trump debe prohibi...   \n",
       "210                                                NaN   \n",
       "211                                                NaN   \n",
       "\n",
       "                                            Unnamed: 2  day  year  month  \n",
       "0                                                  NaN   28  2021      4  \n",
       "1                                                  NaN   24  2021      4  \n",
       "2                                                  NaN   24  2021      4  \n",
       "3                                                  NaN   24  2021      4  \n",
       "4                                                  NaN   22  2021      4  \n",
       "..                                                 ...  ...   ...    ...  \n",
       "207                                                NaN   26  2020      3  \n",
       "208                                                NaN   25  2020      3  \n",
       "209                                                NaN   17  2020      3  \n",
       "210  @FarmaciaAhinoa Buenas tardes. Por favor me pu...    7  2021      5  \n",
       "211  Capriles se erige como la gran bombona de oxíg...    5  2021      5  \n",
       "\n",
       "[212 rows x 6 columns]"
      ]
     },
     "execution_count": 522,
     "metadata": {},
     "output_type": "execute_result"
    }
   ],
   "source": [
    "datos_twitter3.drop_duplicates(keep='first')"
   ]
  },
  {
   "cell_type": "code",
   "execution_count": 523,
   "id": "a7ce74fb",
   "metadata": {},
   "outputs": [],
   "source": [
    "time_series_with_counts = datos_twitter3[['created_at','day', 'month','year']].groupby(['day', 'month','year']).agg(['count'])\n"
   ]
  },
  {
   "cell_type": "code",
   "execution_count": 524,
   "id": "abc4f1ad",
   "metadata": {},
   "outputs": [
    {
     "data": {
      "text/plain": [
       "Text(0, 0.5, 'Conteo')"
      ]
     },
     "execution_count": 524,
     "metadata": {},
     "output_type": "execute_result"
    },
    {
     "data": {
      "image/png": "[encoded data removed]",
      "text/plain": [
       "<Figure size 1440x288 with 1 Axes>"
      ]
     },
     "metadata": {},
     "output_type": "display_data"
    }
   ],
   "source": [
    "sns.set(rc={'figure.figsize':(20, 4)})\n",
    "ax2 = time_series_with_counts.plot()\n",
    "ax2.set_title('Bombona de oxígeno/Dexametasona')\n",
    "ax2.set_ylabel('Conteo')\n"
   ]
  },
  {
   "cell_type": "markdown",
   "id": "9819ca7c",
   "metadata": {},
   "source": [
    "**Búsqueda4**\n",
    "\n",
    "- campañas GoFoundMe tratamiento covid\n",
    "- recolectar dinero covid"
   ]
  },
  {
   "cell_type": "code",
   "execution_count": 96,
   "id": "42ecf5e1",
   "metadata": {},
   "outputs": [],
   "source": [
    "search_results = t.search_all(query=\"GoFoundMe venezuela covid -is:retweet OR recolectar dinero covid place_country:VE -is:retweet\", start_time=start_time, end_time=end_time)"
   ]
  },
  {
   "cell_type": "code",
   "execution_count": 97,
   "id": "62a79c82",
   "metadata": {},
   "outputs": [],
   "source": [
    "for page in search_results:\n",
    "    with open(\"Datos4.json\", \"w+\") as f:\n",
    "        f.write(json.dumps(page) + \"\\n\")"
   ]
  },
  {
   "cell_type": "code",
   "execution_count": 525,
   "id": "583d9b05",
   "metadata": {},
   "outputs": [
    {
     "data": {
      "text/plain": [
       "(17, 2)"
      ]
     },
     "execution_count": 525,
     "metadata": {},
     "output_type": "execute_result"
    }
   ],
   "source": [
    "datos_twitter4 = pd.read_csv('datos_twitter4.csv', parse_dates=['created_at']) #leer los datos, con la columna 'created at' como fecha \n",
    "datos_twitter4.shape"
   ]
  },
  {
   "cell_type": "code",
   "execution_count": 526,
   "id": "2e03d6a6",
   "metadata": {},
   "outputs": [],
   "source": [
    "datos_twitter4['created_at'] = pd.to_datetime(datos_twitter4['created_at'], format='%Y-%m-%d', errors='coerce')\n"
   ]
  },
  {
   "cell_type": "code",
   "execution_count": 527,
   "id": "7c6fe9e1",
   "metadata": {},
   "outputs": [],
   "source": [
    "datos_twitter4['day'] = datos_twitter4['created_at'].dt.day\n",
    "datos_twitter4['year'] = datos_twitter4['created_at'].dt.year\n",
    "datos_twitter4['month'] = datos_twitter4['created_at'].dt.month"
   ]
  },
  {
   "cell_type": "code",
   "execution_count": 528,
   "id": "c40e4c60",
   "metadata": {},
   "outputs": [
    {
     "data": {
      "text/html": [
       "<div>\n",
       "<style scoped>\n",
       "    .dataframe tbody tr th:only-of-type {\n",
       "        vertical-align: middle;\n",
       "    }\n",
       "\n",
       "    .dataframe tbody tr th {\n",
       "        vertical-align: top;\n",
       "    }\n",
       "\n",
       "    .dataframe thead th {\n",
       "        text-align: right;\n",
       "    }\n",
       "</style>\n",
       "<table border=\"1\" class=\"dataframe\">\n",
       "  <thead>\n",
       "    <tr style=\"text-align: right;\">\n",
       "      <th></th>\n",
       "      <th>created_at</th>\n",
       "      <th>text</th>\n",
       "      <th>day</th>\n",
       "      <th>year</th>\n",
       "      <th>month</th>\n",
       "    </tr>\n",
       "  </thead>\n",
       "  <tbody>\n",
       "    <tr>\n",
       "      <th>0</th>\n",
       "      <td>2021-04-13 22:54:38+00:00</td>\n",
       "      <td>Qué horrible que en Venezuela todo está colaps...</td>\n",
       "      <td>13</td>\n",
       "      <td>2021</td>\n",
       "      <td>4</td>\n",
       "    </tr>\n",
       "    <tr>\n",
       "      <th>1</th>\n",
       "      <td>2021-04-12 19:53:10+00:00</td>\n",
       "      <td>Desde el #1Abr se han abierto 210 campañas de ...</td>\n",
       "      <td>12</td>\n",
       "      <td>2021</td>\n",
       "      <td>4</td>\n",
       "    </tr>\n",
       "    <tr>\n",
       "      <th>2</th>\n",
       "      <td>2021-04-09 14:42:17+00:00</td>\n",
       "      <td>Venezuela recurre a GoFoundMe para luchar cont...</td>\n",
       "      <td>9</td>\n",
       "      <td>2021</td>\n",
       "      <td>4</td>\n",
       "    </tr>\n",
       "    <tr>\n",
       "      <th>3</th>\n",
       "      <td>2021-04-06 07:08:20+00:00</td>\n",
       "      <td>My Twitter/Facebook feeds are full of GoFoundM...</td>\n",
       "      <td>6</td>\n",
       "      <td>2021</td>\n",
       "      <td>4</td>\n",
       "    </tr>\n",
       "    <tr>\n",
       "      <th>4</th>\n",
       "      <td>2021-04-05 17:46:05+00:00</td>\n",
       "      <td>@Simonovis Con Razón eso explicaría que 👉 El T...</td>\n",
       "      <td>5</td>\n",
       "      <td>2021</td>\n",
       "      <td>4</td>\n",
       "    </tr>\n",
       "    <tr>\n",
       "      <th>5</th>\n",
       "      <td>2021-04-05 06:03:35+00:00</td>\n",
       "      <td>No quiero ver mas gofoundme de personas con co...</td>\n",
       "      <td>5</td>\n",
       "      <td>2021</td>\n",
       "      <td>4</td>\n",
       "    </tr>\n",
       "    <tr>\n",
       "      <th>6</th>\n",
       "      <td>2021-03-31 16:18:05+00:00</td>\n",
       "      <td>Gracias a los que se pondrán de rodillas por V...</td>\n",
       "      <td>31</td>\n",
       "      <td>2021</td>\n",
       "      <td>3</td>\n",
       "    </tr>\n",
       "    <tr>\n",
       "      <th>7</th>\n",
       "      <td>2021-03-29 19:57:40+00:00</td>\n",
       "      <td>Lo cierto es que nadie debería verse en la nec...</td>\n",
       "      <td>29</td>\n",
       "      <td>2021</td>\n",
       "      <td>3</td>\n",
       "    </tr>\n",
       "    <tr>\n",
       "      <th>8</th>\n",
       "      <td>2021-03-29 15:12:22+00:00</td>\n",
       "      <td>Es mi abuelito que está muy mal, si pueden ayu...</td>\n",
       "      <td>29</td>\n",
       "      <td>2021</td>\n",
       "      <td>3</td>\n",
       "    </tr>\n",
       "    <tr>\n",
       "      <th>9</th>\n",
       "      <td>2021-03-29 09:19:13+00:00</td>\n",
       "      <td>Ya no puedo ver más GoFoundMe y gente pidiendo...</td>\n",
       "      <td>29</td>\n",
       "      <td>2021</td>\n",
       "      <td>3</td>\n",
       "    </tr>\n",
       "    <tr>\n",
       "      <th>10</th>\n",
       "      <td>2021-03-28 19:02:38+00:00</td>\n",
       "      <td>@JeanMary_ Que alguien me explique que otra ma...</td>\n",
       "      <td>28</td>\n",
       "      <td>2021</td>\n",
       "      <td>3</td>\n",
       "    </tr>\n",
       "    <tr>\n",
       "      <th>11</th>\n",
       "      <td>2021-03-24 03:21:09+00:00</td>\n",
       "      <td>El tema del covid en Venezuela es súper comple...</td>\n",
       "      <td>24</td>\n",
       "      <td>2021</td>\n",
       "      <td>3</td>\n",
       "    </tr>\n",
       "    <tr>\n",
       "      <th>12</th>\n",
       "      <td>2021-03-01 13:05:51+00:00</td>\n",
       "      <td>Si estás en venezuela, te la pasas rumbeando y...</td>\n",
       "      <td>1</td>\n",
       "      <td>2021</td>\n",
       "      <td>3</td>\n",
       "    </tr>\n",
       "    <tr>\n",
       "      <th>13</th>\n",
       "      <td>2021-01-20 05:43:52+00:00</td>\n",
       "      <td>Qje cantidad de gofoundme pidiendo dinero para...</td>\n",
       "      <td>20</td>\n",
       "      <td>2021</td>\n",
       "      <td>1</td>\n",
       "    </tr>\n",
       "    <tr>\n",
       "      <th>14</th>\n",
       "      <td>2020-12-27 18:17:40+00:00</td>\n",
       "      <td>También hay que tener mucha cautela con esa so...</td>\n",
       "      <td>27</td>\n",
       "      <td>2020</td>\n",
       "      <td>12</td>\n",
       "    </tr>\n",
       "    <tr>\n",
       "      <th>15</th>\n",
       "      <td>2020-10-25 09:24:45+00:00</td>\n",
       "      <td>Yo no soy el más precavido del mundo con el CO...</td>\n",
       "      <td>25</td>\n",
       "      <td>2020</td>\n",
       "      <td>10</td>\n",
       "    </tr>\n",
       "    <tr>\n",
       "      <th>16</th>\n",
       "      <td>2020-08-08 02:20:23+00:00</td>\n",
       "      <td>Hola amigos, mi papá necesita de nuestra ayuda...</td>\n",
       "      <td>8</td>\n",
       "      <td>2020</td>\n",
       "      <td>8</td>\n",
       "    </tr>\n",
       "  </tbody>\n",
       "</table>\n",
       "</div>"
      ],
      "text/plain": [
       "                  created_at  \\\n",
       "0  2021-04-13 22:54:38+00:00   \n",
       "1  2021-04-12 19:53:10+00:00   \n",
       "2  2021-04-09 14:42:17+00:00   \n",
       "3  2021-04-06 07:08:20+00:00   \n",
       "4  2021-04-05 17:46:05+00:00   \n",
       "5  2021-04-05 06:03:35+00:00   \n",
       "6  2021-03-31 16:18:05+00:00   \n",
       "7  2021-03-29 19:57:40+00:00   \n",
       "8  2021-03-29 15:12:22+00:00   \n",
       "9  2021-03-29 09:19:13+00:00   \n",
       "10 2021-03-28 19:02:38+00:00   \n",
       "11 2021-03-24 03:21:09+00:00   \n",
       "12 2021-03-01 13:05:51+00:00   \n",
       "13 2021-01-20 05:43:52+00:00   \n",
       "14 2020-12-27 18:17:40+00:00   \n",
       "15 2020-10-25 09:24:45+00:00   \n",
       "16 2020-08-08 02:20:23+00:00   \n",
       "\n",
       "                                                 text  day  year  month  \n",
       "0   Qué horrible que en Venezuela todo está colaps...   13  2021      4  \n",
       "1   Desde el #1Abr se han abierto 210 campañas de ...   12  2021      4  \n",
       "2   Venezuela recurre a GoFoundMe para luchar cont...    9  2021      4  \n",
       "3   My Twitter/Facebook feeds are full of GoFoundM...    6  2021      4  \n",
       "4   @Simonovis Con Razón eso explicaría que 👉 El T...    5  2021      4  \n",
       "5   No quiero ver mas gofoundme de personas con co...    5  2021      4  \n",
       "6   Gracias a los que se pondrán de rodillas por V...   31  2021      3  \n",
       "7   Lo cierto es que nadie debería verse en la nec...   29  2021      3  \n",
       "8   Es mi abuelito que está muy mal, si pueden ayu...   29  2021      3  \n",
       "9   Ya no puedo ver más GoFoundMe y gente pidiendo...   29  2021      3  \n",
       "10  @JeanMary_ Que alguien me explique que otra ma...   28  2021      3  \n",
       "11  El tema del covid en Venezuela es súper comple...   24  2021      3  \n",
       "12  Si estás en venezuela, te la pasas rumbeando y...    1  2021      3  \n",
       "13  Qje cantidad de gofoundme pidiendo dinero para...   20  2021      1  \n",
       "14  También hay que tener mucha cautela con esa so...   27  2020     12  \n",
       "15  Yo no soy el más precavido del mundo con el CO...   25  2020     10  \n",
       "16  Hola amigos, mi papá necesita de nuestra ayuda...    8  2020      8  "
      ]
     },
     "execution_count": 528,
     "metadata": {},
     "output_type": "execute_result"
    }
   ],
   "source": [
    "datos_twitter4.drop_duplicates(keep='first')"
   ]
  },
  {
   "cell_type": "code",
   "execution_count": 529,
   "id": "c4715da1",
   "metadata": {},
   "outputs": [],
   "source": [
    "time_series_with_counts = datos_twitter4[['created_at','day', 'month','year']].groupby(['day', 'month','year']).agg(['count'])\n"
   ]
  },
  {
   "cell_type": "code",
   "execution_count": 530,
   "id": "20ec02cb",
   "metadata": {},
   "outputs": [
    {
     "data": {
      "text/plain": [
       "Text(0, 0.5, 'Conteo')"
      ]
     },
     "execution_count": 530,
     "metadata": {},
     "output_type": "execute_result"
    },
    {
     "data": {
      "image/png": "[encoded data removed]",
      "text/plain": [
       "<Figure size 1440x288 with 1 Axes>"
      ]
     },
     "metadata": {},
     "output_type": "display_data"
    }
   ],
   "source": [
    "sns.set(rc={'figure.figsize':(20, 4)})\n",
    "ax3 = time_series_with_counts.plot()\n",
    "ax3.set_title('GoFoundMe/recolectar dinero')\n",
    "ax3.set_ylabel('Conteo')\n"
   ]
  },
  {
   "cell_type": "markdown",
   "id": "830d7599",
   "metadata": {},
   "source": [
    "**Búsqueda5**\n",
    "\n",
    "- GoFoundMe venezuela (con link)\n",
    "- recolectar dinero "
   ]
  },
  {
   "cell_type": "code",
   "execution_count": 105,
   "id": "60abbcab",
   "metadata": {},
   "outputs": [],
   "source": [
    "search_results = t.search_all(query=\"GoFoundMe venezuela has:links -is:retweet OR recolectar dinero place_country:VE has:links -is:retweet\", start_time=start_time, end_time=end_time)"
   ]
  },
  {
   "cell_type": "code",
   "execution_count": 106,
   "id": "11a7e063",
   "metadata": {},
   "outputs": [],
   "source": [
    "for page in search_results:\n",
    "    with open(\"Datos5.json\", \"w+\") as f:\n",
    "        f.write(json.dumps(page) + \"\\n\")"
   ]
  },
  {
   "cell_type": "code",
   "execution_count": 531,
   "id": "95f4ba52",
   "metadata": {},
   "outputs": [
    {
     "data": {
      "text/plain": [
       "(155, 2)"
      ]
     },
     "execution_count": 531,
     "metadata": {},
     "output_type": "execute_result"
    }
   ],
   "source": [
    "datos_twitter5 = pd.read_csv('datos_twitter5.csv', parse_dates=['created_at']) \n",
    "datos_twitter5.shape "
   ]
  },
  {
   "cell_type": "code",
   "execution_count": 532,
   "id": "05de7450",
   "metadata": {},
   "outputs": [],
   "source": [
    "datos_twitter5['created_at'] = pd.to_datetime(datos_twitter5['created_at'], format='%Y-%m-%d', errors='coerce')"
   ]
  },
  {
   "cell_type": "code",
   "execution_count": 533,
   "id": "55fd5a1a",
   "metadata": {},
   "outputs": [],
   "source": [
    "datos_twitter5['day'] = datos_twitter5['created_at'].dt.day\n",
    "datos_twitter5['year'] = datos_twitter5['created_at'].dt.year\n",
    "datos_twitter5['month'] = datos_twitter5['created_at'].dt.month"
   ]
  },
  {
   "cell_type": "code",
   "execution_count": 534,
   "id": "ebac083c",
   "metadata": {},
   "outputs": [
    {
     "data": {
      "text/html": [
       "<div>\n",
       "<style scoped>\n",
       "    .dataframe tbody tr th:only-of-type {\n",
       "        vertical-align: middle;\n",
       "    }\n",
       "\n",
       "    .dataframe tbody tr th {\n",
       "        vertical-align: top;\n",
       "    }\n",
       "\n",
       "    .dataframe thead th {\n",
       "        text-align: right;\n",
       "    }\n",
       "</style>\n",
       "<table border=\"1\" class=\"dataframe\">\n",
       "  <thead>\n",
       "    <tr style=\"text-align: right;\">\n",
       "      <th></th>\n",
       "      <th>created_at</th>\n",
       "      <th>text</th>\n",
       "      <th>day</th>\n",
       "      <th>year</th>\n",
       "      <th>month</th>\n",
       "    </tr>\n",
       "  </thead>\n",
       "  <tbody>\n",
       "    <tr>\n",
       "      <th>0</th>\n",
       "      <td>2021-04-28 23:17:21+00:00</td>\n",
       "      <td>Venezuela: el país donde el fiscal general qui...</td>\n",
       "      <td>28</td>\n",
       "      <td>2021</td>\n",
       "      <td>4</td>\n",
       "    </tr>\n",
       "    <tr>\n",
       "      <th>1</th>\n",
       "      <td>2021-04-26 05:21:31+00:00</td>\n",
       "      <td>@the_efosa Hi, I'm a desperate son loocking fo...</td>\n",
       "      <td>26</td>\n",
       "      <td>2021</td>\n",
       "      <td>4</td>\n",
       "    </tr>\n",
       "    <tr>\n",
       "      <th>2</th>\n",
       "      <td>2021-04-19 05:30:00+00:00</td>\n",
       "      <td>#VENEZUELAENELMUNDO | Es una realidad que, la ...</td>\n",
       "      <td>19</td>\n",
       "      <td>2021</td>\n",
       "      <td>4</td>\n",
       "    </tr>\n",
       "    <tr>\n",
       "      <th>3</th>\n",
       "      <td>2021-04-19 02:08:17+00:00</td>\n",
       "      <td>Aún falta mucho, todavía los familiares de Ani...</td>\n",
       "      <td>19</td>\n",
       "      <td>2021</td>\n",
       "      <td>4</td>\n",
       "    </tr>\n",
       "    <tr>\n",
       "      <th>4</th>\n",
       "      <td>2021-04-18 22:00:00+00:00</td>\n",
       "      <td>#VENEZUELAENELMUNDO | Es una realidad que, la ...</td>\n",
       "      <td>18</td>\n",
       "      <td>2021</td>\n",
       "      <td>4</td>\n",
       "    </tr>\n",
       "    <tr>\n",
       "      <th>...</th>\n",
       "      <td>...</td>\n",
       "      <td>...</td>\n",
       "      <td>...</td>\n",
       "      <td>...</td>\n",
       "      <td>...</td>\n",
       "    </tr>\n",
       "    <tr>\n",
       "      <th>150</th>\n",
       "      <td>2020-05-01 20:47:52+00:00</td>\n",
       "      <td>El Link de la campaña es el siguiente:\\nhttps:...</td>\n",
       "      <td>1</td>\n",
       "      <td>2020</td>\n",
       "      <td>5</td>\n",
       "    </tr>\n",
       "    <tr>\n",
       "      <th>151</th>\n",
       "      <td>2020-04-24 06:50:11+00:00</td>\n",
       "      <td>https://t.co/M64ndX2JRi\\n\\nHi @JeffreeStar . I...</td>\n",
       "      <td>24</td>\n",
       "      <td>2020</td>\n",
       "      <td>4</td>\n",
       "    </tr>\n",
       "    <tr>\n",
       "      <th>152</th>\n",
       "      <td>2020-04-13 05:17:48+00:00</td>\n",
       "      <td>@LuisCarlos buenas noches. Recurro a ti para p...</td>\n",
       "      <td>13</td>\n",
       "      <td>2020</td>\n",
       "      <td>4</td>\n",
       "    </tr>\n",
       "    <tr>\n",
       "      <th>153</th>\n",
       "      <td>2020-04-01 13:18:09+00:00</td>\n",
       "      <td>Hola amigos, paso por aquí para solicitar de t...</td>\n",
       "      <td>1</td>\n",
       "      <td>2020</td>\n",
       "      <td>4</td>\n",
       "    </tr>\n",
       "    <tr>\n",
       "      <th>154</th>\n",
       "      <td>2020-03-17 23:57:06+00:00</td>\n",
       "      <td>El #coronavirus puede matar pero el #CÁNCER ma...</td>\n",
       "      <td>17</td>\n",
       "      <td>2020</td>\n",
       "      <td>3</td>\n",
       "    </tr>\n",
       "  </tbody>\n",
       "</table>\n",
       "<p>155 rows × 5 columns</p>\n",
       "</div>"
      ],
      "text/plain": [
       "                   created_at  \\\n",
       "0   2021-04-28 23:17:21+00:00   \n",
       "1   2021-04-26 05:21:31+00:00   \n",
       "2   2021-04-19 05:30:00+00:00   \n",
       "3   2021-04-19 02:08:17+00:00   \n",
       "4   2021-04-18 22:00:00+00:00   \n",
       "..                        ...   \n",
       "150 2020-05-01 20:47:52+00:00   \n",
       "151 2020-04-24 06:50:11+00:00   \n",
       "152 2020-04-13 05:17:48+00:00   \n",
       "153 2020-04-01 13:18:09+00:00   \n",
       "154 2020-03-17 23:57:06+00:00   \n",
       "\n",
       "                                                  text  day  year  month  \n",
       "0    Venezuela: el país donde el fiscal general qui...   28  2021      4  \n",
       "1    @the_efosa Hi, I'm a desperate son loocking fo...   26  2021      4  \n",
       "2    #VENEZUELAENELMUNDO | Es una realidad que, la ...   19  2021      4  \n",
       "3    Aún falta mucho, todavía los familiares de Ani...   19  2021      4  \n",
       "4    #VENEZUELAENELMUNDO | Es una realidad que, la ...   18  2021      4  \n",
       "..                                                 ...  ...   ...    ...  \n",
       "150  El Link de la campaña es el siguiente:\\nhttps:...    1  2020      5  \n",
       "151  https://t.co/M64ndX2JRi\\n\\nHi @JeffreeStar . I...   24  2020      4  \n",
       "152  @LuisCarlos buenas noches. Recurro a ti para p...   13  2020      4  \n",
       "153  Hola amigos, paso por aquí para solicitar de t...    1  2020      4  \n",
       "154  El #coronavirus puede matar pero el #CÁNCER ma...   17  2020      3  \n",
       "\n",
       "[155 rows x 5 columns]"
      ]
     },
     "execution_count": 534,
     "metadata": {},
     "output_type": "execute_result"
    }
   ],
   "source": [
    "datos_twitter5.drop_duplicates(keep='first')"
   ]
  },
  {
   "cell_type": "code",
   "execution_count": 535,
   "id": "c9cd12cc",
   "metadata": {},
   "outputs": [],
   "source": [
    "time_series_with_counts = datos_twitter5[['created_at','day', 'month','year']].groupby(['day', 'month','year']).agg(['count'])\n"
   ]
  },
  {
   "cell_type": "code",
   "execution_count": 538,
   "id": "bee87784",
   "metadata": {},
   "outputs": [
    {
     "data": {
      "text/plain": [
       "Text(0, 0.5, 'Conteo')"
      ]
     },
     "execution_count": 538,
     "metadata": {},
     "output_type": "execute_result"
    },
    {
     "data": {
      "image/png": "[encoded data removed]",
      "text/plain": [
       "<Figure size 1440x288 with 1 Axes>"
      ]
     },
     "metadata": {},
     "output_type": "display_data"
    }
   ],
   "source": [
    "sns.set(rc={'figure.figsize':(20, 4)})\n",
    "ax5 = time_series_with_counts.plot()\n",
    "ax5.set_title('GoFoundMe/recolectar dinero')\n",
    "ax5.set_ylabel('Conteo')"
   ]
  },
  {
   "cell_type": "markdown",
   "id": "ea51a922",
   "metadata": {},
   "source": [
    "**Búsqueda6**\n",
    "\n",
    "- flujómetro de oxígeno"
   ]
  },
  {
   "cell_type": "code",
   "execution_count": 115,
   "id": "a7d7c564",
   "metadata": {},
   "outputs": [],
   "source": [
    "search_results = t.search_all(query=\"flujómetro de oxígeno place_country:VE -is:retweet\", start_time=start_time, end_time=end_time)"
   ]
  },
  {
   "cell_type": "code",
   "execution_count": 116,
   "id": "bfe52a11",
   "metadata": {},
   "outputs": [],
   "source": [
    "for page in search_results:\n",
    "    with open(\"Datos6.json\", \"w+\") as f:\n",
    "        f.write(json.dumps(page) + \"\\n\")"
   ]
  },
  {
   "cell_type": "code",
   "execution_count": 4,
   "id": "cbd815b9",
   "metadata": {},
   "outputs": [
    {
     "data": {
      "text/plain": [
       "(4, 2)"
      ]
     },
     "execution_count": 4,
     "metadata": {},
     "output_type": "execute_result"
    }
   ],
   "source": [
    "datos_twitter6 = pd.read_csv('datos_twitter6.csv', parse_dates=['created_at'])  \n",
    "datos_twitter6.shape "
   ]
  },
  {
   "cell_type": "code",
   "execution_count": 5,
   "id": "97beacd8",
   "metadata": {},
   "outputs": [],
   "source": [
    "datos_twitter6['created_at'] = pd.to_datetime(datos_twitter6['created_at'], format='%Y-%m-%d', errors='coerce')"
   ]
  },
  {
   "cell_type": "code",
   "execution_count": 6,
   "id": "5db50d1e",
   "metadata": {},
   "outputs": [],
   "source": [
    "datos_twitter6['day'] = datos_twitter6['created_at'].dt.day\n",
    "datos_twitter6['year'] = datos_twitter6['created_at'].dt.year\n",
    "datos_twitter6['month'] = datos_twitter6['created_at'].dt.month"
   ]
  },
  {
   "cell_type": "code",
   "execution_count": 7,
   "id": "b14cb8bd",
   "metadata": {},
   "outputs": [
    {
     "data": {
      "text/html": [
       "<div>\n",
       "<style scoped>\n",
       "    .dataframe tbody tr th:only-of-type {\n",
       "        vertical-align: middle;\n",
       "    }\n",
       "\n",
       "    .dataframe tbody tr th {\n",
       "        vertical-align: top;\n",
       "    }\n",
       "\n",
       "    .dataframe thead th {\n",
       "        text-align: right;\n",
       "    }\n",
       "</style>\n",
       "<table border=\"1\" class=\"dataframe\">\n",
       "  <thead>\n",
       "    <tr style=\"text-align: right;\">\n",
       "      <th></th>\n",
       "      <th>created_at</th>\n",
       "      <th>text</th>\n",
       "      <th>day</th>\n",
       "      <th>year</th>\n",
       "      <th>month</th>\n",
       "    </tr>\n",
       "  </thead>\n",
       "  <tbody>\n",
       "    <tr>\n",
       "      <th>0</th>\n",
       "      <td>2021-04-08 19:59:32+00:00</td>\n",
       "      <td>Disponibles para ENTREGA INMEDIATA Regulador d...</td>\n",
       "      <td>8</td>\n",
       "      <td>2021</td>\n",
       "      <td>4</td>\n",
       "    </tr>\n",
       "    <tr>\n",
       "      <th>1</th>\n",
       "      <td>2021-03-28 00:19:27+00:00</td>\n",
       "      <td>Regulador de Oxigeno Medicinal de 0-15 Lpm con...</td>\n",
       "      <td>28</td>\n",
       "      <td>2021</td>\n",
       "      <td>3</td>\n",
       "    </tr>\n",
       "    <tr>\n",
       "      <th>2</th>\n",
       "      <td>2021-03-27 23:42:49+00:00</td>\n",
       "      <td>@Ivanab__ Disponible regulador de oxigeno con ...</td>\n",
       "      <td>27</td>\n",
       "      <td>2021</td>\n",
       "      <td>3</td>\n",
       "    </tr>\n",
       "    <tr>\n",
       "      <th>3</th>\n",
       "      <td>2021-03-06 23:13:10+00:00</td>\n",
       "      <td>URGENTE: la señora Rosa Henríquez está en el h...</td>\n",
       "      <td>6</td>\n",
       "      <td>2021</td>\n",
       "      <td>3</td>\n",
       "    </tr>\n",
       "  </tbody>\n",
       "</table>\n",
       "</div>"
      ],
      "text/plain": [
       "                 created_at  \\\n",
       "0 2021-04-08 19:59:32+00:00   \n",
       "1 2021-03-28 00:19:27+00:00   \n",
       "2 2021-03-27 23:42:49+00:00   \n",
       "3 2021-03-06 23:13:10+00:00   \n",
       "\n",
       "                                                text  day  year  month  \n",
       "0  Disponibles para ENTREGA INMEDIATA Regulador d...    8  2021      4  \n",
       "1  Regulador de Oxigeno Medicinal de 0-15 Lpm con...   28  2021      3  \n",
       "2  @Ivanab__ Disponible regulador de oxigeno con ...   27  2021      3  \n",
       "3  URGENTE: la señora Rosa Henríquez está en el h...    6  2021      3  "
      ]
     },
     "execution_count": 7,
     "metadata": {},
     "output_type": "execute_result"
    }
   ],
   "source": [
    "datos_twitter6.drop_duplicates(keep='first')"
   ]
  },
  {
   "cell_type": "code",
   "execution_count": 9,
   "id": "d1ebadcf",
   "metadata": {},
   "outputs": [],
   "source": [
    "#time_series_with_counts = datos_twitter6[['created_at','day', 'month','year']].groupby(['day', 'month','year']).agg(['count'])"
   ]
  },
  {
   "cell_type": "code",
   "execution_count": 10,
   "id": "2f3be931",
   "metadata": {},
   "outputs": [],
   "source": [
    "#sns.set(rc={'figure.figsize':(20, 4)})\n",
    "#ax6 = time_series_with_counts.plot()\n",
    "#ax6.set_title('GoFoundMe/Recolectar dinero')\n",
    "#ax6.set_ylabel('Conteo')"
   ]
  },
  {
   "cell_type": "markdown",
   "id": "cb6d8a75",
   "metadata": {},
   "source": [
    "**Búsqueda7**\n",
    "\n",
    "- servicio público (hashtag)"
   ]
  },
  {
   "cell_type": "code",
   "execution_count": 147,
   "id": "c5e8c4d3",
   "metadata": {},
   "outputs": [],
   "source": [
    "search_results = t.search_all(query=\"#ServicioPúblico covid-19 place_country:VE -is:retweet\", start_time=start_time, end_time=end_time)"
   ]
  },
  {
   "cell_type": "code",
   "execution_count": 149,
   "id": "b11d0a91",
   "metadata": {},
   "outputs": [],
   "source": [
    "for page in search_results:\n",
    "    with open(\"Datos7.json\", \"w+\") as f:\n",
    "        f.write(json.dumps(page) + \"\\n\")"
   ]
  },
  {
   "cell_type": "code",
   "execution_count": 545,
   "id": "d4c23c04",
   "metadata": {},
   "outputs": [
    {
     "data": {
      "text/plain": [
       "(42, 2)"
      ]
     },
     "execution_count": 545,
     "metadata": {},
     "output_type": "execute_result"
    }
   ],
   "source": [
    "datos_twitter7 = pd.read_csv('datos_twitter7.csv', parse_dates=['created_at']) \n",
    "datos_twitter7.shape "
   ]
  },
  {
   "cell_type": "code",
   "execution_count": 546,
   "id": "9042c15a",
   "metadata": {},
   "outputs": [],
   "source": [
    "datos_twitter7['created_at'] = pd.to_datetime(datos_twitter7['created_at'], format='%Y-%m-%d', errors='coerce')"
   ]
  },
  {
   "cell_type": "code",
   "execution_count": 547,
   "id": "f27ead01",
   "metadata": {},
   "outputs": [],
   "source": [
    "datos_twitter7['day'] = datos_twitter7['created_at'].dt.day\n",
    "datos_twitter7['year'] = datos_twitter7['created_at'].dt.year\n",
    "datos_twitter7['month'] = datos_twitter7['created_at'].dt.month"
   ]
  },
  {
   "cell_type": "code",
   "execution_count": 548,
   "id": "26192441",
   "metadata": {},
   "outputs": [
    {
     "data": {
      "text/html": [
       "<div>\n",
       "<style scoped>\n",
       "    .dataframe tbody tr th:only-of-type {\n",
       "        vertical-align: middle;\n",
       "    }\n",
       "\n",
       "    .dataframe tbody tr th {\n",
       "        vertical-align: top;\n",
       "    }\n",
       "\n",
       "    .dataframe thead th {\n",
       "        text-align: right;\n",
       "    }\n",
       "</style>\n",
       "<table border=\"1\" class=\"dataframe\">\n",
       "  <thead>\n",
       "    <tr style=\"text-align: right;\">\n",
       "      <th></th>\n",
       "      <th>created_at</th>\n",
       "      <th>text</th>\n",
       "      <th>day</th>\n",
       "      <th>year</th>\n",
       "      <th>month</th>\n",
       "    </tr>\n",
       "  </thead>\n",
       "  <tbody>\n",
       "    <tr>\n",
       "      <th>0</th>\n",
       "      <td>2021-04-21 14:32:36+00:00</td>\n",
       "      <td>#ServicioPublico Les pido su colaboración para...</td>\n",
       "      <td>21</td>\n",
       "      <td>2021</td>\n",
       "      <td>4</td>\n",
       "    </tr>\n",
       "    <tr>\n",
       "      <th>1</th>\n",
       "      <td>2021-04-12 16:14:09+00:00</td>\n",
       "      <td>#ServicioPublico\\n\\nAyuda al Mtro. Rugeles par...</td>\n",
       "      <td>12</td>\n",
       "      <td>2021</td>\n",
       "      <td>4</td>\n",
       "    </tr>\n",
       "    <tr>\n",
       "      <th>2</th>\n",
       "      <td>2021-04-10 16:36:13+00:00</td>\n",
       "      <td>#10Abril. #ServicioPúblico \\n\\n#URGENTE Juan M...</td>\n",
       "      <td>10</td>\n",
       "      <td>2021</td>\n",
       "      <td>4</td>\n",
       "    </tr>\n",
       "    <tr>\n",
       "      <th>3</th>\n",
       "      <td>2021-04-07 14:51:06+00:00</td>\n",
       "      <td>#ServicioPublico #Caracas Busco Remdisivir en ...</td>\n",
       "      <td>7</td>\n",
       "      <td>2021</td>\n",
       "      <td>4</td>\n",
       "    </tr>\n",
       "    <tr>\n",
       "      <th>4</th>\n",
       "      <td>2021-04-06 00:01:51+00:00</td>\n",
       "      <td>#ServicioPublico | Para paciente con fibrosis ...</td>\n",
       "      <td>6</td>\n",
       "      <td>2021</td>\n",
       "      <td>4</td>\n",
       "    </tr>\n",
       "    <tr>\n",
       "      <th>5</th>\n",
       "      <td>2021-04-01 11:43:51+00:00</td>\n",
       "      <td>#ServicioPublico #MarbelisMiranda\\n\\nHoy neces...</td>\n",
       "      <td>1</td>\n",
       "      <td>2021</td>\n",
       "      <td>4</td>\n",
       "    </tr>\n",
       "    <tr>\n",
       "      <th>6</th>\n",
       "      <td>2021-03-31 19:27:45+00:00</td>\n",
       "      <td>#ServicioPublico | Se requiere con carácter de...</td>\n",
       "      <td>31</td>\n",
       "      <td>2021</td>\n",
       "      <td>3</td>\n",
       "    </tr>\n",
       "    <tr>\n",
       "      <th>7</th>\n",
       "      <td>2021-03-31 19:15:42+00:00</td>\n",
       "      <td>#ServicioPublico Se solicita concentrador de o...</td>\n",
       "      <td>31</td>\n",
       "      <td>2021</td>\n",
       "      <td>3</td>\n",
       "    </tr>\n",
       "    <tr>\n",
       "      <th>8</th>\n",
       "      <td>2021-03-30 19:42:31+00:00</td>\n",
       "      <td>@fundasperven #ServicioPublico \\nYajaira neces...</td>\n",
       "      <td>30</td>\n",
       "      <td>2021</td>\n",
       "      <td>3</td>\n",
       "    </tr>\n",
       "    <tr>\n",
       "      <th>9</th>\n",
       "      <td>2021-03-20 23:23:28+00:00</td>\n",
       "      <td>#ServicioPúblico Para paciente con COVID-19 en...</td>\n",
       "      <td>20</td>\n",
       "      <td>2021</td>\n",
       "      <td>3</td>\n",
       "    </tr>\n",
       "    <tr>\n",
       "      <th>10</th>\n",
       "      <td>2021-03-16 16:06:20+00:00</td>\n",
       "      <td>#16marz #ServicioPublico \\n\\n🆘 Con carácter de...</td>\n",
       "      <td>16</td>\n",
       "      <td>2021</td>\n",
       "      <td>3</td>\n",
       "    </tr>\n",
       "    <tr>\n",
       "      <th>11</th>\n",
       "      <td>2021-03-14 23:05:39+00:00</td>\n",
       "      <td>#ServicioPublico Recurrimos a tu apoyo y gener...</td>\n",
       "      <td>14</td>\n",
       "      <td>2021</td>\n",
       "      <td>3</td>\n",
       "    </tr>\n",
       "    <tr>\n",
       "      <th>12</th>\n",
       "      <td>2021-02-06 10:33:15+00:00</td>\n",
       "      <td>#ServicioPúblico Para la abuela del dirigente ...</td>\n",
       "      <td>6</td>\n",
       "      <td>2021</td>\n",
       "      <td>2</td>\n",
       "    </tr>\n",
       "    <tr>\n",
       "      <th>13</th>\n",
       "      <td>2021-01-31 22:43:00+00:00</td>\n",
       "      <td>#ServicioPúblico: Se necesita para paciente co...</td>\n",
       "      <td>31</td>\n",
       "      <td>2021</td>\n",
       "      <td>1</td>\n",
       "    </tr>\n",
       "    <tr>\n",
       "      <th>14</th>\n",
       "      <td>2021-01-27 21:09:00+00:00</td>\n",
       "      <td>#ServicioPúblico Paciente recluida en el IHULA...</td>\n",
       "      <td>27</td>\n",
       "      <td>2021</td>\n",
       "      <td>1</td>\n",
       "    </tr>\n",
       "    <tr>\n",
       "      <th>15</th>\n",
       "      <td>2021-01-09 19:20:32+00:00</td>\n",
       "      <td>#ServicioPúblico \\n#Covid_19 \\n#Solidaridad \\n...</td>\n",
       "      <td>9</td>\n",
       "      <td>2021</td>\n",
       "      <td>1</td>\n",
       "    </tr>\n",
       "    <tr>\n",
       "      <th>16</th>\n",
       "      <td>2021-01-02 00:44:12+00:00</td>\n",
       "      <td>#01Ene #ServicioPublico \\nAyudemos a Lalito a ...</td>\n",
       "      <td>2</td>\n",
       "      <td>2021</td>\n",
       "      <td>1</td>\n",
       "    </tr>\n",
       "    <tr>\n",
       "      <th>17</th>\n",
       "      <td>2020-12-26 22:36:11+00:00</td>\n",
       "      <td>#ServicioPúblico Estimados amigos: Cheo Peñalo...</td>\n",
       "      <td>26</td>\n",
       "      <td>2020</td>\n",
       "      <td>12</td>\n",
       "    </tr>\n",
       "    <tr>\n",
       "      <th>18</th>\n",
       "      <td>2020-12-20 02:48:26+00:00</td>\n",
       "      <td>#Urgente Por favor si alguien sabe donde puedo...</td>\n",
       "      <td>20</td>\n",
       "      <td>2020</td>\n",
       "      <td>12</td>\n",
       "    </tr>\n",
       "    <tr>\n",
       "      <th>19</th>\n",
       "      <td>2020-12-10 18:41:40+00:00</td>\n",
       "      <td>#SERVICIOPÚBLICO Se necesita #URGENTE para fam...</td>\n",
       "      <td>10</td>\n",
       "      <td>2020</td>\n",
       "      <td>12</td>\n",
       "    </tr>\n",
       "    <tr>\n",
       "      <th>20</th>\n",
       "      <td>2020-10-18 16:07:05+00:00</td>\n",
       "      <td>#ServicioPúblico El periodista Freddy Criollo ...</td>\n",
       "      <td>18</td>\n",
       "      <td>2020</td>\n",
       "      <td>10</td>\n",
       "    </tr>\n",
       "    <tr>\n",
       "      <th>21</th>\n",
       "      <td>2020-10-04 18:20:59+00:00</td>\n",
       "      <td>#ServicioPúblico | El periodista Juan José Per...</td>\n",
       "      <td>4</td>\n",
       "      <td>2020</td>\n",
       "      <td>10</td>\n",
       "    </tr>\n",
       "    <tr>\n",
       "      <th>22</th>\n",
       "      <td>2020-10-03 23:51:02+00:00</td>\n",
       "      <td>#ServicioPúblico  El Dr. julio Lacruz internad...</td>\n",
       "      <td>3</td>\n",
       "      <td>2020</td>\n",
       "      <td>10</td>\n",
       "    </tr>\n",
       "    <tr>\n",
       "      <th>23</th>\n",
       "      <td>2020-10-01 23:01:43+00:00</td>\n",
       "      <td>#ServicioPublico En momentos tan algidos donde...</td>\n",
       "      <td>1</td>\n",
       "      <td>2020</td>\n",
       "      <td>10</td>\n",
       "    </tr>\n",
       "    <tr>\n",
       "      <th>24</th>\n",
       "      <td>2020-09-30 19:00:37+00:00</td>\n",
       "      <td>#ServicioPúblico Familiares de Aura de Castill...</td>\n",
       "      <td>30</td>\n",
       "      <td>2020</td>\n",
       "      <td>9</td>\n",
       "    </tr>\n",
       "    <tr>\n",
       "      <th>25</th>\n",
       "      <td>2020-09-26 15:43:14+00:00</td>\n",
       "      <td>#ServicioPublico | Se requiere con carácter de...</td>\n",
       "      <td>26</td>\n",
       "      <td>2020</td>\n",
       "      <td>9</td>\n",
       "    </tr>\n",
       "    <tr>\n",
       "      <th>26</th>\n",
       "      <td>2020-09-17 15:03:36+00:00</td>\n",
       "      <td>#ServicioPublico\\nAl Dr. Fernández se le pract...</td>\n",
       "      <td>17</td>\n",
       "      <td>2020</td>\n",
       "      <td>9</td>\n",
       "    </tr>\n",
       "    <tr>\n",
       "      <th>27</th>\n",
       "      <td>2020-09-09 19:51:58+00:00</td>\n",
       "      <td>#ServicioPúblico A todos nuestra gente de #Car...</td>\n",
       "      <td>9</td>\n",
       "      <td>2020</td>\n",
       "      <td>9</td>\n",
       "    </tr>\n",
       "    <tr>\n",
       "      <th>28</th>\n",
       "      <td>2020-09-04 21:06:07+00:00</td>\n",
       "      <td>Exijo al gobierno de @NicolasMaduro atender #U...</td>\n",
       "      <td>4</td>\n",
       "      <td>2020</td>\n",
       "      <td>9</td>\n",
       "    </tr>\n",
       "    <tr>\n",
       "      <th>29</th>\n",
       "      <td>2020-09-04 00:59:51+00:00</td>\n",
       "      <td>#ServicioPúblico: Para paciente Stefano Dodi, ...</td>\n",
       "      <td>4</td>\n",
       "      <td>2020</td>\n",
       "      <td>9</td>\n",
       "    </tr>\n",
       "    <tr>\n",
       "      <th>30</th>\n",
       "      <td>2020-08-31 08:59:48+00:00</td>\n",
       "      <td>#ServicioPúblico  #Urgente Para Dr. Luis Manue...</td>\n",
       "      <td>31</td>\n",
       "      <td>2020</td>\n",
       "      <td>8</td>\n",
       "    </tr>\n",
       "    <tr>\n",
       "      <th>31</th>\n",
       "      <td>2020-08-30 20:53:16+00:00</td>\n",
       "      <td>#ServicioPúblico  #IAHULA  #Merida Con carácte...</td>\n",
       "      <td>30</td>\n",
       "      <td>2020</td>\n",
       "      <td>8</td>\n",
       "    </tr>\n",
       "    <tr>\n",
       "      <th>32</th>\n",
       "      <td>2020-08-19 09:50:51+00:00</td>\n",
       "      <td>#ServicioPúblico Anobis Tapia, paciente positi...</td>\n",
       "      <td>19</td>\n",
       "      <td>2020</td>\n",
       "      <td>8</td>\n",
       "    </tr>\n",
       "    <tr>\n",
       "      <th>33</th>\n",
       "      <td>2020-08-16 17:56:46+00:00</td>\n",
       "      <td>#ServicioPublico #COVID__19 https://t.co/bbZeI...</td>\n",
       "      <td>16</td>\n",
       "      <td>2020</td>\n",
       "      <td>8</td>\n",
       "    </tr>\n",
       "    <tr>\n",
       "      <th>34</th>\n",
       "      <td>2020-08-09 02:44:04+00:00</td>\n",
       "      <td>#ServicioPublico \\n\\nPara el colega Juan Carlo...</td>\n",
       "      <td>9</td>\n",
       "      <td>2020</td>\n",
       "      <td>8</td>\n",
       "    </tr>\n",
       "    <tr>\n",
       "      <th>35</th>\n",
       "      <td>2020-04-18 17:13:27+00:00</td>\n",
       "      <td>#Servicios #ServicioPublico #Covid_19 👐👐👐👐 htt...</td>\n",
       "      <td>18</td>\n",
       "      <td>2020</td>\n",
       "      <td>4</td>\n",
       "    </tr>\n",
       "    <tr>\n",
       "      <th>36</th>\n",
       "      <td>2020-04-18 12:12:02+00:00</td>\n",
       "      <td>#BuenosDías Vzla\\n\\nEn la Parroquia Altagracia...</td>\n",
       "      <td>18</td>\n",
       "      <td>2020</td>\n",
       "      <td>4</td>\n",
       "    </tr>\n",
       "    <tr>\n",
       "      <th>37</th>\n",
       "      <td>2020-03-21 16:47:05+00:00</td>\n",
       "      <td>Este perrito fue encontrado en La Floresta, si...</td>\n",
       "      <td>21</td>\n",
       "      <td>2020</td>\n",
       "      <td>3</td>\n",
       "    </tr>\n",
       "    <tr>\n",
       "      <th>38</th>\n",
       "      <td>2020-03-18 00:36:14+00:00</td>\n",
       "      <td>#ServicioPúblico #Coronavirus #Covid19 #Covid_...</td>\n",
       "      <td>18</td>\n",
       "      <td>2020</td>\n",
       "      <td>3</td>\n",
       "    </tr>\n",
       "    <tr>\n",
       "      <th>39</th>\n",
       "      <td>2020-03-13 12:57:06+00:00</td>\n",
       "      <td>Mi sobrino necesita ser intervenido quirúrgica...</td>\n",
       "      <td>13</td>\n",
       "      <td>2020</td>\n",
       "      <td>3</td>\n",
       "    </tr>\n",
       "    <tr>\n",
       "      <th>40</th>\n",
       "      <td>2021-05-05 23:12:34+00:00</td>\n",
       "      <td>#ServicioPublico - para paciente covid-19 se r...</td>\n",
       "      <td>5</td>\n",
       "      <td>2021</td>\n",
       "      <td>5</td>\n",
       "    </tr>\n",
       "    <tr>\n",
       "      <th>41</th>\n",
       "      <td>2021-05-04 19:03:35+00:00</td>\n",
       "      <td>#ServicioPúblico para mi primo médico Carlos O...</td>\n",
       "      <td>4</td>\n",
       "      <td>2021</td>\n",
       "      <td>5</td>\n",
       "    </tr>\n",
       "  </tbody>\n",
       "</table>\n",
       "</div>"
      ],
      "text/plain": [
       "                  created_at  \\\n",
       "0  2021-04-21 14:32:36+00:00   \n",
       "1  2021-04-12 16:14:09+00:00   \n",
       "2  2021-04-10 16:36:13+00:00   \n",
       "3  2021-04-07 14:51:06+00:00   \n",
       "4  2021-04-06 00:01:51+00:00   \n",
       "5  2021-04-01 11:43:51+00:00   \n",
       "6  2021-03-31 19:27:45+00:00   \n",
       "7  2021-03-31 19:15:42+00:00   \n",
       "8  2021-03-30 19:42:31+00:00   \n",
       "9  2021-03-20 23:23:28+00:00   \n",
       "10 2021-03-16 16:06:20+00:00   \n",
       "11 2021-03-14 23:05:39+00:00   \n",
       "12 2021-02-06 10:33:15+00:00   \n",
       "13 2021-01-31 22:43:00+00:00   \n",
       "14 2021-01-27 21:09:00+00:00   \n",
       "15 2021-01-09 19:20:32+00:00   \n",
       "16 2021-01-02 00:44:12+00:00   \n",
       "17 2020-12-26 22:36:11+00:00   \n",
       "18 2020-12-20 02:48:26+00:00   \n",
       "19 2020-12-10 18:41:40+00:00   \n",
       "20 2020-10-18 16:07:05+00:00   \n",
       "21 2020-10-04 18:20:59+00:00   \n",
       "22 2020-10-03 23:51:02+00:00   \n",
       "23 2020-10-01 23:01:43+00:00   \n",
       "24 2020-09-30 19:00:37+00:00   \n",
       "25 2020-09-26 15:43:14+00:00   \n",
       "26 2020-09-17 15:03:36+00:00   \n",
       "27 2020-09-09 19:51:58+00:00   \n",
       "28 2020-09-04 21:06:07+00:00   \n",
       "29 2020-09-04 00:59:51+00:00   \n",
       "30 2020-08-31 08:59:48+00:00   \n",
       "31 2020-08-30 20:53:16+00:00   \n",
       "32 2020-08-19 09:50:51+00:00   \n",
       "33 2020-08-16 17:56:46+00:00   \n",
       "34 2020-08-09 02:44:04+00:00   \n",
       "35 2020-04-18 17:13:27+00:00   \n",
       "36 2020-04-18 12:12:02+00:00   \n",
       "37 2020-03-21 16:47:05+00:00   \n",
       "38 2020-03-18 00:36:14+00:00   \n",
       "39 2020-03-13 12:57:06+00:00   \n",
       "40 2021-05-05 23:12:34+00:00   \n",
       "41 2021-05-04 19:03:35+00:00   \n",
       "\n",
       "                                                 text  day  year  month  \n",
       "0   #ServicioPublico Les pido su colaboración para...   21  2021      4  \n",
       "1   #ServicioPublico\\n\\nAyuda al Mtro. Rugeles par...   12  2021      4  \n",
       "2   #10Abril. #ServicioPúblico \\n\\n#URGENTE Juan M...   10  2021      4  \n",
       "3   #ServicioPublico #Caracas Busco Remdisivir en ...    7  2021      4  \n",
       "4   #ServicioPublico | Para paciente con fibrosis ...    6  2021      4  \n",
       "5   #ServicioPublico #MarbelisMiranda\\n\\nHoy neces...    1  2021      4  \n",
       "6   #ServicioPublico | Se requiere con carácter de...   31  2021      3  \n",
       "7   #ServicioPublico Se solicita concentrador de o...   31  2021      3  \n",
       "8   @fundasperven #ServicioPublico \\nYajaira neces...   30  2021      3  \n",
       "9   #ServicioPúblico Para paciente con COVID-19 en...   20  2021      3  \n",
       "10  #16marz #ServicioPublico \\n\\n🆘 Con carácter de...   16  2021      3  \n",
       "11  #ServicioPublico Recurrimos a tu apoyo y gener...   14  2021      3  \n",
       "12  #ServicioPúblico Para la abuela del dirigente ...    6  2021      2  \n",
       "13  #ServicioPúblico: Se necesita para paciente co...   31  2021      1  \n",
       "14  #ServicioPúblico Paciente recluida en el IHULA...   27  2021      1  \n",
       "15  #ServicioPúblico \\n#Covid_19 \\n#Solidaridad \\n...    9  2021      1  \n",
       "16  #01Ene #ServicioPublico \\nAyudemos a Lalito a ...    2  2021      1  \n",
       "17  #ServicioPúblico Estimados amigos: Cheo Peñalo...   26  2020     12  \n",
       "18  #Urgente Por favor si alguien sabe donde puedo...   20  2020     12  \n",
       "19  #SERVICIOPÚBLICO Se necesita #URGENTE para fam...   10  2020     12  \n",
       "20  #ServicioPúblico El periodista Freddy Criollo ...   18  2020     10  \n",
       "21  #ServicioPúblico | El periodista Juan José Per...    4  2020     10  \n",
       "22  #ServicioPúblico  El Dr. julio Lacruz internad...    3  2020     10  \n",
       "23  #ServicioPublico En momentos tan algidos donde...    1  2020     10  \n",
       "24  #ServicioPúblico Familiares de Aura de Castill...   30  2020      9  \n",
       "25  #ServicioPublico | Se requiere con carácter de...   26  2020      9  \n",
       "26  #ServicioPublico\\nAl Dr. Fernández se le pract...   17  2020      9  \n",
       "27  #ServicioPúblico A todos nuestra gente de #Car...    9  2020      9  \n",
       "28  Exijo al gobierno de @NicolasMaduro atender #U...    4  2020      9  \n",
       "29  #ServicioPúblico: Para paciente Stefano Dodi, ...    4  2020      9  \n",
       "30  #ServicioPúblico  #Urgente Para Dr. Luis Manue...   31  2020      8  \n",
       "31  #ServicioPúblico  #IAHULA  #Merida Con carácte...   30  2020      8  \n",
       "32  #ServicioPúblico Anobis Tapia, paciente positi...   19  2020      8  \n",
       "33  #ServicioPublico #COVID__19 https://t.co/bbZeI...   16  2020      8  \n",
       "34  #ServicioPublico \\n\\nPara el colega Juan Carlo...    9  2020      8  \n",
       "35  #Servicios #ServicioPublico #Covid_19 👐👐👐👐 htt...   18  2020      4  \n",
       "36  #BuenosDías Vzla\\n\\nEn la Parroquia Altagracia...   18  2020      4  \n",
       "37  Este perrito fue encontrado en La Floresta, si...   21  2020      3  \n",
       "38  #ServicioPúblico #Coronavirus #Covid19 #Covid_...   18  2020      3  \n",
       "39  Mi sobrino necesita ser intervenido quirúrgica...   13  2020      3  \n",
       "40  #ServicioPublico - para paciente covid-19 se r...    5  2021      5  \n",
       "41  #ServicioPúblico para mi primo médico Carlos O...    4  2021      5  "
      ]
     },
     "execution_count": 548,
     "metadata": {},
     "output_type": "execute_result"
    }
   ],
   "source": [
    "datos_twitter7.drop_duplicates(keep='first')"
   ]
  },
  {
   "cell_type": "code",
   "execution_count": 549,
   "id": "e76260bc",
   "metadata": {},
   "outputs": [],
   "source": [
    "time_series_with_counts = datos_twitter7[['created_at','day', 'month','year']].groupby(['day', 'month','year']).agg(['count'])"
   ]
  },
  {
   "cell_type": "code",
   "execution_count": 550,
   "id": "ee602abc",
   "metadata": {},
   "outputs": [
    {
     "data": {
      "text/plain": [
       "Text(0, 0.5, 'Conteo')"
      ]
     },
     "execution_count": 550,
     "metadata": {},
     "output_type": "execute_result"
    },
    {
     "data": {
      "image/png": "[encoded data removed]",
      "text/plain": [
       "<Figure size 1440x288 with 1 Axes>"
      ]
     },
     "metadata": {},
     "output_type": "display_data"
    }
   ],
   "source": [
    "sns.set(rc={'figure.figsize':(20, 4)})\n",
    "ax7 = time_series_with_counts.plot()\n",
    "ax7.set_title('Servicio público')\n",
    "ax7.set_ylabel('Conteo')"
   ]
  },
  {
   "cell_type": "markdown",
   "id": "2ad7cce6",
   "metadata": {},
   "source": [
    "**Búsqueda8**\n",
    "\n",
    "- UCIS \n",
    "- unidad de cuidados intensivos"
   ]
  },
  {
   "cell_type": "code",
   "execution_count": 162,
   "id": "c6e1f8cd",
   "metadata": {},
   "outputs": [],
   "source": [
    "search_results = t.search_all(query=\"UCIS place_country:VE -is:retweet OR unidad de cuidados intensivos place_country:VE -is:retweet\", start_time=start_time, end_time=end_time)"
   ]
  },
  {
   "cell_type": "code",
   "execution_count": 164,
   "id": "77f919b1",
   "metadata": {},
   "outputs": [],
   "source": [
    "for page in search_results:\n",
    "    with open(\"Datos8.json\", \"w+\") as f:\n",
    "        f.write(json.dumps(page) + \"\\n\")"
   ]
  },
  {
   "cell_type": "code",
   "execution_count": 551,
   "id": "380758a3",
   "metadata": {},
   "outputs": [
    {
     "data": {
      "text/plain": [
       "(76, 2)"
      ]
     },
     "execution_count": 551,
     "metadata": {},
     "output_type": "execute_result"
    }
   ],
   "source": [
    "datos_twitter8 = pd.read_csv('datos_twitter8.csv', parse_dates=['created_at'])  \n",
    "datos_twitter8.shape "
   ]
  },
  {
   "cell_type": "code",
   "execution_count": 552,
   "id": "85c5d353",
   "metadata": {},
   "outputs": [],
   "source": [
    "datos_twitter8['day'] = datos_twitter8['created_at'].dt.day\n",
    "datos_twitter8['year'] = datos_twitter8['created_at'].dt.year\n",
    "datos_twitter8['month'] = datos_twitter8['created_at'].dt.month"
   ]
  },
  {
   "cell_type": "code",
   "execution_count": 553,
   "id": "52a22078",
   "metadata": {},
   "outputs": [
    {
     "data": {
      "text/html": [
       "<div>\n",
       "<style scoped>\n",
       "    .dataframe tbody tr th:only-of-type {\n",
       "        vertical-align: middle;\n",
       "    }\n",
       "\n",
       "    .dataframe tbody tr th {\n",
       "        vertical-align: top;\n",
       "    }\n",
       "\n",
       "    .dataframe thead th {\n",
       "        text-align: right;\n",
       "    }\n",
       "</style>\n",
       "<table border=\"1\" class=\"dataframe\">\n",
       "  <thead>\n",
       "    <tr style=\"text-align: right;\">\n",
       "      <th></th>\n",
       "      <th>created_at</th>\n",
       "      <th>text</th>\n",
       "      <th>day</th>\n",
       "      <th>year</th>\n",
       "      <th>month</th>\n",
       "    </tr>\n",
       "  </thead>\n",
       "  <tbody>\n",
       "    <tr>\n",
       "      <th>0</th>\n",
       "      <td>2021-04-26 12:52:42+00:00</td>\n",
       "      <td>UCI DE PRIMER MUNDO✅👏🏻\\n\\n@EdwinRojasM: En la ...</td>\n",
       "      <td>26</td>\n",
       "      <td>2021</td>\n",
       "      <td>4</td>\n",
       "    </tr>\n",
       "    <tr>\n",
       "      <th>1</th>\n",
       "      <td>2021-04-26 12:51:07+00:00</td>\n",
       "      <td>En Vivo 📻 programa La Voz De Sucre 📺\\n@EdwinRo...</td>\n",
       "      <td>26</td>\n",
       "      <td>2021</td>\n",
       "      <td>4</td>\n",
       "    </tr>\n",
       "    <tr>\n",
       "      <th>2</th>\n",
       "      <td>2021-04-23 13:31:15+00:00</td>\n",
       "      <td>Cumpliendo con las orientaciones precisas del ...</td>\n",
       "      <td>23</td>\n",
       "      <td>2021</td>\n",
       "      <td>4</td>\n",
       "    </tr>\n",
       "    <tr>\n",
       "      <th>3</th>\n",
       "      <td>2021-04-19 13:40:36+00:00</td>\n",
       "      <td>#SALUD | Próximamente se estará inaugurando la...</td>\n",
       "      <td>19</td>\n",
       "      <td>2021</td>\n",
       "      <td>4</td>\n",
       "    </tr>\n",
       "    <tr>\n",
       "      <th>4</th>\n",
       "      <td>2021-04-19 13:30:46+00:00</td>\n",
       "      <td>El líder sucrense @EdwinRojasM anunció que  pr...</td>\n",
       "      <td>19</td>\n",
       "      <td>2021</td>\n",
       "      <td>4</td>\n",
       "    </tr>\n",
       "    <tr>\n",
       "      <th>...</th>\n",
       "      <td>...</td>\n",
       "      <td>...</td>\n",
       "      <td>...</td>\n",
       "      <td>...</td>\n",
       "      <td>...</td>\n",
       "    </tr>\n",
       "    <tr>\n",
       "      <th>71</th>\n",
       "      <td>2021-05-03 14:59:27+00:00</td>\n",
       "      <td>Con una inversión de 180mil millones de Bs\\nSe...</td>\n",
       "      <td>3</td>\n",
       "      <td>2021</td>\n",
       "      <td>5</td>\n",
       "    </tr>\n",
       "    <tr>\n",
       "      <th>72</th>\n",
       "      <td>2021-05-03 14:13:10+00:00</td>\n",
       "      <td>El Gobernador @EdwinRojasM indicó que la unida...</td>\n",
       "      <td>3</td>\n",
       "      <td>2021</td>\n",
       "      <td>5</td>\n",
       "    </tr>\n",
       "    <tr>\n",
       "      <th>73</th>\n",
       "      <td>2021-05-03 12:11:49+00:00</td>\n",
       "      <td>Gobernador @EdwinRojasM Siempre pensando en su...</td>\n",
       "      <td>3</td>\n",
       "      <td>2021</td>\n",
       "      <td>5</td>\n",
       "    </tr>\n",
       "    <tr>\n",
       "      <th>74</th>\n",
       "      <td>2021-05-01 16:35:13+00:00</td>\n",
       "      <td>Hermana. El murió primero. En Valencia. Ella m...</td>\n",
       "      <td>1</td>\n",
       "      <td>2021</td>\n",
       "      <td>5</td>\n",
       "    </tr>\n",
       "    <tr>\n",
       "      <th>75</th>\n",
       "      <td>2021-05-01 06:30:06+00:00</td>\n",
       "      <td>#1Mayo ¡Promesa Cumplida! Nueva unidad de cuid...</td>\n",
       "      <td>1</td>\n",
       "      <td>2021</td>\n",
       "      <td>5</td>\n",
       "    </tr>\n",
       "  </tbody>\n",
       "</table>\n",
       "<p>76 rows × 5 columns</p>\n",
       "</div>"
      ],
      "text/plain": [
       "                  created_at  \\\n",
       "0  2021-04-26 12:52:42+00:00   \n",
       "1  2021-04-26 12:51:07+00:00   \n",
       "2  2021-04-23 13:31:15+00:00   \n",
       "3  2021-04-19 13:40:36+00:00   \n",
       "4  2021-04-19 13:30:46+00:00   \n",
       "..                       ...   \n",
       "71 2021-05-03 14:59:27+00:00   \n",
       "72 2021-05-03 14:13:10+00:00   \n",
       "73 2021-05-03 12:11:49+00:00   \n",
       "74 2021-05-01 16:35:13+00:00   \n",
       "75 2021-05-01 06:30:06+00:00   \n",
       "\n",
       "                                                 text  day  year  month  \n",
       "0   UCI DE PRIMER MUNDO✅👏🏻\\n\\n@EdwinRojasM: En la ...   26  2021      4  \n",
       "1   En Vivo 📻 programa La Voz De Sucre 📺\\n@EdwinRo...   26  2021      4  \n",
       "2   Cumpliendo con las orientaciones precisas del ...   23  2021      4  \n",
       "3   #SALUD | Próximamente se estará inaugurando la...   19  2021      4  \n",
       "4   El líder sucrense @EdwinRojasM anunció que  pr...   19  2021      4  \n",
       "..                                                ...  ...   ...    ...  \n",
       "71  Con una inversión de 180mil millones de Bs\\nSe...    3  2021      5  \n",
       "72  El Gobernador @EdwinRojasM indicó que la unida...    3  2021      5  \n",
       "73  Gobernador @EdwinRojasM Siempre pensando en su...    3  2021      5  \n",
       "74  Hermana. El murió primero. En Valencia. Ella m...    1  2021      5  \n",
       "75  #1Mayo ¡Promesa Cumplida! Nueva unidad de cuid...    1  2021      5  \n",
       "\n",
       "[76 rows x 5 columns]"
      ]
     },
     "execution_count": 553,
     "metadata": {},
     "output_type": "execute_result"
    }
   ],
   "source": [
    "datos_twitter8.drop_duplicates(keep='first')"
   ]
  },
  {
   "cell_type": "code",
   "execution_count": 554,
   "id": "10035f19",
   "metadata": {},
   "outputs": [],
   "source": [
    "time_series_with_counts = datos_twitter8[['created_at','day', 'month','year']].groupby(['day', 'month','year']).agg(['count'])"
   ]
  },
  {
   "cell_type": "code",
   "execution_count": 555,
   "id": "a1b885da",
   "metadata": {},
   "outputs": [
    {
     "data": {
      "text/plain": [
       "Text(0, 0.5, 'Conteo')"
      ]
     },
     "execution_count": 555,
     "metadata": {},
     "output_type": "execute_result"
    },
    {
     "data": {
      "image/png": "[encoded data removed]",
      "text/plain": [
       "<Figure size 1440x288 with 1 Axes>"
      ]
     },
     "metadata": {},
     "output_type": "display_data"
    }
   ],
   "source": [
    "sns.set(rc={'figure.figsize':(20, 4)})\n",
    "\n",
    "ax8 = time_series_with_counts.plot()\n",
    "ax8.set_title('UCIS')\n",
    "ax8.set_ylabel('Conteo')"
   ]
  },
  {
   "cell_type": "markdown",
   "id": "10a0ef66",
   "metadata": {},
   "source": [
    "**Búsqueda9**\n",
    "\n",
    "- tratamiento covid-19"
   ]
  },
  {
   "cell_type": "code",
   "execution_count": 268,
   "id": "6b014d14",
   "metadata": {},
   "outputs": [],
   "source": [
    "search_results = t.search_all(query=\"tratamiento covid-19 place_country:VE -is:retweet\", start_time=start_time, end_time=end_time)"
   ]
  },
  {
   "cell_type": "code",
   "execution_count": 269,
   "id": "e4fe1f84",
   "metadata": {},
   "outputs": [],
   "source": [
    "for page in search_results:\n",
    "    with open(\"Datos9.json\", \"w+\") as f:\n",
    "        f.write(json.dumps(page) + \"\\n\")"
   ]
  },
  {
   "cell_type": "code",
   "execution_count": 563,
   "id": "73c3bac1",
   "metadata": {},
   "outputs": [
    {
     "data": {
      "text/plain": [
       "(324, 2)"
      ]
     },
     "execution_count": 563,
     "metadata": {},
     "output_type": "execute_result"
    }
   ],
   "source": [
    "datos_twitter9 = pd.read_csv('datos_twitter9.csv', parse_dates=['created_at']) \n",
    "datos_twitter9.shape"
   ]
  },
  {
   "cell_type": "code",
   "execution_count": 564,
   "id": "7300a9ab",
   "metadata": {},
   "outputs": [],
   "source": [
    "datos_twitter9['day'] = datos_twitter9['created_at'].dt.day\n",
    "datos_twitter9['year'] = datos_twitter9['created_at'].dt.year\n",
    "datos_twitter9['month'] = datos_twitter9['created_at'].dt.month"
   ]
  },
  {
   "cell_type": "code",
   "execution_count": 565,
   "id": "9c58738d",
   "metadata": {},
   "outputs": [
    {
     "data": {
      "text/html": [
       "<div>\n",
       "<style scoped>\n",
       "    .dataframe tbody tr th:only-of-type {\n",
       "        vertical-align: middle;\n",
       "    }\n",
       "\n",
       "    .dataframe tbody tr th {\n",
       "        vertical-align: top;\n",
       "    }\n",
       "\n",
       "    .dataframe thead th {\n",
       "        text-align: right;\n",
       "    }\n",
       "</style>\n",
       "<table border=\"1\" class=\"dataframe\">\n",
       "  <thead>\n",
       "    <tr style=\"text-align: right;\">\n",
       "      <th></th>\n",
       "      <th>created_at</th>\n",
       "      <th>text</th>\n",
       "      <th>day</th>\n",
       "      <th>year</th>\n",
       "      <th>month</th>\n",
       "    </tr>\n",
       "  </thead>\n",
       "  <tbody>\n",
       "    <tr>\n",
       "      <th>0</th>\n",
       "      <td>2021-04-29 13:12:42+00:00</td>\n",
       "      <td>Atender a los pacientes con Covid-19 es una tr...</td>\n",
       "      <td>29</td>\n",
       "      <td>2021</td>\n",
       "      <td>4</td>\n",
       "    </tr>\n",
       "    <tr>\n",
       "      <th>1</th>\n",
       "      <td>2021-04-28 21:17:54+00:00</td>\n",
       "      <td>#28Abr El padre Beltrán Sánchez superó el #Cov...</td>\n",
       "      <td>28</td>\n",
       "      <td>2021</td>\n",
       "      <td>4</td>\n",
       "    </tr>\n",
       "    <tr>\n",
       "      <th>2</th>\n",
       "      <td>2021-04-26 21:55:49+00:00</td>\n",
       "      <td>#26Abr Al final de la noche del domingo #25Abr...</td>\n",
       "      <td>26</td>\n",
       "      <td>2021</td>\n",
       "      <td>4</td>\n",
       "    </tr>\n",
       "    <tr>\n",
       "      <th>3</th>\n",
       "      <td>2021-04-26 13:50:57+00:00</td>\n",
       "      <td>Se entegaron 6 nuevos equipos de ventilación m...</td>\n",
       "      <td>26</td>\n",
       "      <td>2021</td>\n",
       "      <td>4</td>\n",
       "    </tr>\n",
       "    <tr>\n",
       "      <th>4</th>\n",
       "      <td>2021-04-26 10:08:44+00:00</td>\n",
       "      <td>TRATAMIENTO PARA COVID-19 YA     VACUNAS YA</td>\n",
       "      <td>26</td>\n",
       "      <td>2021</td>\n",
       "      <td>4</td>\n",
       "    </tr>\n",
       "    <tr>\n",
       "      <th>...</th>\n",
       "      <td>...</td>\n",
       "      <td>...</td>\n",
       "      <td>...</td>\n",
       "      <td>...</td>\n",
       "      <td>...</td>\n",
       "    </tr>\n",
       "    <tr>\n",
       "      <th>319</th>\n",
       "      <td>2020-03-15 20:00:44+00:00</td>\n",
       "      <td>No se deben usar antibióticos como medio de pr...</td>\n",
       "      <td>15</td>\n",
       "      <td>2020</td>\n",
       "      <td>3</td>\n",
       "    </tr>\n",
       "    <tr>\n",
       "      <th>320</th>\n",
       "      <td>2020-03-14 03:26:41+00:00</td>\n",
       "      <td>#coronapocalypse #coronavirusvenezuela #Covid_...</td>\n",
       "      <td>14</td>\n",
       "      <td>2020</td>\n",
       "      <td>3</td>\n",
       "    </tr>\n",
       "    <tr>\n",
       "      <th>321</th>\n",
       "      <td>2020-03-13 19:36:45+00:00</td>\n",
       "      <td>La Cuba \"Castro-Comunista\"  a la vanguardia mu...</td>\n",
       "      <td>13</td>\n",
       "      <td>2020</td>\n",
       "      <td>3</td>\n",
       "    </tr>\n",
       "    <tr>\n",
       "      <th>322</th>\n",
       "      <td>2020-03-13 02:37:57+00:00</td>\n",
       "      <td>@joselui02124198 Así como han ocultado estadís...</td>\n",
       "      <td>13</td>\n",
       "      <td>2020</td>\n",
       "      <td>3</td>\n",
       "    </tr>\n",
       "    <tr>\n",
       "      <th>323</th>\n",
       "      <td>2021-05-07 23:46:31+00:00</td>\n",
       "      <td>#VacunasCertificadasYa\\n#LasVacunasSonUrgentes...</td>\n",
       "      <td>7</td>\n",
       "      <td>2021</td>\n",
       "      <td>5</td>\n",
       "    </tr>\n",
       "  </tbody>\n",
       "</table>\n",
       "<p>324 rows × 5 columns</p>\n",
       "</div>"
      ],
      "text/plain": [
       "                   created_at  \\\n",
       "0   2021-04-29 13:12:42+00:00   \n",
       "1   2021-04-28 21:17:54+00:00   \n",
       "2   2021-04-26 21:55:49+00:00   \n",
       "3   2021-04-26 13:50:57+00:00   \n",
       "4   2021-04-26 10:08:44+00:00   \n",
       "..                        ...   \n",
       "319 2020-03-15 20:00:44+00:00   \n",
       "320 2020-03-14 03:26:41+00:00   \n",
       "321 2020-03-13 19:36:45+00:00   \n",
       "322 2020-03-13 02:37:57+00:00   \n",
       "323 2021-05-07 23:46:31+00:00   \n",
       "\n",
       "                                                  text  day  year  month  \n",
       "0    Atender a los pacientes con Covid-19 es una tr...   29  2021      4  \n",
       "1    #28Abr El padre Beltrán Sánchez superó el #Cov...   28  2021      4  \n",
       "2    #26Abr Al final de la noche del domingo #25Abr...   26  2021      4  \n",
       "3    Se entegaron 6 nuevos equipos de ventilación m...   26  2021      4  \n",
       "4          TRATAMIENTO PARA COVID-19 YA     VACUNAS YA   26  2021      4  \n",
       "..                                                 ...  ...   ...    ...  \n",
       "319  No se deben usar antibióticos como medio de pr...   15  2020      3  \n",
       "320  #coronapocalypse #coronavirusvenezuela #Covid_...   14  2020      3  \n",
       "321  La Cuba \"Castro-Comunista\"  a la vanguardia mu...   13  2020      3  \n",
       "322  @joselui02124198 Así como han ocultado estadís...   13  2020      3  \n",
       "323  #VacunasCertificadasYa\\n#LasVacunasSonUrgentes...    7  2021      5  \n",
       "\n",
       "[324 rows x 5 columns]"
      ]
     },
     "execution_count": 565,
     "metadata": {},
     "output_type": "execute_result"
    }
   ],
   "source": [
    "datos_twitter9.drop_duplicates(keep='first')"
   ]
  },
  {
   "cell_type": "code",
   "execution_count": 559,
   "id": "4a9322d4",
   "metadata": {},
   "outputs": [],
   "source": [
    "time_series_with_counts = datos_twitter9[['created_at','day', 'month','year']].groupby(['day', 'month','year']).agg(['count'])"
   ]
  },
  {
   "cell_type": "code",
   "execution_count": 560,
   "id": "9cade8b2",
   "metadata": {},
   "outputs": [
    {
     "data": {
      "text/plain": [
       "Text(0, 0.5, 'Conteo')"
      ]
     },
     "execution_count": 560,
     "metadata": {},
     "output_type": "execute_result"
    },
    {
     "data": {
      "image/png": "[encoded data removed]",
      "text/plain": [
       "<Figure size 1440x288 with 1 Axes>"
      ]
     },
     "metadata": {},
     "output_type": "display_data"
    }
   ],
   "source": [
    "sns.set(rc={'figure.figsize':(20, 4)})\n",
    "ax9 = time_series_with_counts.plot()\n",
    "ax9.set_title('Tratamiento COVID-19')\n",
    "ax9.set_ylabel('Conteo')"
   ]
  },
  {
   "cell_type": "code",
   "execution_count": null,
   "id": "18e37d32",
   "metadata": {},
   "outputs": [],
   "source": []
  }
 ],
 "metadata": {
  "kernelspec": {
   "display_name": "Python 3",
   "language": "python",
   "name": "python3"
  },
  "language_info": {
   "codemirror_mode": {
    "name": "ipython",
    "version": 3
   },
   "file_extension": ".py",
   "mimetype": "text/x-python",
   "name": "python",
   "nbconvert_exporter": "python",
   "pygments_lexer": "ipython3",
   "version": "3.8.8"
  }
 },
 "nbformat": 4,
 "nbformat_minor": 5
}
