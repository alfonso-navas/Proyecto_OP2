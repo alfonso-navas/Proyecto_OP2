{
 "cells": [
  {
   "cell_type": "markdown",
   "metadata": {},
   "source": [
    "# Exploración de indicadores que reflejen la incidencia de Covid-19 en Venezuela usando fuentes de datos no oficiales.\n",
    "\n",
    "# GoFundMe - Tratamiento ético de los datos\n",
    "___\n",
    "\n",
    "GoFundMe es una campaña de crowdfunding. El crowdfunding aprovecha el poder de las redes sociales e Internet para proporcionar a la gente medios para recaudar fondos, ayudar a otros a superar dificultades y lograr los objetivos a los que aspiran.\n",
    "\n",
    "Este notebook de Jupyter contiene todo el código utilizado para el tratamiento de los datos extraídos de la campañas de GoFundMe. \n",
    "\n",
    "___\n",
    "\n",
    "\n",
    "## Configuración\n",
    "\n",
    "Configurar el entorno importando las bibliotecas con las que se van trabajar. "
   ]
  },
  {
   "cell_type": "code",
   "execution_count": 1,
   "metadata": {},
   "outputs": [],
   "source": [
    "import numpy as np\n",
    "import matplotlib.pyplot as plt\n",
    "%matplotlib inline\n",
    "import pandas as pd"
   ]
  },
  {
   "cell_type": "markdown",
   "metadata": {},
   "source": [
    "Se importan los datos:"
   ]
  },
  {
   "cell_type": "code",
   "execution_count": 7,
   "metadata": {},
   "outputs": [],
   "source": [
    "df = pd.read_pickle('../datos/GoFundMeData_Venezuela_Covid_covid19_covid-19_20210513.pkl') #versión final\n",
    "\n",
    "# convertimos la columna tags: lista -> string\n",
    "df = df.explode('tags')"
   ]
  },
  {
   "cell_type": "code",
   "execution_count": 8,
   "metadata": {},
   "outputs": [
    {
     "data": {
      "text/plain": [
       "Index(['url', 'title', 'tags', 'current amount', 'total_amount', 'description',\n",
       "       'created', 'launch_date', 'country', 'donation_count', 'is_charity'],\n",
       "      dtype='object')"
      ]
     },
     "execution_count": 8,
     "metadata": {},
     "output_type": "execute_result"
    }
   ],
   "source": [
    "# leemos las columnas\n",
    "df.columns"
   ]
  },
  {
   "cell_type": "markdown",
   "metadata": {},
   "source": [
    "e observaS que las columnas que podrían contener información que podría comprometer la privacidad de las personas involucradas en las campañas son: *url, title, description*. En ese orden de ideas, eliminamos estas columnas de los datos."
   ]
  },
  {
   "cell_type": "code",
   "execution_count": 9,
   "metadata": {},
   "outputs": [
    {
     "data": {
      "text/html": [
       "<div>\n",
       "<style scoped>\n",
       "    .dataframe tbody tr th:only-of-type {\n",
       "        vertical-align: middle;\n",
       "    }\n",
       "\n",
       "    .dataframe tbody tr th {\n",
       "        vertical-align: top;\n",
       "    }\n",
       "\n",
       "    .dataframe thead th {\n",
       "        text-align: right;\n",
       "    }\n",
       "</style>\n",
       "<table border=\"1\" class=\"dataframe\">\n",
       "  <thead>\n",
       "    <tr style=\"text-align: right;\">\n",
       "      <th></th>\n",
       "      <th>tags</th>\n",
       "      <th>current amount</th>\n",
       "      <th>total_amount</th>\n",
       "      <th>created</th>\n",
       "      <th>launch_date</th>\n",
       "      <th>country</th>\n",
       "      <th>donation_count</th>\n",
       "      <th>is_charity</th>\n",
       "    </tr>\n",
       "  </thead>\n",
       "  <tbody>\n",
       "    <tr>\n",
       "      <th>0</th>\n",
       "      <td>Medical, Illness &amp; Healing</td>\n",
       "      <td>$17,550</td>\n",
       "      <td>$50,000</td>\n",
       "      <td>Created April 2, 2021</td>\n",
       "      <td>2021-04-02</td>\n",
       "      <td>US</td>\n",
       "      <td>174</td>\n",
       "      <td>false</td>\n",
       "    </tr>\n",
       "    <tr>\n",
       "      <th>1</th>\n",
       "      <td>Volunteer &amp; Service</td>\n",
       "      <td>$5,730</td>\n",
       "      <td>$6,000</td>\n",
       "      <td>Created April 13, 2020</td>\n",
       "      <td>2020-04-13</td>\n",
       "      <td>US</td>\n",
       "      <td>148</td>\n",
       "      <td>false</td>\n",
       "    </tr>\n",
       "    <tr>\n",
       "      <th>2</th>\n",
       "      <td>Medical, Illness &amp; Healing</td>\n",
       "      <td>$5,350</td>\n",
       "      <td>$5,000</td>\n",
       "      <td>Created April 25, 2020</td>\n",
       "      <td>2020-04-25</td>\n",
       "      <td>US</td>\n",
       "      <td>142</td>\n",
       "      <td>false</td>\n",
       "    </tr>\n",
       "    <tr>\n",
       "      <th>3</th>\n",
       "      <td>Medical, Illness &amp; Healing</td>\n",
       "      <td>$3,239</td>\n",
       "      <td>$8,000</td>\n",
       "      <td>Created April 6, 2021</td>\n",
       "      <td>2021-04-06</td>\n",
       "      <td>US</td>\n",
       "      <td>37</td>\n",
       "      <td>false</td>\n",
       "    </tr>\n",
       "    <tr>\n",
       "      <th>4</th>\n",
       "      <td>Animals &amp; Pets</td>\n",
       "      <td>€1,050</td>\n",
       "      <td>€1,800</td>\n",
       "      <td>Created July 5, 2020</td>\n",
       "      <td>2020-07-05</td>\n",
       "      <td>US</td>\n",
       "      <td>32</td>\n",
       "      <td>false</td>\n",
       "    </tr>\n",
       "  </tbody>\n",
       "</table>\n",
       "</div>"
      ],
      "text/plain": [
       "                         tags current amount total_amount  \\\n",
       "0  Medical, Illness & Healing        $17,550      $50,000   \n",
       "1         Volunteer & Service         $5,730       $6,000   \n",
       "2  Medical, Illness & Healing         $5,350       $5,000   \n",
       "3  Medical, Illness & Healing         $3,239       $8,000   \n",
       "4              Animals & Pets         €1,050       €1,800   \n",
       "\n",
       "                  created launch_date country donation_count is_charity  \n",
       "0   Created April 2, 2021  2021-04-02      US            174      false  \n",
       "1  Created April 13, 2020  2020-04-13      US            148      false  \n",
       "2  Created April 25, 2020  2020-04-25      US            142      false  \n",
       "3   Created April 6, 2021  2021-04-06      US             37      false  \n",
       "4    Created July 5, 2020  2020-07-05      US             32      false  "
      ]
     },
     "execution_count": 9,
     "metadata": {},
     "output_type": "execute_result"
    }
   ],
   "source": [
    "df = df.drop(['url', 'title', 'description'], axis = 1)\n",
    "df.head() #verificamos que no se muestra información comprometedora"
   ]
  },
  {
   "cell_type": "markdown",
   "metadata": {},
   "source": [
    "Por último, hay que asegurarse que el índice que se usa en cada fila es único."
   ]
  },
  {
   "cell_type": "code",
   "execution_count": 10,
   "metadata": {},
   "outputs": [],
   "source": [
    "n = len(df.index)\n",
    "indices = np.arange(n)\n",
    "df = df.set_index(indices)"
   ]
  },
  {
   "cell_type": "code",
   "execution_count": 19,
   "metadata": {},
   "outputs": [
    {
     "data": {
      "text/plain": [
       "2042"
      ]
     },
     "execution_count": 19,
     "metadata": {},
     "output_type": "execute_result"
    }
   ],
   "source": [
    "n"
   ]
  },
  {
   "cell_type": "markdown",
   "metadata": {},
   "source": [
    "Finalmente, exportamos estos datos que son con los que se trabajará:"
   ]
  },
  {
   "cell_type": "code",
   "execution_count": 11,
   "metadata": {},
   "outputs": [],
   "source": [
    "df.to_csv('../datos/datos_GoFundMe.csv') "
   ]
  }
 ],
 "metadata": {
  "kernelspec": {
   "display_name": "Python 3",
   "language": "python",
   "name": "python3"
  },
  "language_info": {
   "codemirror_mode": {
    "name": "ipython",
    "version": 3
   },
   "file_extension": ".py",
   "mimetype": "text/x-python",
   "name": "python",
   "nbconvert_exporter": "python",
   "pygments_lexer": "ipython3",
   "version": "3.8.8"
  }
 },
 "nbformat": 4,
 "nbformat_minor": 4
}
