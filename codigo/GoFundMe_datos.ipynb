{
 "cells": [
  {
   "cell_type": "markdown",
   "metadata": {},
   "source": [
    "# Exploración de indicadores que reflejen la incidencia de Covid-19 en Venezuela usando fuentes de datos no oficiales\n",
    "\n",
    "# GoFundMe - Limpieza y tratamiento ético de los datos\n",
    "___\n",
    "\n",
    "GoFundMe es una campaña de crowdfunding. El crowdfunding aprovecha el poder de las redes sociales e Internet para proporcionar a la gente medios para recaudar fondos, ayudar a otros a superar dificultades y lograr los objetivos a los que aspiran.\n",
    "\n",
    "Este notebook de Jupyter contiene todo el código utilizado para el tratamiento de los datos extraídos de la campañas de GoFundMe. \n",
    "\n",
    "___\n",
    "\n",
    "\n",
    "## Configuración\n",
    "\n",
    "Configurar el entorno importando las bibliotecas con las que se van trabajar. "
   ]
  },
  {
   "cell_type": "code",
   "execution_count": 2,
   "metadata": {},
   "outputs": [],
   "source": [
    "import numpy as np\n",
    "import matplotlib.pyplot as plt\n",
    "%matplotlib inline\n",
    "import pandas as pd\n",
    "from currency_converter import CurrencyConverter\n",
    "c = CurrencyConverter()"
   ]
  },
  {
   "cell_type": "markdown",
   "metadata": {},
   "source": [
    "Se importan los datos:"
   ]
  },
  {
   "cell_type": "code",
   "execution_count": 3,
   "metadata": {},
   "outputs": [],
   "source": [
    "df = pd.read_pickle('../datos/GoFundMeData_Venezuela_Covid_covid19_covid-19_20210513.pkl') #versión final\n",
    "\n",
    "# convertimos la columna tags: lista -> string\n",
    "df = df.explode('tags')\n",
    "\n",
    "# nos asegutamos que la columna_count tenga formato numerico\n",
    "df['donation_count'] = pd.to_numeric(df['donation_count'])\n",
    "\n",
    "# Todos los tags: 'salud' los incluimos en 'Medical, Illness & Healing'\n",
    "df.loc[df['tags'] == 'salud', 'tags'] = 'Medical, Illness & Healing'\n",
    "\n",
    "# filtramos fechas que no corresponden a nuestro rango de interés\n",
    "filtro = df['launch_date'] > '2020-01-01'\n",
    "df = df[filtro]"
   ]
  },
  {
   "cell_type": "code",
   "execution_count": 4,
   "metadata": {},
   "outputs": [
    {
     "data": {
      "text/plain": [
       "Index(['url', 'title', 'tags', 'current amount', 'total_amount', 'description',\n",
       "       'created', 'launch_date', 'country', 'donation_count', 'is_charity'],\n",
       "      dtype='object')"
      ]
     },
     "execution_count": 4,
     "metadata": {},
     "output_type": "execute_result"
    }
   ],
   "source": [
    "# leemos las columnas\n",
    "df.columns"
   ]
  },
  {
   "cell_type": "markdown",
   "metadata": {},
   "source": [
    "e observaS que las columnas que podrían contener información que podría comprometer la privacidad de las personas involucradas en las campañas son: *url, title, description*. En ese orden de ideas, eliminamos estas columnas de los datos."
   ]
  },
  {
   "cell_type": "code",
   "execution_count": 5,
   "metadata": {},
   "outputs": [
    {
     "data": {
      "text/html": [
       "<div>\n",
       "<style scoped>\n",
       "    .dataframe tbody tr th:only-of-type {\n",
       "        vertical-align: middle;\n",
       "    }\n",
       "\n",
       "    .dataframe tbody tr th {\n",
       "        vertical-align: top;\n",
       "    }\n",
       "\n",
       "    .dataframe thead th {\n",
       "        text-align: right;\n",
       "    }\n",
       "</style>\n",
       "<table border=\"1\" class=\"dataframe\">\n",
       "  <thead>\n",
       "    <tr style=\"text-align: right;\">\n",
       "      <th></th>\n",
       "      <th>tags</th>\n",
       "      <th>current amount</th>\n",
       "      <th>total_amount</th>\n",
       "      <th>created</th>\n",
       "      <th>launch_date</th>\n",
       "      <th>country</th>\n",
       "      <th>donation_count</th>\n",
       "      <th>is_charity</th>\n",
       "    </tr>\n",
       "  </thead>\n",
       "  <tbody>\n",
       "    <tr>\n",
       "      <th>0</th>\n",
       "      <td>Medical, Illness &amp; Healing</td>\n",
       "      <td>$17,550</td>\n",
       "      <td>$50,000</td>\n",
       "      <td>Created April 2, 2021</td>\n",
       "      <td>2021-04-02</td>\n",
       "      <td>US</td>\n",
       "      <td>174</td>\n",
       "      <td>false</td>\n",
       "    </tr>\n",
       "    <tr>\n",
       "      <th>1</th>\n",
       "      <td>Volunteer &amp; Service</td>\n",
       "      <td>$5,730</td>\n",
       "      <td>$6,000</td>\n",
       "      <td>Created April 13, 2020</td>\n",
       "      <td>2020-04-13</td>\n",
       "      <td>US</td>\n",
       "      <td>148</td>\n",
       "      <td>false</td>\n",
       "    </tr>\n",
       "    <tr>\n",
       "      <th>2</th>\n",
       "      <td>Medical, Illness &amp; Healing</td>\n",
       "      <td>$5,350</td>\n",
       "      <td>$5,000</td>\n",
       "      <td>Created April 25, 2020</td>\n",
       "      <td>2020-04-25</td>\n",
       "      <td>US</td>\n",
       "      <td>142</td>\n",
       "      <td>false</td>\n",
       "    </tr>\n",
       "    <tr>\n",
       "      <th>3</th>\n",
       "      <td>Medical, Illness &amp; Healing</td>\n",
       "      <td>$3,239</td>\n",
       "      <td>$8,000</td>\n",
       "      <td>Created April 6, 2021</td>\n",
       "      <td>2021-04-06</td>\n",
       "      <td>US</td>\n",
       "      <td>37</td>\n",
       "      <td>false</td>\n",
       "    </tr>\n",
       "    <tr>\n",
       "      <th>4</th>\n",
       "      <td>Animals &amp; Pets</td>\n",
       "      <td>€1,050</td>\n",
       "      <td>€1,800</td>\n",
       "      <td>Created July 5, 2020</td>\n",
       "      <td>2020-07-05</td>\n",
       "      <td>US</td>\n",
       "      <td>32</td>\n",
       "      <td>false</td>\n",
       "    </tr>\n",
       "  </tbody>\n",
       "</table>\n",
       "</div>"
      ],
      "text/plain": [
       "                         tags current amount total_amount  \\\n",
       "0  Medical, Illness & Healing        $17,550      $50,000   \n",
       "1         Volunteer & Service         $5,730       $6,000   \n",
       "2  Medical, Illness & Healing         $5,350       $5,000   \n",
       "3  Medical, Illness & Healing         $3,239       $8,000   \n",
       "4              Animals & Pets         €1,050       €1,800   \n",
       "\n",
       "                  created launch_date country  donation_count is_charity  \n",
       "0   Created April 2, 2021  2021-04-02      US             174      false  \n",
       "1  Created April 13, 2020  2020-04-13      US             148      false  \n",
       "2  Created April 25, 2020  2020-04-25      US             142      false  \n",
       "3   Created April 6, 2021  2021-04-06      US              37      false  \n",
       "4    Created July 5, 2020  2020-07-05      US              32      false  "
      ]
     },
     "execution_count": 5,
     "metadata": {},
     "output_type": "execute_result"
    }
   ],
   "source": [
    "df = df.drop(['url', 'title', 'description'], axis = 1)\n",
    "df.head() #verificamos que no se muestra información comprometedora"
   ]
  },
  {
   "cell_type": "markdown",
   "metadata": {},
   "source": [
    "Ahora, hay que asegurarse que el índice que se usa en cada fila es único."
   ]
  },
  {
   "cell_type": "code",
   "execution_count": 6,
   "metadata": {},
   "outputs": [],
   "source": [
    "n = len(df.index)\n",
    "indices = np.arange(n)\n",
    "df = df.set_index(indices)"
   ]
  },
  {
   "cell_type": "markdown",
   "metadata": {},
   "source": [
    "### Limpieza de divisas\n",
    "\n",
    "Antes que todo, verifiquemos que los datos estén completos:"
   ]
  },
  {
   "cell_type": "code",
   "execution_count": 7,
   "metadata": {
    "scrolled": true
   },
   "outputs": [
    {
     "data": {
      "text/html": [
       "<div>\n",
       "<style scoped>\n",
       "    .dataframe tbody tr th:only-of-type {\n",
       "        vertical-align: middle;\n",
       "    }\n",
       "\n",
       "    .dataframe tbody tr th {\n",
       "        vertical-align: top;\n",
       "    }\n",
       "\n",
       "    .dataframe thead th {\n",
       "        text-align: right;\n",
       "    }\n",
       "</style>\n",
       "<table border=\"1\" class=\"dataframe\">\n",
       "  <thead>\n",
       "    <tr style=\"text-align: right;\">\n",
       "      <th></th>\n",
       "      <th>tags</th>\n",
       "      <th>current amount</th>\n",
       "      <th>total_amount</th>\n",
       "      <th>created</th>\n",
       "      <th>launch_date</th>\n",
       "      <th>country</th>\n",
       "      <th>donation_count</th>\n",
       "      <th>is_charity</th>\n",
       "    </tr>\n",
       "  </thead>\n",
       "  <tbody>\n",
       "  </tbody>\n",
       "</table>\n",
       "</div>"
      ],
      "text/plain": [
       "Empty DataFrame\n",
       "Columns: [tags, current amount, total_amount, created, launch_date, country, donation_count, is_charity]\n",
       "Index: []"
      ]
     },
     "execution_count": 7,
     "metadata": {},
     "output_type": "execute_result"
    }
   ],
   "source": [
    "# sub df de datos con valores nulos para la variable 'total_amount'\n",
    "df[pd.isnull(df['total_amount'])]"
   ]
  },
  {
   "cell_type": "markdown",
   "metadata": {},
   "source": [
    "Vemos que no hace falta ningún valor. \n",
    "\n",
    "Algo de lo que nos percatamos es que el dinero no se solicita en la misma divisa. Para solucionar esto, se identifican los signos de todas las divisas presentes en nuestros datos. En este orden de ideas, se crea una función que recibe una lista/arreglo/serie de cantidades de dinero expresadas en diferentes divisas y devuelve la lista de símbolos de cada una de estas divisas:"
   ]
  },
  {
   "cell_type": "code",
   "execution_count": 8,
   "metadata": {},
   "outputs": [],
   "source": [
    "def lista_signos(dinero):\n",
    "    signos = []\n",
    "    for string in dinero:\n",
    "        signo = ''\n",
    "        string = str(string)\n",
    "        for char in string:\n",
    "            if char.isnumeric():\n",
    "                break\n",
    "            else:\n",
    "                signo += char\n",
    "        if signo == '':\n",
    "            signo = 'no registra'\n",
    "        signos.append(signo) \n",
    "    return signos"
   ]
  },
  {
   "cell_type": "markdown",
   "metadata": {},
   "source": [
    "Identificamos los símbolos para las cantidades de dinero en las columnas: *current amount*, *total_amount*"
   ]
  },
  {
   "cell_type": "code",
   "execution_count": 9,
   "metadata": {},
   "outputs": [
    {
     "name": "stdout",
     "output_type": "stream",
     "text": [
      "{'€', '$', 'kr', 'no registra', 'CHF', '£'} {'€', '$', 'kr', 'CHF', '£'}\n"
     ]
    }
   ],
   "source": [
    "#current amount\n",
    "signos_current = np.array(lista_signos(df['current amount']))\n",
    "\n",
    "#total_amount\n",
    "signos_total = np.array(lista_signos(df['total_amount']))\n",
    "\n",
    "#veamos cuáles signos se encuentra en cada caso\n",
    "print(set(signos_current), set(signos_total))"
   ]
  },
  {
   "cell_type": "markdown",
   "metadata": {},
   "source": [
    "Exploremos las filas que no registran valor en la columna *current amount*:"
   ]
  },
  {
   "cell_type": "code",
   "execution_count": 10,
   "metadata": {},
   "outputs": [
    {
     "data": {
      "text/html": [
       "<div>\n",
       "<style scoped>\n",
       "    .dataframe tbody tr th:only-of-type {\n",
       "        vertical-align: middle;\n",
       "    }\n",
       "\n",
       "    .dataframe tbody tr th {\n",
       "        vertical-align: top;\n",
       "    }\n",
       "\n",
       "    .dataframe thead th {\n",
       "        text-align: right;\n",
       "    }\n",
       "</style>\n",
       "<table border=\"1\" class=\"dataframe\">\n",
       "  <thead>\n",
       "    <tr style=\"text-align: right;\">\n",
       "      <th></th>\n",
       "      <th>tags</th>\n",
       "      <th>current amount</th>\n",
       "      <th>total_amount</th>\n",
       "      <th>created</th>\n",
       "      <th>launch_date</th>\n",
       "      <th>country</th>\n",
       "      <th>donation_count</th>\n",
       "      <th>is_charity</th>\n",
       "    </tr>\n",
       "  </thead>\n",
       "  <tbody>\n",
       "    <tr>\n",
       "      <th>59</th>\n",
       "      <td>Medical, Illness &amp; Healing</td>\n",
       "      <td>1,796</td>\n",
       "      <td>$</td>\n",
       "      <td>Created July 29, 2020</td>\n",
       "      <td>2020-07-29</td>\n",
       "      <td>US</td>\n",
       "      <td>51</td>\n",
       "      <td>false</td>\n",
       "    </tr>\n",
       "    <tr>\n",
       "      <th>70</th>\n",
       "      <td>Medical, Illness &amp; Healing</td>\n",
       "      <td>140</td>\n",
       "      <td>$</td>\n",
       "      <td>Created April 11, 2021</td>\n",
       "      <td>2021-04-11</td>\n",
       "      <td>US</td>\n",
       "      <td>10</td>\n",
       "      <td>false</td>\n",
       "    </tr>\n",
       "    <tr>\n",
       "      <th>74</th>\n",
       "      <td>Medical, Illness &amp; Healing</td>\n",
       "      <td>142</td>\n",
       "      <td>€</td>\n",
       "      <td>Created February 18, 2021</td>\n",
       "      <td>2021-02-18</td>\n",
       "      <td>US</td>\n",
       "      <td>7</td>\n",
       "      <td>false</td>\n",
       "    </tr>\n",
       "  </tbody>\n",
       "</table>\n",
       "</div>"
      ],
      "text/plain": [
       "                          tags current amount total_amount  \\\n",
       "59  Medical, Illness & Healing          1,796            $   \n",
       "70  Medical, Illness & Healing            140            $   \n",
       "74  Medical, Illness & Healing            142            €   \n",
       "\n",
       "                      created launch_date country  donation_count is_charity  \n",
       "59      Created July 29, 2020  2020-07-29      US              51      false  \n",
       "70     Created April 11, 2021  2021-04-11      US              10      false  \n",
       "74  Created February 18, 2021  2021-02-18      US               7      false  "
      ]
     },
     "execution_count": 10,
     "metadata": {},
     "output_type": "execute_result"
    }
   ],
   "source": [
    "df[signos_current == 'no registra'].head(3)"
   ]
  },
  {
   "cell_type": "markdown",
   "metadata": {},
   "source": [
    "Para los demás filas, verifiquemos que los signos de ambas columnas concuerdan:"
   ]
  },
  {
   "cell_type": "code",
   "execution_count": 11,
   "metadata": {},
   "outputs": [
    {
     "data": {
      "text/plain": [
       "0"
      ]
     },
     "execution_count": 11,
     "metadata": {},
     "output_type": "execute_result"
    }
   ],
   "source": [
    "# filtro para las columnas en las que sí se registra el signo en la columna: current amount\n",
    "filtro = np.array(signos_current) != 'no registra'\n",
    "\n",
    "sum(signos_current[filtro] != signos_total[filtro]) # el resultado de esta suma es el número de filas con incongruencias"
   ]
  },
  {
   "cell_type": "markdown",
   "metadata": {},
   "source": [
    "Vemos que en todas las demás filas concuerdan, por lo tanto, se asumirá que la divisa que se utiliza en la columna *current amount* es la misma que se usa en la columna *total_amount*. Con esta información, se modificará el DataFrame para que sea más fácil generar resultados. Los cambios que se planean hacer son los siguientes:\n",
    "1. Agregar una columna en donde se señale la divisa que se usa en la campaña.\n",
    "2. Modificar las columnas *current amount* y *total_amount* para que cada entrada corresponda alvalor numérico de los montos.\n",
    "3. Agregar dos columnas: *current amount in dollars*, *total amount in dollars* con los valores monetarios en dolares.\n",
    "4. Agregar otra columna: *percentage of completion*, que cuantifica cuanto ha avanzado la campaña.\n",
    "\n",
    "Cabe mencionar, que para cumplir estos objetivos se usará la biblioteca `currency_converter`.\n",
    "\n",
    "Empezamos con el primer punto:"
   ]
  },
  {
   "cell_type": "code",
   "execution_count": 12,
   "metadata": {},
   "outputs": [],
   "source": [
    "monedas = []\n",
    "for signo in signos_total:\n",
    "    if signo == 'CHF':\n",
    "        monedas.append('CHF')\n",
    "    elif signo == 'kr':\n",
    "        monedas.append('SEK')\n",
    "    elif signo == '$':\n",
    "        monedas.append('USD')\n",
    "    elif signo == '£':\n",
    "        monedas.append('GBP')\n",
    "    elif signo == '€':\n",
    "        monedas.append('EUR')\n",
    "\n",
    "#agregamos la columna de códigos\n",
    "df.insert(3, 'currency used', monedas)"
   ]
  },
  {
   "cell_type": "markdown",
   "metadata": {},
   "source": [
    "Para el segundo punto, creamos una función:"
   ]
  },
  {
   "cell_type": "code",
   "execution_count": 13,
   "metadata": {},
   "outputs": [],
   "source": [
    "def modificar_columna_dinero(DataFrame, nombre_columna, signos):\n",
    "    col = df.columns.get_loc(nombre_columna)\n",
    "    n = len(DataFrame.index)\n",
    "    for i in range(n):\n",
    "        valor = DataFrame.iloc[i, col]\n",
    "        valor = valor.replace(signos[i], '').replace(',', '') #quitamos el signo y la coma\n",
    "        if valor.isnumeric():\n",
    "            valor = int(valor)\n",
    "        else:\n",
    "            valor = np.nan # sabemos que los único nan que estén presentes en los datos\n",
    "                           # serán los que se agreguen en este paso.\n",
    "        DataFrame.iloc[i, col] = valor"
   ]
  },
  {
   "cell_type": "code",
   "execution_count": 14,
   "metadata": {},
   "outputs": [],
   "source": [
    "# con la función que creamos, modificamos las columnas\n",
    "modificar_columna_dinero(df, 'current amount', signos_current)\n",
    "modificar_columna_dinero(df, 'total_amount', signos_total)"
   ]
  },
  {
   "cell_type": "markdown",
   "metadata": {},
   "source": [
    "En el tercer paso se utilizará la biblioteca `currency converter`. Para evitar ambigüedades se tomará como referencia el valor del dólar del día 3 de marzo de 2021, que es el último día disponible en la biblioteca:"
   ]
  },
  {
   "cell_type": "code",
   "execution_count": 15,
   "metadata": {},
   "outputs": [],
   "source": [
    "current_dolares = np.array([])\n",
    "total_dolares = np.array([])\n",
    "n = len(df.index)\n",
    "for i in range(n):\n",
    "    # usamos la última fecha disponible en la biblioteca para hacer el cambio a dolares\n",
    "    current_dolares = np.append(current_dolares, c.convert(df['current amount'].iloc[i], df['currency used'].iloc[i], \n",
    "                                     'USD', pd.to_datetime('2021-03-09'))) \n",
    "    total_dolares = np.append(total_dolares, c.convert(df['total_amount'].iloc[i], df['currency used'].iloc[i], \n",
    "                                   'USD', pd.to_datetime('2021-03-09')))\n",
    "\n",
    "#agregamos las nuevas columnas:\n",
    "df.insert(4, 'current amount in dollars', current_dolares)\n",
    "df.insert(5, 'total amount in dollars', total_dolares)"
   ]
  },
  {
   "cell_type": "markdown",
   "metadata": {},
   "source": [
    "Por por último, insertamos la columna: *percentage of completion*"
   ]
  },
  {
   "cell_type": "code",
   "execution_count": 16,
   "metadata": {},
   "outputs": [],
   "source": [
    "df.insert(6, 'percentage of completion', (current_dolares/total_dolares)*100)"
   ]
  },
  {
   "cell_type": "markdown",
   "metadata": {},
   "source": [
    "Visualicemos el resultado final:"
   ]
  },
  {
   "cell_type": "code",
   "execution_count": 17,
   "metadata": {
    "scrolled": false
   },
   "outputs": [
    {
     "data": {
      "text/html": [
       "<div>\n",
       "<style scoped>\n",
       "    .dataframe tbody tr th:only-of-type {\n",
       "        vertical-align: middle;\n",
       "    }\n",
       "\n",
       "    .dataframe tbody tr th {\n",
       "        vertical-align: top;\n",
       "    }\n",
       "\n",
       "    .dataframe thead th {\n",
       "        text-align: right;\n",
       "    }\n",
       "</style>\n",
       "<table border=\"1\" class=\"dataframe\">\n",
       "  <thead>\n",
       "    <tr style=\"text-align: right;\">\n",
       "      <th></th>\n",
       "      <th>tags</th>\n",
       "      <th>current amount</th>\n",
       "      <th>total_amount</th>\n",
       "      <th>currency used</th>\n",
       "      <th>current amount in dollars</th>\n",
       "      <th>total amount in dollars</th>\n",
       "      <th>percentage of completion</th>\n",
       "      <th>created</th>\n",
       "      <th>launch_date</th>\n",
       "      <th>country</th>\n",
       "      <th>donation_count</th>\n",
       "      <th>is_charity</th>\n",
       "    </tr>\n",
       "  </thead>\n",
       "  <tbody>\n",
       "    <tr>\n",
       "      <th>0</th>\n",
       "      <td>Medical, Illness &amp; Healing</td>\n",
       "      <td>17550</td>\n",
       "      <td>50000</td>\n",
       "      <td>USD</td>\n",
       "      <td>17550.00</td>\n",
       "      <td>50000.00</td>\n",
       "      <td>35.100000</td>\n",
       "      <td>Created April 2, 2021</td>\n",
       "      <td>2021-04-02</td>\n",
       "      <td>US</td>\n",
       "      <td>174</td>\n",
       "      <td>false</td>\n",
       "    </tr>\n",
       "    <tr>\n",
       "      <th>1</th>\n",
       "      <td>Volunteer &amp; Service</td>\n",
       "      <td>5730</td>\n",
       "      <td>6000</td>\n",
       "      <td>USD</td>\n",
       "      <td>5730.00</td>\n",
       "      <td>6000.00</td>\n",
       "      <td>95.500000</td>\n",
       "      <td>Created April 13, 2020</td>\n",
       "      <td>2020-04-13</td>\n",
       "      <td>US</td>\n",
       "      <td>148</td>\n",
       "      <td>false</td>\n",
       "    </tr>\n",
       "    <tr>\n",
       "      <th>2</th>\n",
       "      <td>Medical, Illness &amp; Healing</td>\n",
       "      <td>5350</td>\n",
       "      <td>5000</td>\n",
       "      <td>USD</td>\n",
       "      <td>5350.00</td>\n",
       "      <td>5000.00</td>\n",
       "      <td>107.000000</td>\n",
       "      <td>Created April 25, 2020</td>\n",
       "      <td>2020-04-25</td>\n",
       "      <td>US</td>\n",
       "      <td>142</td>\n",
       "      <td>false</td>\n",
       "    </tr>\n",
       "    <tr>\n",
       "      <th>3</th>\n",
       "      <td>Medical, Illness &amp; Healing</td>\n",
       "      <td>3239</td>\n",
       "      <td>8000</td>\n",
       "      <td>USD</td>\n",
       "      <td>3239.00</td>\n",
       "      <td>8000.00</td>\n",
       "      <td>40.487500</td>\n",
       "      <td>Created April 6, 2021</td>\n",
       "      <td>2021-04-06</td>\n",
       "      <td>US</td>\n",
       "      <td>37</td>\n",
       "      <td>false</td>\n",
       "    </tr>\n",
       "    <tr>\n",
       "      <th>4</th>\n",
       "      <td>Animals &amp; Pets</td>\n",
       "      <td>1050</td>\n",
       "      <td>1800</td>\n",
       "      <td>EUR</td>\n",
       "      <td>1248.87</td>\n",
       "      <td>2140.92</td>\n",
       "      <td>58.333333</td>\n",
       "      <td>Created July 5, 2020</td>\n",
       "      <td>2020-07-05</td>\n",
       "      <td>US</td>\n",
       "      <td>32</td>\n",
       "      <td>false</td>\n",
       "    </tr>\n",
       "  </tbody>\n",
       "</table>\n",
       "</div>"
      ],
      "text/plain": [
       "                         tags current amount total_amount currency used  \\\n",
       "0  Medical, Illness & Healing          17550        50000           USD   \n",
       "1         Volunteer & Service           5730         6000           USD   \n",
       "2  Medical, Illness & Healing           5350         5000           USD   \n",
       "3  Medical, Illness & Healing           3239         8000           USD   \n",
       "4              Animals & Pets           1050         1800           EUR   \n",
       "\n",
       "   current amount in dollars  total amount in dollars  \\\n",
       "0                   17550.00                 50000.00   \n",
       "1                    5730.00                  6000.00   \n",
       "2                    5350.00                  5000.00   \n",
       "3                    3239.00                  8000.00   \n",
       "4                    1248.87                  2140.92   \n",
       "\n",
       "   percentage of completion                 created launch_date country  \\\n",
       "0                 35.100000   Created April 2, 2021  2021-04-02      US   \n",
       "1                 95.500000  Created April 13, 2020  2020-04-13      US   \n",
       "2                107.000000  Created April 25, 2020  2020-04-25      US   \n",
       "3                 40.487500   Created April 6, 2021  2021-04-06      US   \n",
       "4                 58.333333    Created July 5, 2020  2020-07-05      US   \n",
       "\n",
       "   donation_count is_charity  \n",
       "0             174      false  \n",
       "1             148      false  \n",
       "2             142      false  \n",
       "3              37      false  \n",
       "4              32      false  "
      ]
     },
     "execution_count": 17,
     "metadata": {},
     "output_type": "execute_result"
    }
   ],
   "source": [
    "df.head()"
   ]
  },
  {
   "cell_type": "markdown",
   "metadata": {},
   "source": [
    "Visualicemos el resultado final:"
   ]
  },
  {
   "cell_type": "code",
   "execution_count": 18,
   "metadata": {
    "scrolled": false
   },
   "outputs": [
    {
     "data": {
      "text/html": [
       "<div>\n",
       "<style scoped>\n",
       "    .dataframe tbody tr th:only-of-type {\n",
       "        vertical-align: middle;\n",
       "    }\n",
       "\n",
       "    .dataframe tbody tr th {\n",
       "        vertical-align: top;\n",
       "    }\n",
       "\n",
       "    .dataframe thead th {\n",
       "        text-align: right;\n",
       "    }\n",
       "</style>\n",
       "<table border=\"1\" class=\"dataframe\">\n",
       "  <thead>\n",
       "    <tr style=\"text-align: right;\">\n",
       "      <th></th>\n",
       "      <th>tags</th>\n",
       "      <th>current amount</th>\n",
       "      <th>total_amount</th>\n",
       "      <th>currency used</th>\n",
       "      <th>current amount in dollars</th>\n",
       "      <th>total amount in dollars</th>\n",
       "      <th>percentage of completion</th>\n",
       "      <th>created</th>\n",
       "      <th>launch_date</th>\n",
       "      <th>country</th>\n",
       "      <th>donation_count</th>\n",
       "      <th>is_charity</th>\n",
       "    </tr>\n",
       "  </thead>\n",
       "  <tbody>\n",
       "    <tr>\n",
       "      <th>0</th>\n",
       "      <td>Medical, Illness &amp; Healing</td>\n",
       "      <td>17550</td>\n",
       "      <td>50000</td>\n",
       "      <td>USD</td>\n",
       "      <td>17550.00</td>\n",
       "      <td>50000.00</td>\n",
       "      <td>35.100000</td>\n",
       "      <td>Created April 2, 2021</td>\n",
       "      <td>2021-04-02</td>\n",
       "      <td>US</td>\n",
       "      <td>174</td>\n",
       "      <td>false</td>\n",
       "    </tr>\n",
       "    <tr>\n",
       "      <th>1</th>\n",
       "      <td>Volunteer &amp; Service</td>\n",
       "      <td>5730</td>\n",
       "      <td>6000</td>\n",
       "      <td>USD</td>\n",
       "      <td>5730.00</td>\n",
       "      <td>6000.00</td>\n",
       "      <td>95.500000</td>\n",
       "      <td>Created April 13, 2020</td>\n",
       "      <td>2020-04-13</td>\n",
       "      <td>US</td>\n",
       "      <td>148</td>\n",
       "      <td>false</td>\n",
       "    </tr>\n",
       "    <tr>\n",
       "      <th>2</th>\n",
       "      <td>Medical, Illness &amp; Healing</td>\n",
       "      <td>5350</td>\n",
       "      <td>5000</td>\n",
       "      <td>USD</td>\n",
       "      <td>5350.00</td>\n",
       "      <td>5000.00</td>\n",
       "      <td>107.000000</td>\n",
       "      <td>Created April 25, 2020</td>\n",
       "      <td>2020-04-25</td>\n",
       "      <td>US</td>\n",
       "      <td>142</td>\n",
       "      <td>false</td>\n",
       "    </tr>\n",
       "    <tr>\n",
       "      <th>3</th>\n",
       "      <td>Medical, Illness &amp; Healing</td>\n",
       "      <td>3239</td>\n",
       "      <td>8000</td>\n",
       "      <td>USD</td>\n",
       "      <td>3239.00</td>\n",
       "      <td>8000.00</td>\n",
       "      <td>40.487500</td>\n",
       "      <td>Created April 6, 2021</td>\n",
       "      <td>2021-04-06</td>\n",
       "      <td>US</td>\n",
       "      <td>37</td>\n",
       "      <td>false</td>\n",
       "    </tr>\n",
       "    <tr>\n",
       "      <th>4</th>\n",
       "      <td>Animals &amp; Pets</td>\n",
       "      <td>1050</td>\n",
       "      <td>1800</td>\n",
       "      <td>EUR</td>\n",
       "      <td>1248.87</td>\n",
       "      <td>2140.92</td>\n",
       "      <td>58.333333</td>\n",
       "      <td>Created July 5, 2020</td>\n",
       "      <td>2020-07-05</td>\n",
       "      <td>US</td>\n",
       "      <td>32</td>\n",
       "      <td>false</td>\n",
       "    </tr>\n",
       "  </tbody>\n",
       "</table>\n",
       "</div>"
      ],
      "text/plain": [
       "                         tags current amount total_amount currency used  \\\n",
       "0  Medical, Illness & Healing          17550        50000           USD   \n",
       "1         Volunteer & Service           5730         6000           USD   \n",
       "2  Medical, Illness & Healing           5350         5000           USD   \n",
       "3  Medical, Illness & Healing           3239         8000           USD   \n",
       "4              Animals & Pets           1050         1800           EUR   \n",
       "\n",
       "   current amount in dollars  total amount in dollars  \\\n",
       "0                   17550.00                 50000.00   \n",
       "1                    5730.00                  6000.00   \n",
       "2                    5350.00                  5000.00   \n",
       "3                    3239.00                  8000.00   \n",
       "4                    1248.87                  2140.92   \n",
       "\n",
       "   percentage of completion                 created launch_date country  \\\n",
       "0                 35.100000   Created April 2, 2021  2021-04-02      US   \n",
       "1                 95.500000  Created April 13, 2020  2020-04-13      US   \n",
       "2                107.000000  Created April 25, 2020  2020-04-25      US   \n",
       "3                 40.487500   Created April 6, 2021  2021-04-06      US   \n",
       "4                 58.333333    Created July 5, 2020  2020-07-05      US   \n",
       "\n",
       "   donation_count is_charity  \n",
       "0             174      false  \n",
       "1             148      false  \n",
       "2             142      false  \n",
       "3              37      false  \n",
       "4              32      false  "
      ]
     },
     "execution_count": 18,
     "metadata": {},
     "output_type": "execute_result"
    }
   ],
   "source": [
    "df.head()"
   ]
  },
  {
   "cell_type": "markdown",
   "metadata": {},
   "source": [
    "Finalmente, exportamos estos datos que son con los que se trabajará:"
   ]
  },
  {
   "cell_type": "code",
   "execution_count": 19,
   "metadata": {},
   "outputs": [],
   "source": [
    "df.to_csv('../datos/datos_GoFundMe.csv') "
   ]
  },
  {
   "cell_type": "markdown",
   "metadata": {},
   "source": [
    "### Agradecimiento a colaboradores y proceso de webscrapping:"
   ]
  },
  {
   "cell_type": "markdown",
   "metadata": {},
   "source": [
    "Los datos sobre las campañas de GoFundMe son producto de una colaboración con **@HarveyMaddocks** y pueden encontrarse en este [repositorio](https://github.com/HarveyMaddocks/gofundme_webscraper). Estos datos fueron colectados mediante técnicas de *webscrapping*. A continuación, se expondrán brevemente los pasos que se siguieron en este procedmiento:\n",
    "1. Como es común en muchos sitios web, GoFundMe tiene un motor de búsqueda interno que permite al usuario consultar campañas de *crowfunding* a partir de palabras clave. Para usar esta herramienta de la mejor manera posible, se propusieron las palabras clave que nos pudieran conducir al mayor número de campañas de interés. En nuestro caso, las palabras usadas fueron: *Venezuela*, *Covid*.\n",
    "\n",
    "2. Ahora, usando el formato de url del sitio web de GoFundMe, se crea la dirección correspondiente a la primera página de la búsqueda de las palabras clave escogidas en el punto anterior.\n",
    "\n",
    "3. Posteriormente, usando el navegador virtual *Selenium*, compatible con el lenguaje de programación *python*, fue posible acceder a la página web de GoFundMe usando la url creada en el punto anterior. Esta herramienta permite además extraer el archivo HTML correspondiente a las páginas web.\n",
    "\n",
    "4. Luego, se utilizó la biblioteca *Beautiful soup* para extraer los datos de los archivos HTML de las páginas web. Por ejemplo, al usar esta función sobre las páginas del resultado de búsqueda, se pudo crear una lista con todas las direcciones url de los sitios de las campañas que aparecían como resultado. \n",
    "\n",
    "5. Entonces, usando las bibliotecas *Selenium*, para acceder a las páginas web de las campañas, y *Beautiful soup*, para colectar datos; se recorrió la lista de direcciones url y se extrayeron los datos de interés para cada una de las campañas en esta página. En nuestro caso, la información que se colectó de cada campaña fue: \n",
    "    * La dirección *url* de la página donde se encuentra alojada la campaña.\n",
    "    * El *título* de la campaña.\n",
    "    * las *etiquetas (tags)*, o la categoria a la que pertence cada la campaña.\n",
    "    * El *monto actual* recaudado por la campaña.\n",
    "    * El *monto total* a recaudar o meta de recaudación.\n",
    "    * La *descripción* de la campaña\n",
    "    * La *fecha de lanzamiento*\n",
    "    * El *país de origen* de la campaña.\n",
    "    * El número de donaciones que ha recibido la campaña.\n",
    "    * Y un columna indicando si la campaña se trata de caridad o no.\n",
    "\n",
    "Estos datos se iban añadiendo, campaña a campaña     en una tabla de tal forma que cada fila era una       campaña diferente.\n",
    "\n",
    "6. Por último, se itera este procedimiento sobre todas las páginas del resultado de búsqueda de las palabras clave selecionadas\n"
   ]
  }
 ],
 "metadata": {
  "kernelspec": {
   "display_name": "Proyecto_OP2",
   "language": "python",
   "name": "proyecto_op2"
  },
  "language_info": {
   "codemirror_mode": {
    "name": "ipython",
    "version": 3
   },
   "file_extension": ".py",
   "mimetype": "text/x-python",
   "name": "python",
   "nbconvert_exporter": "python",
   "pygments_lexer": "ipython3",
   "version": "3.7.10"
  }
 },
 "nbformat": 4,
 "nbformat_minor": 4
}
