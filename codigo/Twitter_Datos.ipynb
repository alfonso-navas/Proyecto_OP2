{
 "cells": [
  {
   "cell_type": "markdown",
   "id": "f7a179cc",
   "metadata": {},
   "source": [
    "# Extracción de datos de Twitter por medio de API \n",
    "\n",
    "En este cuaderno utilizaremos la API de Twitter para extraer tweets por medio de la bibliotca **Twarc**. \n",
    "\n",
    "**Pasos a seguir para poder utilizar esta aplicación**\n",
    "- Tener una cuenta en la red social de Twitter.\n",
    "- Solicitar una cuenta de desarrollador; al ser aprobada, crear una aplicación para poder extraer los datos de Twitter.\n",
    "- Extraer las credenciales de permiso.\n"
   ]
  },
  {
   "cell_type": "raw",
   "id": "192cc55c",
   "metadata": {},
   "source": [
    "Primero, importamos las bibliotecas con las que vamos a trabajar:"
   ]
  },
  {
   "cell_type": "code",
   "execution_count": 1,
   "id": "dd96c20e",
   "metadata": {},
   "outputs": [],
   "source": [
    "import twarc \n",
    "import datetime\n",
    "import itertools\n",
    "from twarc.client2 import Twarc2\n",
    "import json\n",
    "import csv"
   ]
  },
  {
   "cell_type": "markdown",
   "id": "d8ff7f69",
   "metadata": {},
   "source": [
    "Hacemos la autenticación por medio de las credenciales para poder hacer la solicitud de extracción. "
   ]
  },
  {
   "cell_type": "code",
   "execution_count": 2,
   "id": "bd38a6bd",
   "metadata": {},
   "outputs": [],
   "source": [
    "t = Twarc2(bearer_token=\"AAAAAAAAAAAAAAAAAAAAABmzOgEAAAAAAdXaEdw8lrDMBtPj%2BwY318SBBmk%3DCvdZpj9aQg2ORVIfm0glUMXBNSm1yoDl1Zp1ifSRh3Lf6j6QEm\")\n",
    "#Recomiendan no hacer las credenciales públicas"
   ]
  },
  {
   "cell_type": "markdown",
   "id": "2b2f3912",
   "metadata": {},
   "source": [
    "Definimos la consulta en el periodo comprendido entre el 13 de marzo de 2020 hasta el 10 de mayo de 2021 y creamos las siguientes variables para poder acceder a las fechas de inicio y fecha final. "
   ]
  },
  {
   "cell_type": "code",
   "execution_count": 9,
   "id": "1f135232",
   "metadata": {},
   "outputs": [],
   "source": [
    "start_time = datetime.datetime(2020, 3, 13, 0, 0, 0, 0, datetime.timezone.utc)\n",
    "end_time = datetime.datetime(2021, 5, 10, 0, 0, 0, 0, datetime.timezone.utc)\n",
    "\n",
    "#Estas variables deben estar en formato UTC"
   ]
  },
  {
   "cell_type": "markdown",
   "id": "8b8b17df",
   "metadata": {},
   "source": [
    "La consulta está determinada por: \n",
    "\n",
    "**Palabras o frases claves**\n",
    "\n",
    "- covid-19\n",
    "- coronavirus\n",
    "- infectado covid-19\n",
    "- muerte covid-19\n",
    "- bombona de oxígeno\n",
    "- dexametasona\n",
    "- GoFundMe venezuela (con o sin link)\n",
    "- recolectar dinero covid-19\n",
    "- ayuda covid-19\n",
    "- flujómetro de oxígeno\n",
    "- tratamiento covid-19\n",
    "- UCI \n",
    "- #ServicioPúblico covid-19\n",
    "- #ServicioPublico covid-19\n",
    "\n",
    "La búsqueda no hace distinción entre mayúscula y minúscula, sin embargo, sí diferencia las palabras que poseen acentos y las que no.\n",
    "\n",
    "**Operadores y filtros**\n",
    "\n",
    "- Tweets que son originales, es decir, que no sean retweets.\n",
    "- Tweets que provengan del país Venezuela.\n",
    "- Tweets que contengan enlaces.\n",
    "\n",
    "\n",
    "En principio, vamos a mostrar los pasos detalladamente, luego creamos una función para aplicarlas a las distintas búsquedas. \n",
    "\n",
    "Utilizamos `t.search_all(query, star_time, end_time)` para hacer nuestra primera consulta.\n",
    "\n",
    "[Creación de consultas para los tweets de búsqueda](https://developer.twitter.com/en/docs/twitter-api/tweets/search/integrate/build-a-query#examples)."
   ]
  },
  {
   "cell_type": "markdown",
   "id": "0c965cbb",
   "metadata": {},
   "source": [
    "### Consulta 1\n",
    "- covid-19\n",
    "- coronavirus"
   ]
  },
  {
   "cell_type": "code",
   "execution_count": null,
   "id": "32d23de2",
   "metadata": {},
   "outputs": [],
   "source": [
    "search_results = t.search_all(query=\"covid-19 place_country:VE -is:retweet OR coronavirus place_country:VE -is:retweet\", start_time=start_time, end_time=end_time)"
   ]
  },
  {
   "cell_type": "markdown",
   "id": "65250cad",
   "metadata": {},
   "source": [
    "Obtener todas las páginas de resultados en un archivo formato .JSON. "
   ]
  },
  {
   "cell_type": "code",
   "execution_count": null,
   "id": "ef959b9f",
   "metadata": {},
   "outputs": [],
   "source": [
    "for page in search_results:\n",
    "    with open(\"datos_twitter.json\", \"w+\") as f:\n",
    "        f.write(json.dumps(page) + \"\\n\")"
   ]
  },
  {
   "cell_type": "markdown",
   "id": "c1b5b406",
   "metadata": {},
   "source": [
    "Convertir el archivo .JSON en un archivo .CSV "
   ]
  },
  {
   "cell_type": "code",
   "execution_count": null,
   "id": "c1be7c8c",
   "metadata": {},
   "outputs": [],
   "source": [
    "! in2csv -k data datos_twitter.json > datos_twitter.csv\n",
    "\n",
    "#No sé si haya una manera más elegante de hacer esto, pero en muchos casos me daba error."
   ]
  },
  {
   "cell_type": "markdown",
   "id": "ac399a47",
   "metadata": {},
   "source": [
    "Podemos visualizar los dos archivos:\n",
    "    [.JSON]()\n",
    "    [.CSV]()          (((No están los enlaces)))"
   ]
  },
  {
   "cell_type": "code",
   "execution_count": null,
   "id": "ef964071",
   "metadata": {},
   "outputs": [],
   "source": [
    "Creemos una función que podamos llamar varias veces para hacer el procedimiento anterior: "
   ]
  },
  {
   "cell_type": "code",
   "execution_count": 10,
   "id": "e4950179",
   "metadata": {},
   "outputs": [],
   "source": [
    "def extraccion_datos_twitter(query, start_time, end_time):\n",
    "    search_results = t.search_all(query, start_time=start_time, end_time=end_time) \n",
    "    \n",
    "    for page in search_results:\n",
    "        with open(\"data.json\", \"w+\") as f:\n",
    "            f.write(json.dumps(page) + \"\\n\")          "
   ]
  },
  {
   "cell_type": "markdown",
   "id": "b2389777",
   "metadata": {},
   "source": [
    "### Consulta 2\n",
    "- infectado covid-19\n",
    "\n",
    "- muerte covid-19"
   ]
  },
  {
   "cell_type": "code",
   "execution_count": null,
   "id": "afd11a9a",
   "metadata": {},
   "outputs": [],
   "source": [
    "query = \"infectado covid-19 place_country:VE -is:retweet OR muerte covid-19 place_country:VE -is:retweet\"\n",
    "extraccion_datos_twitter(query, start_time, end_time)"
   ]
  },
  {
   "cell_type": "code",
   "execution_count": null,
   "id": "1b497ca3",
   "metadata": {},
   "outputs": [],
   "source": [
    "! in2csv -k data datos_twitter1.json > datos_twitter1.csv"
   ]
  },
  {
   "cell_type": "markdown",
   "id": "c517d7d7",
   "metadata": {},
   "source": [
    "### Consulta 3\n",
    "\n",
    "   - oxígeno\n",
    "   - dexametasona"
   ]
  },
  {
   "cell_type": "code",
   "execution_count": null,
   "id": "1b6933c5",
   "metadata": {},
   "outputs": [],
   "source": [
    "query = \"oxígeno place_country:VE -is:retweet OR dexametasona place_country:VE -is:retweet\"\n",
    "extraccion_datos_twitter(query, start_time, end_time)"
   ]
  },
  {
   "cell_type": "code",
   "execution_count": null,
   "id": "733383c5",
   "metadata": {},
   "outputs": [],
   "source": [
    "! in2csv -k data data.json > datos_twitter2.csv"
   ]
  },
  {
   "cell_type": "markdown",
   "id": "72955a6a",
   "metadata": {},
   "source": [
    "### Consulta 4\n",
    "\n",
    "- bombona de oxígeno\n",
    "- dexametasona"
   ]
  },
  {
   "cell_type": "code",
   "execution_count": null,
   "id": "e04fe23b",
   "metadata": {},
   "outputs": [],
   "source": [
    "query=\"bombona de oxígeno place_country:VE -is:retweet OR dexametasona place_country:VE -is:retweet\"\n",
    "extraccion_datos_twitter(query, start_time, end_time)"
   ]
  },
  {
   "cell_type": "code",
   "execution_count": null,
   "id": "0c856d22",
   "metadata": {},
   "outputs": [],
   "source": [
    "! in2csv -k data datos_twitter3.json > datos_twitter3.csv"
   ]
  },
  {
   "cell_type": "markdown",
   "id": "9819ca7c",
   "metadata": {},
   "source": [
    "### Consulta 5\n",
    "\n",
    "- GoFundMe venezuela covid 19\n",
    "- GoFundMe venezuela covid 19 (has link)"
   ]
  },
  {
   "cell_type": "code",
   "execution_count": null,
   "id": "42ecf5e1",
   "metadata": {},
   "outputs": [],
   "source": [
    "query=\"GoFundMe venezuela covid-19 -is:retweet OR GoFundMe venezuela covid-19 has:links -is:retweet\"\n",
    "extraccion_datos_twitter(query, start_time, end_time)"
   ]
  },
  {
   "cell_type": "code",
   "execution_count": null,
   "id": "a7297a41",
   "metadata": {},
   "outputs": [],
   "source": [
    "! in2csv -k data datos_twitter4.json > datos_twitter4.csv"
   ]
  },
  {
   "cell_type": "markdown",
   "id": "830d7599",
   "metadata": {},
   "source": [
    "### Búsqueda 6\n",
    "\n",
    "- recolectar dinero covid-19\n",
    "- ayuda covid-19"
   ]
  },
  {
   "cell_type": "code",
   "execution_count": 11,
   "id": "60abbcab",
   "metadata": {},
   "outputs": [],
   "source": [
    "query = \"recolectar dinero covid-19 place_country:VE -is:retweet OR ayuda covi-19 place_country:VE has:links -is:retweet\"\n",
    "extraccion_datos_twitter(query, start_time, end_time)"
   ]
  },
  {
   "cell_type": "code",
   "execution_count": null,
   "id": "0e6cb5a0",
   "metadata": {},
   "outputs": [],
   "source": [
    "! in2csv -k data datos_twitter5.json > datos_twitter5.csv"
   ]
  },
  {
   "cell_type": "markdown",
   "id": "ea51a922",
   "metadata": {},
   "source": [
    "### Consulta 7\n",
    "\n",
    "- flujómetro de oxígeno"
   ]
  },
  {
   "cell_type": "code",
   "execution_count": null,
   "id": "a7d7c564",
   "metadata": {},
   "outputs": [],
   "source": [
    "query=\"flujómetro de oxígeno place_country:VE -is:retweet\"\n",
    "extraccion_datos_twitter(query, start_time, end_time)"
   ]
  },
  {
   "cell_type": "code",
   "execution_count": null,
   "id": "1e0f682d",
   "metadata": {},
   "outputs": [],
   "source": [
    "! in2csv -k data datos_twitter6.json > datos_twitter6.csv"
   ]
  },
  {
   "cell_type": "markdown",
   "id": "cb6d8a75",
   "metadata": {},
   "source": [
    "### Consulta 8\n",
    "\n",
    "- servicio público (hashtag)"
   ]
  },
  {
   "cell_type": "code",
   "execution_count": null,
   "id": "c5e8c4d3",
   "metadata": {},
   "outputs": [],
   "source": [
    "query=\"#ServicioPúblico covid-19 place_country:VE -is:retweet\"\n",
    "extraccion_datos_twitter(query, start_time, end_time)"
   ]
  },
  {
   "cell_type": "code",
   "execution_count": null,
   "id": "4bf9f2bf",
   "metadata": {},
   "outputs": [],
   "source": [
    "! in2csv -k data datos_twitter7.json > datos_twitter7.csv"
   ]
  },
  {
   "cell_type": "markdown",
   "id": "2ad7cce6",
   "metadata": {},
   "source": [
    "### Consulta 9\n",
    "\n",
    "- UCIS \n",
    "- unidad de cuidados intensivos"
   ]
  },
  {
   "cell_type": "code",
   "execution_count": null,
   "id": "c6e1f8cd",
   "metadata": {},
   "outputs": [],
   "source": [
    "query=\"UCIS place_country:VE -is:retweet OR unidad de cuidados intensivos place_country:VE -is:retweet\"\n",
    "extraccion_datos_twitter(query, start_time, end_time)"
   ]
  },
  {
   "cell_type": "code",
   "execution_count": null,
   "id": "3a5a83aa",
   "metadata": {},
   "outputs": [],
   "source": [
    "! in2csv -k data datos_twitter8.json > datos_twitter8.csv"
   ]
  },
  {
   "cell_type": "markdown",
   "id": "10a0ef66",
   "metadata": {},
   "source": [
    "### Consulta 10\n",
    "\n",
    "- tratamiento covid-19"
   ]
  },
  {
   "cell_type": "code",
   "execution_count": null,
   "id": "6b014d14",
   "metadata": {},
   "outputs": [],
   "source": [
    "query=\"tratamiento covid-19 place_country:VE -is:retweet\"\n",
    "extraccion_datos_twitter(query, start_time, end_time)"
   ]
  },
  {
   "cell_type": "code",
   "execution_count": null,
   "id": "fdc92efc",
   "metadata": {},
   "outputs": [],
   "source": [
    "! in2csv -k data datos_twitter9.json > datos_twitter9.csv"
   ]
  },
  {
   "cell_type": "markdown",
   "id": "1bd2f362",
   "metadata": {},
   "source": [
    "### Consulta 11\n",
    "\n",
    "- #serviciopublico covid-19"
   ]
  },
  {
   "cell_type": "code",
   "execution_count": null,
   "id": "3623ffc2",
   "metadata": {},
   "outputs": [],
   "source": [
    "query=\"#serviciopublico covid-19 place_country:VE -is:retweet \"\n",
    "extraccion_datos_twitter(query, start_time, end_time)"
   ]
  },
  {
   "cell_type": "code",
   "execution_count": null,
   "id": "149a08d1",
   "metadata": {},
   "outputs": [],
   "source": [
    "! in2csv -k data datos_twitter10.json > datos_twitter10.csv"
   ]
  }
 ],
 "metadata": {
  "kernelspec": {
   "display_name": "Python 3",
   "language": "python",
   "name": "python3"
  },
  "language_info": {
   "codemirror_mode": {
    "name": "ipython",
    "version": 3
   },
   "file_extension": ".py",
   "mimetype": "text/x-python",
   "name": "python",
   "nbconvert_exporter": "python",
   "pygments_lexer": "ipython3",
   "version": "3.8.8"
  }
 },
 "nbformat": 4,
 "nbformat_minor": 5
}
