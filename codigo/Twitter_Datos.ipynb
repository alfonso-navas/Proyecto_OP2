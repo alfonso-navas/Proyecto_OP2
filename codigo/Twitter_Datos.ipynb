{
 "cells": [
  {
   "cell_type": "markdown",
   "id": "f7a179cc",
   "metadata": {},
   "source": [
    "# Extracción de datos de Twitter por medio de API \n",
    "\n",
    "En este cuaderno utilizaremos la API de Twitter para extraer tweets por medio de la bibliotca [Twarc](https://pypi.org/project/twarc/).\n",
    "\n",
    "**Advertencia: Los pasos en este notebook son repetitivos, ya que se documentaron todas las consultas para la extracción de los datos** \n",
    "\n",
    "### Pasos a seguir para poder acceder a la API de Twiter. \n",
    "- Tener una cuenta en la red social de Twitter.\n",
    "- Solicitar una cuenta de desarrollador; al ser aprobada, crear una aplicación para poder extraer los datos de Twitter.\n",
    "- Extraer las credenciales de permiso. \n",
    "[Academic Research Project](https://developer.twitter.com/en/docs/projects/overview#product-track)\n",
    "\n",
    "\n"
   ]
  },
  {
   "cell_type": "raw",
   "id": "192cc55c",
   "metadata": {},
   "source": [
    "Primero, importamos las bibliotecas con las que vamos a trabajar:"
   ]
  },
  {
   "cell_type": "code",
   "execution_count": 43,
   "id": "dd96c20e",
   "metadata": {},
   "outputs": [],
   "source": [
    "import twarc \n",
    "import datetime\n",
    "import itertools\n",
    "from twarc.client2 import Twarc2\n",
    "import json\n",
    "import pandas as pd"
   ]
  },
  {
   "cell_type": "markdown",
   "id": "d8ff7f69",
   "metadata": {},
   "source": [
    "Hacemos la autenticación por medio de las credenciales para poder hacer la solicitud de extracción. "
   ]
  },
  {
   "cell_type": "code",
   "execution_count": 47,
   "id": "bd38a6bd",
   "metadata": {},
   "outputs": [],
   "source": [
    "t = Twarc2(bearer_token=\"AAAAAAAAAAAAAAAAAAAAABmzOgEAAAAAAdXaEdw8lrDMBtPj%2BwY318SBBmk%3DCvdZpj9aQg2ORVIfm0glUMXBNSm1yoDl1Zp1ifSRh3Lf6j6QEm\")\n",
    "#Recomiendan no hacer las credenciales públicas"
   ]
  },
  {
   "cell_type": "markdown",
   "id": "2b2f3912",
   "metadata": {},
   "source": [
    "Definimos la consulta en el periodo comprendido entre el 13 de marzo de 2020 hasta el 10 de mayo de 2021, para ello vamos a utilizar start_time y end_time, respectivamente. En algunas consultas estos parámetros cambian para obtener mejores resultados. "
   ]
  },
  {
   "cell_type": "code",
   "execution_count": 48,
   "id": "1f135232",
   "metadata": {},
   "outputs": [],
   "source": [
    "start_time = datetime.datetime(2020, 3, 13, 0, 0, 0, 0, datetime.timezone.utc)\n",
    "end_time = datetime.datetime(2021, 5, 10, 0, 0, 0, 0, datetime.timezone.utc)\n",
    "\n",
    "#Estas variables deben estar en formato UTC"
   ]
  },
  {
   "cell_type": "markdown",
   "id": "8b8b17df",
   "metadata": {},
   "source": [
    "La consulta está determinada por: \n",
    "\n",
    "**Palabras claves**\n",
    "\n",
    "- covid-19\n",
    "- coronavirus\n",
    "- infectado covid-19\n",
    "- muerte covid-19\n",
    "- bombona de oxígeno\n",
    "- flujómetro de oxígeno\n",
    "- saturación de oxígeno\n",
    "- dexametasona\n",
    "- GoFundMe venezuela covid-19\n",
    "- recolectar dinero covid-19\n",
    "- ayuda covid-19\n",
    "- tratamiento covid-19\n",
    "- UCI \n",
    "- unidad de cuidados intensivos\n",
    "- servicio público covid-19 \n",
    "\n",
    "La búsqueda no hace distinción entre mayúscula y minúscula, sin embargo, sí diferencia las palabras que poseen acentos y las que no.\n",
    "\n",
    "**Operadores y filtros**\n",
    "\n",
    "- Tweets que son originales, es decir, que no sean retweets. `-is: retweets`\n",
    "- Tweets que provengan del país Venezuela. `place_country:VE`\n",
    "- Tweets que contengan enlaces. `has link`\n",
    "\n",
    "\n",
    "En principio, vamos a mostrar los pasos detalladamente, luego creamos una función para aplicarlas a las distintas búsquedas. \n",
    "\n",
    "Utilizamos `t.search_all(query, star_time, end_time)` para hacer nuestra primera consulta.\n",
    "\n",
    "[Creación de consultas para los tweets de búsqueda](https://developer.twitter.com/en/docs/twitter-api/tweets/search/integrate/build-a-query#examples)."
   ]
  },
  {
   "cell_type": "markdown",
   "id": "0c965cbb",
   "metadata": {},
   "source": [
    "### Consulta 1\n",
    "- covid-19\n",
    "- coronavirus"
   ]
  },
  {
   "cell_type": "code",
   "execution_count": null,
   "id": "32d23de2",
   "metadata": {},
   "outputs": [],
   "source": [
    "search_results = t.search_all(query=\"covid-19 place_country:VE -is:retweet OR coronavirus place_country:VE -is:retweet\", start_time=start_time, end_time=end_time)"
   ]
  },
  {
   "cell_type": "markdown",
   "id": "65250cad",
   "metadata": {},
   "source": [
    "Obtener todas las páginas de resultados en un archivo formato .JSON. "
   ]
  },
  {
   "cell_type": "code",
   "execution_count": null,
   "id": "ef959b9f",
   "metadata": {},
   "outputs": [],
   "source": [
    "for page in search_results:\n",
    "    with open(\"datos_twitter.json\", \"w+\") as f:\n",
    "        f.write(json.dumps(page) + \"\\n\")"
   ]
  },
  {
   "cell_type": "code",
   "execution_count": null,
   "id": "ef964071",
   "metadata": {},
   "outputs": [],
   "source": [
    "A continuación, creamos una función que nos permita reproducir el procedimiento anterior."
   ]
  },
  {
   "cell_type": "code",
   "execution_count": 26,
   "id": "e4950179",
   "metadata": {},
   "outputs": [],
   "source": [
    "def extraccion_datos_twitter(query, start_time, end_time):\n",
    "    search_results = t.search_all(query, start_time=start_time, end_time=end_time) \n",
    "    \n",
    "    for page in search_results:\n",
    "        with open(\"../datos/datos_twitter/data.json\", \"w+\") as f:\n",
    "            f.write(json.dumps(page) + \"\\n\")          "
   ]
  },
  {
   "cell_type": "markdown",
   "id": "b2389777",
   "metadata": {},
   "source": [
    "### Consulta 2\n",
    "- infectado covid-19\n",
    "\n",
    "- muerte covid-19"
   ]
  },
  {
   "cell_type": "code",
   "execution_count": null,
   "id": "afd11a9a",
   "metadata": {},
   "outputs": [],
   "source": [
    "query = \"infectado covid-19 place_country:VE -is:retweet OR muerte covid-19 place_country:VE -is:retweet\"\n",
    "extraccion_datos_twitter(query, start_time, end_time)"
   ]
  },
  {
   "cell_type": "code",
   "execution_count": 23,
   "id": "d2cf404e",
   "metadata": {},
   "outputs": [],
   "source": [
    "query = \"#infectadocovid-19 place_country:VE -is:retweet OR #muertecovid-19 place_country:VE -is:retweet\"\n",
    "extraccion_datos_twitter(query, start_time, end_time)"
   ]
  },
  {
   "cell_type": "markdown",
   "id": "c517d7d7",
   "metadata": {},
   "source": [
    "### Consulta 3\n",
    "\n",
    "   - oxígeno\n",
    "   - dexametasona"
   ]
  },
  {
   "cell_type": "code",
   "execution_count": null,
   "id": "1b6933c5",
   "metadata": {},
   "outputs": [],
   "source": [
    "query = \"oxígeno place_country:VE -is:retweet OR dexametasona place_country:VE -is:retweet\"\n",
    "extraccion_datos_twitter(query, start_time, end_time)"
   ]
  },
  {
   "cell_type": "markdown",
   "id": "72955a6a",
   "metadata": {},
   "source": [
    "### Consulta 4\n",
    "\n",
    "- bombona de oxígeno\n",
    "- dexametasona"
   ]
  },
  {
   "cell_type": "code",
   "execution_count": null,
   "id": "e04fe23b",
   "metadata": {},
   "outputs": [],
   "source": [
    "query=\"bombona de oxígeno place_country:VE -is:retweet OR dexametasona place_country:VE -is:retweet\"\n",
    "extraccion_datos_twitter(query, start_time, end_time)"
   ]
  },
  {
   "cell_type": "markdown",
   "id": "9819ca7c",
   "metadata": {},
   "source": [
    "### Consulta 5\n",
    "\n",
    "- GoFundMe venezuela covid 19\n",
    "- GoFundMe venezuela covid 19 (has link)"
   ]
  },
  {
   "cell_type": "code",
   "execution_count": null,
   "id": "42ecf5e1",
   "metadata": {},
   "outputs": [],
   "source": [
    "query=\"GoFundMe venezuela covid-19 -is:retweet OR GoFundMe venezuela covid-19 has:links -is:retweet\"\n",
    "extraccion_datos_twitter(query, start_time, end_time)"
   ]
  },
  {
   "cell_type": "code",
   "execution_count": null,
   "id": "669780d4",
   "metadata": {},
   "outputs": [],
   "source": [
    "query=\"#GoFundMe venezuela covid-19 -is:retweet OR #GoFundMe venezuela covid-19 has:links -is:retweet\"\n",
    "extraccion_datos_twitter(query, start_time, end_time)"
   ]
  },
  {
   "cell_type": "code",
   "execution_count": 32,
   "id": "c78afcc1",
   "metadata": {},
   "outputs": [],
   "source": [
    "start_time = datetime.datetime(2021, 1, 1, 0, 0, 0, 0, datetime.timezone.utc)\n",
    "end_time = datetime.datetime(2021, 5, 10, 0, 0, 0, 0, datetime.timezone.utc)\n",
    "query=\"GoFundMe venezuela covid-19 -is:retweet OR GoFundMe venezuela covid-19 has:links -is:retweet\"\n",
    "extraccion_datos_twitter(query, start_time, end_time)"
   ]
  },
  {
   "cell_type": "code",
   "execution_count": null,
   "id": "91feadc6",
   "metadata": {},
   "outputs": [],
   "source": [
    "query=\"#GoFundMe venezuela covid-19 -is:retweet OR #GoFundMe venezuela covid-19 has:links -is:retweet\"\n",
    "extraccion_datos_twitter(query, start_time, end_time)"
   ]
  },
  {
   "cell_type": "markdown",
   "id": "830d7599",
   "metadata": {},
   "source": [
    "### Búsqueda 6\n",
    "\n",
    "- recolectar dinero covid-19\n",
    "- ayuda covid-19"
   ]
  },
  {
   "cell_type": "code",
   "execution_count": null,
   "id": "60abbcab",
   "metadata": {},
   "outputs": [],
   "source": [
    "start_time = datetime.datetime(2020, 3, 13, 0, 0, 0, 0, datetime.timezone.utc)\n",
    "end_time = datetime.datetime(2021, 5, 10, 0, 0, 0, 0, datetime.timezone.utc)\n",
    "query = \"recolectar dinero covid-19 place_country:VE -is:retweet OR ayuda covid-19 place_country:VE has:links -is:retweet\"\n",
    "extraccion_datos_twitter(query, start_time, end_time)"
   ]
  },
  {
   "cell_type": "code",
   "execution_count": 33,
   "id": "a2e6bc83",
   "metadata": {},
   "outputs": [],
   "source": [
    "start_time = datetime.datetime(2021, 1, 1, 0, 0, 0, 0, datetime.timezone.utc)\n",
    "end_time = datetime.datetime(2021, 5, 10, 0, 0, 0, 0, datetime.timezone.utc)\n",
    "query = \"#RecolectarDinero covid-19 place_country:VE -is:retweet OR #ayuda covid-19 place_country:VE has:links -is:retweet\"\n",
    "extraccion_datos_twitter(query, start_time, end_time)"
   ]
  },
  {
   "cell_type": "markdown",
   "id": "ea51a922",
   "metadata": {},
   "source": [
    "### Consulta 7\n",
    "\n",
    "- flujómetro de oxígeno\n",
    "- saturación de oxígeno"
   ]
  },
  {
   "cell_type": "code",
   "execution_count": null,
   "id": "a7d7c564",
   "metadata": {},
   "outputs": [],
   "source": [
    "start_time = datetime.datetime(2020, 3, 13, 0, 0, 0, 0, datetime.timezone.utc)\n",
    "end_time = datetime.datetime(2021, 5, 10, 0, 0, 0, 0, datetime.timezone.utc)\n",
    "query=\"flujómetro de oxígeno place_country:VE -is:retweet OR Saturación de oxígeno place_country:VE -is:retweet\"\n",
    "extraccion_datos_twitter(query, start_time, end_time)"
   ]
  },
  {
   "cell_type": "code",
   "execution_count": 35,
   "id": "6c6f5810",
   "metadata": {},
   "outputs": [],
   "source": [
    "query=\"flujometro de oxigeno place_country:VE -is:retweet OR Saturacion de oxigeno place_country:VE -is:retweet\"\n",
    "extraccion_datos_twitter(query, start_time, end_time)"
   ]
  },
  {
   "cell_type": "code",
   "execution_count": 46,
   "id": "eca189ce",
   "metadata": {},
   "outputs": [],
   "source": [
    "query=\"#flujmetroOxigeno place_country:VE -is:retweet OR SaturacionOxigeno place_country:VE -is:retweet\"\n",
    "extraccion_datos_twitter(query, start_time, end_time)"
   ]
  },
  {
   "cell_type": "markdown",
   "id": "cb6d8a75",
   "metadata": {},
   "source": [
    "### Consulta 8\n",
    "\n",
    "- servicio público "
   ]
  },
  {
   "cell_type": "code",
   "execution_count": null,
   "id": "c5e8c4d3",
   "metadata": {},
   "outputs": [],
   "source": [
    "query=\"#ServicioPúblico covid-19 place_country:VE -is:retweet\"\n",
    "extraccion_datos_twitter(query, start_time, end_time)"
   ]
  },
  {
   "cell_type": "code",
   "execution_count": null,
   "id": "ea000634",
   "metadata": {},
   "outputs": [],
   "source": [
    "query=\"#ServicioPublico covid-19 place_country:VE -is:retweet\"\n",
    "extraccion_datos_twitter(query, start_time, end_time)"
   ]
  },
  {
   "cell_type": "code",
   "execution_count": 28,
   "id": "90c28ba5",
   "metadata": {},
   "outputs": [],
   "source": [
    "start_time = datetime.datetime(2021, 1, 1, 0, 0, 0, 0, datetime.timezone.utc)\n",
    "end_time = datetime.datetime(2021, 5, 10, 0, 0, 0, 0, datetime.timezone.utc)\n",
    "query=\"servicio público covid-19 place_country:VE -is:retweet OR servicio publico covid-19 place_country:VE -is:retweet\" \n",
    "extraccion_datos_twitter(query, start_time, end_time)"
   ]
  },
  {
   "cell_type": "code",
   "execution_count": 30,
   "id": "57e2808c",
   "metadata": {},
   "outputs": [],
   "source": [
    "query=\"ServicioPublico covid-19 place_country:VE -is:retweet OR ServicioPúblico covid-19 place_country:VE -is:retweet\" \n",
    "extraccion_datos_twitter(query, start_time, end_time)"
   ]
  },
  {
   "cell_type": "code",
   "execution_count": null,
   "id": "0cf2fb76",
   "metadata": {},
   "outputs": [],
   "source": [
    "start_time = datetime.datetime(2021, 1, 1, 0, 0, 0, 0, datetime.timezone.utc)\n",
    "end_time = datetime.datetime(2021, 1, 31, 0, 0, 0, 0, datetime.timezone.utc)\n",
    "query=\"servicio público covid-19 place_country:VE -is:retweet OR servicio publico covid-19 place_country:VE -is:retweet\" \n",
    "extraccion_datos_twitter(query, start_time, end_time)"
   ]
  },
  {
   "cell_type": "code",
   "execution_count": null,
   "id": "08933f16",
   "metadata": {},
   "outputs": [],
   "source": [
    "query=\"ServicioPublico covid-19 place_country:VE -is:retweet OR ServicioPúblico covid-19 place_country:VE -is:retweet\" \n",
    "extraccion_datos_twitter(query, start_time, end_time)"
   ]
  },
  {
   "cell_type": "code",
   "execution_count": null,
   "id": "8fef5484",
   "metadata": {},
   "outputs": [],
   "source": [
    "start_time = datetime.datetime(2021, 2, 1, 0, 0, 0, 0, datetime.timezone.utc)\n",
    "end_time = datetime.datetime(2021, 2, 28, 0, 0, 0, 0, datetime.timezone.utc)\n",
    "query=\"servicio público covid-19 place_country:VE -is:retweet OR servicio publico covid-19 place_country:VE -is:retweet\" \n",
    "extraccion_datos_twitter(query, start_time, end_time)"
   ]
  },
  {
   "cell_type": "code",
   "execution_count": null,
   "id": "e634e597",
   "metadata": {},
   "outputs": [],
   "source": [
    "query=\"ServicioPublico covid-19 place_country:VE -is:retweet OR ServicioPúblico covid-19 place_country:VE -is:retweet\" \n",
    "extraccion_datos_twitter(query, start_time, end_time)"
   ]
  },
  {
   "cell_type": "code",
   "execution_count": null,
   "id": "43916bdf",
   "metadata": {},
   "outputs": [],
   "source": [
    "start_time = datetime.datetime(2021, 3, 1, 0, 0, 0, 0, datetime.timezone.utc)\n",
    "end_time = datetime.datetime(2021, 3, 31, 0, 0, 0, 0, datetime.timezone.utc)\n",
    "query=\"servicio público covid-19 place_country:VE -is:retweet OR servicio publico covid-19 place_country:VE -is:retweet\" \n",
    "extraccion_datos_twitter(query, start_time, end_time)"
   ]
  },
  {
   "cell_type": "code",
   "execution_count": null,
   "id": "aec6f8db",
   "metadata": {},
   "outputs": [],
   "source": [
    "query=\"ServicioPublico covid-19 place_country:VE -is:retweet OR ServicioPúblico covid-19 place_country:VE -is:retweet\" \n",
    "extraccion_datos_twitter(query, start_time, end_time)"
   ]
  },
  {
   "cell_type": "code",
   "execution_count": null,
   "id": "d412e8f6",
   "metadata": {},
   "outputs": [],
   "source": [
    "start_time = datetime.datetime(2021, 4, 1, 0, 0, 0, 0, datetime.timezone.utc)\n",
    "end_time = datetime.datetime(2021, 4, 30, 0, 0, 0, 0, datetime.timezone.utc)\n",
    "query=\"servicio público covid-19 place_country:VE -is:retweet OR servicio publico covid-19 place_country:VE -is:retweet\" \n",
    "extraccion_datos_twitter(query, start_time, end_time)"
   ]
  },
  {
   "cell_type": "code",
   "execution_count": null,
   "id": "da768e12",
   "metadata": {},
   "outputs": [],
   "source": [
    "query=\"ServicioPublico covid-19 place_country:VE -is:retweet OR ServicioPúblico covid-19 place_country:VE -is:retweet\" \n",
    "extraccion_datos_twitter(query, start_time, end_time)"
   ]
  },
  {
   "cell_type": "code",
   "execution_count": null,
   "id": "fc157d75",
   "metadata": {},
   "outputs": [],
   "source": [
    "start_time = datetime.datetime(2021, 5, 1, 0, 0, 0, 0, datetime.timezone.utc)\n",
    "end_time = datetime.datetime(2021, 5, 10, 0, 0, 0, 0, datetime.timezone.utc)\n",
    "query=\"servicio público covid-19 place_country:VE -is:retweet OR servicio publico covid-19 place_country:VE -is:retweet\" \n",
    "extraccion_datos_twitter(query, start_time, end_time)"
   ]
  },
  {
   "cell_type": "code",
   "execution_count": null,
   "id": "7e7e259e",
   "metadata": {},
   "outputs": [],
   "source": [
    "query=\"ServicioPublico covid-19 place_country:VE -is:retweet OR ServicioPúblico covid-19 place_country:VE -is:retweet\" \n",
    "extraccion_datos_twitter(query, start_time, end_time)"
   ]
  },
  {
   "cell_type": "markdown",
   "id": "2ad7cce6",
   "metadata": {},
   "source": [
    "### Consulta 9\n",
    "\n",
    "- UCIS \n",
    "- unidad de cuidados intensivos"
   ]
  },
  {
   "cell_type": "code",
   "execution_count": null,
   "id": "c6e1f8cd",
   "metadata": {},
   "outputs": [],
   "source": [
    "start_time = datetime.datetime(2020, 3, 13, 0, 0, 0, 0, datetime.timezone.utc)\n",
    "end_time = datetime.datetime(2021, 5, 10, 0, 0, 0, 0, datetime.timezone.utc)\n",
    "query=\"UCIS place_country:VE -is:retweet OR unidad de cuidados intensivos place_country:VE -is:retweet\"\n",
    "extraccion_datos_twitter(query, start_time, end_time)"
   ]
  },
  {
   "cell_type": "code",
   "execution_count": null,
   "id": "156616f7",
   "metadata": {},
   "outputs": [],
   "source": [
    "query=\"#UCIS place_country:VE -is:retweet\"\n",
    "extraccion_datos_twitter(query, start_time, end_time)"
   ]
  },
  {
   "cell_type": "markdown",
   "id": "10a0ef66",
   "metadata": {},
   "source": [
    "### Consulta 10\n",
    "\n",
    "- tratamiento covid-19"
   ]
  },
  {
   "cell_type": "code",
   "execution_count": null,
   "id": "6b014d14",
   "metadata": {},
   "outputs": [],
   "source": [
    "query=\"tratamiento covid-19 place_country:VE -is:retweet\"\n",
    "extraccion_datos_twitter(query, start_time, end_time)"
   ]
  }
 ],
 "metadata": {
  "kernelspec": {
   "display_name": "Python 3",
   "language": "python",
   "name": "python3"
  },
  "language_info": {
   "codemirror_mode": {
    "name": "ipython",
    "version": 3
   },
   "file_extension": ".py",
   "mimetype": "text/x-python",
   "name": "python",
   "nbconvert_exporter": "python",
   "pygments_lexer": "ipython3",
   "version": "3.8.8"
  }
 },
 "nbformat": 4,
 "nbformat_minor": 5
}
