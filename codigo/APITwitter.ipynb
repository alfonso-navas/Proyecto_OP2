{
 "cells": [
  {
   "cell_type": "markdown",
   "metadata": {},
   "source": [
    "# API (Application Programming Interfaces) \n",
    "\n",
    "En español, interfaz de programación de aplicaciones, definiciones y protocolos que se utiliza para desarrollar e integrar el software de las aplicaciones, permitiendo la comunicación entre dos aplicaciones de software a través de un conjunto de reglas. Éstas dependen de las aplicaciones que se van a utilizar, y de los permisos que les dé el propietario de la API a los desarrolladores de terceros. \n",
    "\n",
    "## API de twitter\n",
    "\n",
    "Particularmente vamos a utilizar la API de Twitter para extraer, recuperar y analizar datos tales como: tweets, usuarios, mensajes directos, tendencias, y de esta manera obtener información sobre el número de infectados de COVID-19 en Venezuela. \n",
    "\n",
    "# Tweepy\n",
    "\n",
    "Bibilioteca de Python utilizada para acceder a la API de Twitter \n",
    "\n",
    "- Tener una cuenta en la red social de Twitter.\n",
    "\n",
    "- Entrar a la siguiente URL y crear una aplicación para poder extraer los datos de Twitter (URL)https://apps.twitter.com]. \n",
    "\n",
    "- Extraer la información que se usa en el código (API KEY, API SECRET, ACCESS TOKEN, ACCESS TOKEN SECRET).\n",
    "\n",
    "- Instalamos la biblioteca a utilizar digitando lo siguiente: `! pip install tweepy!` y la importamos para empezar a uzarla `import tweepy`. "
   ]
  },
  {
   "cell_type": "code",
   "execution_count": 4,
   "metadata": {},
   "outputs": [],
   "source": [
    "import tweepy\n",
    "from tweepy import Stream #tiempo real\n",
    "from tweepy import OAuthHandler #Autenticar\n",
    "from tweepy.streaming import StreamListener \n",
    "import time\n",
    "import argparse\n",
    "import string\n",
    "import json #vista estilo diccionario\n",
    "import os"
   ]
  },
  {
   "cell_type": "markdown",
   "metadata": {},
   "source": [
    "- Definimos las 4 credenciales.\n",
    "\n",
    "- Hacemos la autenticación con el comando `tweepy.API()` a través del cual voy a hacer todas las llamadas respectivas.\n"
   ]
  },
  {
   "cell_type": "code",
   "execution_count": null,
   "metadata": {},
   "outputs": [],
   "source": [
    "consumer_key = \"\"\n",
    "consumer_secret = \"\"\n",
    "access_token = \"\"\n",
    "acces_token_secret = \"\"\n",
    "\n",
    "auth = tweepy.OAuthHandler(consumer_key, consumer_secret)\n",
    "auth.set_access_token(access_token, acces_token_secret)\n",
    "api = tweepy.API(auth, wait_on_rate_limit=True, wait_on_rate_limit_notify=True) #variable para llamar a todos \n",
    "#los métodos de API --- Si llegamos a llegar a un límite la API espera hasta que volvamos a tener acceso. "
   ]
  },
  {
   "cell_type": "markdown",
   "metadata": {},
   "source": [
    "Obtener informcación sobre mi cuenta y sobre la cuenta de un usuario específico."
   ]
  },
  {
   "cell_type": "code",
   "execution_count": null,
   "metadata": {},
   "outputs": [],
   "source": [
    "MiInfo = api.me()\n",
    "print (json.dumps(MiInfo._json, indent=2))"
   ]
  },
  {
   "cell_type": "code",
   "execution_count": null,
   "metadata": {},
   "outputs": [],
   "source": [
    "laconga = api.get_user(\"lacongaphysics\")\n",
    "print (json.dumps(laconga._json, indent=2))\n"
   ]
  },
  {
   "cell_type": "code",
   "execution_count": 48,
   "metadata": {
    "scrolled": false
   },
   "outputs": [],
   "source": [
    "for user in tweepy.Cursor(api.followers, screen_name=\"lacongaphysics\").items(100):\n",
    "    print(json.dumps(user._json, indent=2))"
   ]
  },
  {
   "cell_type": "code",
   "execution_count": 50,
   "metadata": {},
   "outputs": [],
   "source": [
    "#tweets que ha hecho un usuario en específico\n",
    "for tweet in tweepy.Cursor(api.user_timeline, screen_name=\"lacongaphysics\", tweet_mode=\"extended\").items(10):\n",
    "    print(json.dumps(tweet._json, indent=2))\n",
    "\n",
    "    "
   ]
  },
  {
   "cell_type": "markdown",
   "metadata": {},
   "source": [
    "Buscar tweets sobre algún tema\n",
    "(bounding Boxes)[https://boundingbox.klokantech.com/]"
   ]
  },
  {
   "cell_type": "code",
   "execution_count": null,
   "metadata": {},
   "outputs": [],
   "source": [
    "for tweet in tweepy.Cursor(api.search, q=\"coronavirus\",  locations=[-73.35,0.65,-59.54,15.92], tweet_mode=\"extended\").items(5):\n",
    "    print(json.dumps(tweet._json, indent=2))\n",
    "    #print (tweet._json[\"locations\"])"
   ]
  },
  {
   "cell_type": "markdown",
   "metadata": {},
   "source": [
    "API Streaming - Buscar tweets públicos en tiempo real \n",
    "API Search - Permite el acceso a los últimos 1500 tweets en los últimos 7 días.\n",
    "API Search - Permite el acceso al núcleo de los datos de Twitter y permite el acceso de los 3200 tweets. \n",
    "\n",
    "Definir una clase: métodos o funciones para manejar datos y errorres que van a entrar. "
   ]
  },
  {
   "cell_type": "code",
   "execution_count": null,
   "metadata": {},
   "outputs": [],
   "source": [
    "class TweetsListener(tweepy.StreamListener):  #Se crea una clase TweetsListener que contiene \n",
    "    #los métodos del StreamListener\n",
    "    \n",
    "    \n",
    "    def on_connect(self):\n",
    "        print(\"listo!\")#se ejecuta cuando me haya conectado al stream de datos\n",
    "    \n",
    "    def on_statu(self, status):#define el twweet que estamos extrayendo   (guardar en una base de datos)\n",
    "        print(status.text)\n",
    "        \n",
    "    def on_error(self, status_code): #nos muestra el error\n",
    "        print(\"Error\", status_code)"
   ]
  },
  {
   "cell_type": "code",
   "execution_count": null,
   "metadata": {},
   "outputs": [],
   "source": [
    "#stream = TweetsListener() #Va a tener una instancia de la clase que hemos creado\n",
    "#streamingApi = tweepy.Stream(auth=api.auth, listener=stream)\n",
    "\n",
    "stream = Stream(auth,TweetsListener())\n",
    "twitter stream.filter(track=[\"#coronavirus\"])\n",
    "#twitter stream.filter( locations=[-73.35,0.65,-59.54,15.92])\n",
    "\n",
    "\n",
    "\n",
    "#filtrar los datos \n",
    "#streamingApi.filter(\n",
    "    #follow=[\"ID de usuarios\"]\n",
    "    #track = [\"coronavirus\"],\n",
    "    #locations=[-73.35,0.65,-59.54,15.92]#bounding boxcaja encierra a una zona geográfica\n",
    "    )\n"
   ]
  },
  {
   "cell_type": "markdown",
   "metadata": {},
   "source": [
    "\n"
   ]
  }
 ],
 "metadata": {
  "kernelspec": {
   "display_name": "Proyecto_OP2",
   "language": "python",
   "name": "proyecto_op2"
  },
  "language_info": {
   "codemirror_mode": {
    "name": "ipython",
    "version": 3
   },
   "file_extension": ".py",
   "mimetype": "text/x-python",
   "name": "python",
   "nbconvert_exporter": "python",
   "pygments_lexer": "ipython3",
   "version": "3.7.10"
  }
 },
 "nbformat": 4,
 "nbformat_minor": 5
}
