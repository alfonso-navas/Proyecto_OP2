{
 "cells": [
  {
   "cell_type": "markdown",
   "metadata": {},
   "source": [
    "# Exploración de indicadores que reflejen la incidencia de Covid-19 en Venezuela usando fuentes de datos no oficiales.\n",
    "\n",
    "# Análisis de datos extraídos de Twitter\n",
    "\n",
    "Este notebook de Jupyter contiene todo el código utilizado para el análisis y la construcción de las series de tiempo de los datos extraídos de Twitter.\n",
    "___ \n",
    "\n",
    "## Configuración\n",
    "\n",
    "Configurar el entorno importando las bibliotecas con las que se trabajaran. `pandas`, una biblioteca de ciencia de datos; `matplotlib` y `seaborn` bibliotecas para la visualización de los datos. \n"
   ]
  },
  {
   "cell_type": "code",
   "execution_count": 10,
   "metadata": {},
   "outputs": [],
   "source": [
    "import pandas as pd\n",
    "import seaborn as sns\n",
    "import matplotlib.pyplot as plt \n",
    "import matplotlib.dates as mdates"
   ]
  },
  {
   "cell_type": "markdown",
   "metadata": {},
   "source": [
    "Definir el estilo de las gráficas utilizando `seaborn`."
   ]
  },
  {
   "cell_type": "code",
   "execution_count": 3,
   "metadata": {},
   "outputs": [],
   "source": [
    "#tamaño\n",
    "sns.set(rc={'figure.figsize':(11, 5)})\n",
    "#fondo\n",
    "sns.set_style(\"white\") "
   ]
  },
  {
   "cell_type": "markdown",
   "metadata": {},
   "source": [
    "## Clasificación de los datos\n",
    "\n",
    "La consulta está comprendida entre marzo de 2020 hasta el 10 de mayo de 2021, ésta coincide con las palabras claves \"covid-19\", \"coronavirus\", \"infectado covid-19\", \"muerte covid-19\", \"bombona de oxígeno\", \"flujómetro de oxígeno\", \"saturación de oxígeno, \"dexametasona\", \"GoFundMe venezuela covid-19\", \"recolectar dinero\", \"ayuda covid-19\", \"tratamiento covid-19\", \"UCI covid-19\", y \"servicio público covid-19\". Puede ver el notebook de extracción de datos [aquí](https://github.com/bonaldee/Proyecto_OP2/blob/main/codigo/Twitter_Datos.ipynb).\n",
    "\n",
    "Sin embargo, \"covid-19\" y \"coronavirus\" se descartan debido a que estos tweets están relacionados a cualquier noticia o comentarios sobre el  COVID_19 desde el inicio de la pandemia, no necesariamente sobre infectados. El resto de consultas las dividimos en 6 grupos, a saber: \n",
    "\n",
    "1. Grupo 1 \n",
    "   - infectado covid-19\n",
    "   - muerte covid-19\n",
    "2. Grupo 2 \n",
    "   - bombona de oxígeno\n",
    "   - flujometro de oxígeno\n",
    "   - saturación de oxígeno\n",
    "   - dexametasona\n",
    "3. Grupo 3\n",
    "   - GoFundMe venezuela covid-19\n",
    "   - recolectar dinero covid-19\n",
    "   - ayuda covid-19\n",
    "4. Grupo 4\n",
    "   - servicio público\n",
    "5. Grupo 5\n",
    "   - UCI\n",
    "   - unidad de cuidados intensivos.\n",
    "6. Grupo 6\n",
    "   - tratamiento covid-19\n",
    "\n",
    "___\n",
    "\n",
    "### Presentación de los datos totales\n",
    "\n",
    "Primero se muestra la relación de los tweets totales extraídos desde marzo 2020 hasta mayo 2021, los cuales fueron 3307, luego se hace la presentación individual por grupo. \n",
    "\n",
    "En principio, se cargan los datos que se encuentran de un archivo .CSV.; luego se pide su forma para estar al tanto de cuantos tweets se recaudaron en total; finalmente se eliminan las filas que sean iguales ya que representan tweets repetidos."
   ]
  },
  {
   "cell_type": "code",
   "execution_count": 4,
   "metadata": {},
   "outputs": [
    {
     "name": "stdout",
     "output_type": "stream",
     "text": [
      "(3307, 2)\n"
     ]
    },
    {
     "data": {
      "text/html": [
       "<div>\n",
       "<style scoped>\n",
       "    .dataframe tbody tr th:only-of-type {\n",
       "        vertical-align: middle;\n",
       "    }\n",
       "\n",
       "    .dataframe tbody tr th {\n",
       "        vertical-align: top;\n",
       "    }\n",
       "\n",
       "    .dataframe thead th {\n",
       "        text-align: right;\n",
       "    }\n",
       "</style>\n",
       "<table border=\"1\" class=\"dataframe\">\n",
       "  <thead>\n",
       "    <tr style=\"text-align: right;\">\n",
       "      <th></th>\n",
       "      <th>created_at</th>\n",
       "      <th>text</th>\n",
       "    </tr>\n",
       "  </thead>\n",
       "  <tbody>\n",
       "    <tr>\n",
       "      <th>0</th>\n",
       "      <td>2021-04-28 11:18:54+00:00</td>\n",
       "      <td>Sumado al dolor por la muerte de Aristóbulo Is...</td>\n",
       "    </tr>\n",
       "    <tr>\n",
       "      <th>1</th>\n",
       "      <td>2021-04-27 13:53:51+00:00</td>\n",
       "      <td>Muy triste por la muerte del profesor Andrés S...</td>\n",
       "    </tr>\n",
       "    <tr>\n",
       "      <th>2</th>\n",
       "      <td>2021-04-24 17:18:23+00:00</td>\n",
       "      <td>@eloscarale *disminuye las probabilidades de c...</td>\n",
       "    </tr>\n",
       "    <tr>\n",
       "      <th>3</th>\n",
       "      <td>2021-04-24 14:23:13+00:00</td>\n",
       "      <td>Éste capítulo se llama \"Danzando alrededor de ...</td>\n",
       "    </tr>\n",
       "    <tr>\n",
       "      <th>4</th>\n",
       "      <td>2021-04-20 00:15:53+00:00</td>\n",
       "      <td>Lamento la muerte del Alcalde  Bastidas, como ...</td>\n",
       "    </tr>\n",
       "    <tr>\n",
       "      <th>...</th>\n",
       "      <td>...</td>\n",
       "      <td>...</td>\n",
       "    </tr>\n",
       "    <tr>\n",
       "      <th>3302</th>\n",
       "      <td>2021-03-17 23:16:05+00:00</td>\n",
       "      <td>@pulte hola  señor pulten son tantas las veces...</td>\n",
       "    </tr>\n",
       "    <tr>\n",
       "      <th>3303</th>\n",
       "      <td>2021-03-17 20:43:27+00:00</td>\n",
       "      <td>Help save my mom Mildred´s eyesight https://t....</td>\n",
       "    </tr>\n",
       "    <tr>\n",
       "      <th>3304</th>\n",
       "      <td>2021-03-16 19:44:22+00:00</td>\n",
       "      <td>Seguimos en la busqueda de medicamentos y ayud...</td>\n",
       "    </tr>\n",
       "    <tr>\n",
       "      <th>3305</th>\n",
       "      <td>2021-03-16 12:25:27+00:00</td>\n",
       "      <td>No crean NUNCA en opositores de mierda cuando ...</td>\n",
       "    </tr>\n",
       "    <tr>\n",
       "      <th>3306</th>\n",
       "      <td>2021-03-15 19:36:07+00:00</td>\n",
       "      <td>Buenas tardes en busca con urgencia estás medi...</td>\n",
       "    </tr>\n",
       "  </tbody>\n",
       "</table>\n",
       "<p>3143 rows × 2 columns</p>\n",
       "</div>"
      ],
      "text/plain": [
       "                    created_at  \\\n",
       "0    2021-04-28 11:18:54+00:00   \n",
       "1    2021-04-27 13:53:51+00:00   \n",
       "2    2021-04-24 17:18:23+00:00   \n",
       "3    2021-04-24 14:23:13+00:00   \n",
       "4    2021-04-20 00:15:53+00:00   \n",
       "...                        ...   \n",
       "3302 2021-03-17 23:16:05+00:00   \n",
       "3303 2021-03-17 20:43:27+00:00   \n",
       "3304 2021-03-16 19:44:22+00:00   \n",
       "3305 2021-03-16 12:25:27+00:00   \n",
       "3306 2021-03-15 19:36:07+00:00   \n",
       "\n",
       "                                                   text  \n",
       "0     Sumado al dolor por la muerte de Aristóbulo Is...  \n",
       "1     Muy triste por la muerte del profesor Andrés S...  \n",
       "2     @eloscarale *disminuye las probabilidades de c...  \n",
       "3     Éste capítulo se llama \"Danzando alrededor de ...  \n",
       "4     Lamento la muerte del Alcalde  Bastidas, como ...  \n",
       "...                                                 ...  \n",
       "3302  @pulte hola  señor pulten son tantas las veces...  \n",
       "3303  Help save my mom Mildred´s eyesight https://t....  \n",
       "3304  Seguimos en la busqueda de medicamentos y ayud...  \n",
       "3305  No crean NUNCA en opositores de mierda cuando ...  \n",
       "3306  Buenas tardes en busca con urgencia estás medi...  \n",
       "\n",
       "[3143 rows x 2 columns]"
      ]
     },
     "execution_count": 4,
     "metadata": {},
     "output_type": "execute_result"
    }
   ],
   "source": [
    "df = pd.read_csv('../datos/datos_twitter/data.csv', parse_dates=['created_at'])\n",
    "print(df.shape)\n",
    "df.drop_duplicates(keep='first')"
   ]
  },
  {
   "cell_type": "markdown",
   "metadata": {},
   "source": [
    "De los 3307 tweets recaudados en total, luego de eliminar las columnas repetidas, queda un total de 3143. \n",
    "\n",
    "A continuación, se crea una función que hace la conversión de la columna \"created_ad\" a un formato específico para ser utilizado en las series de tiempo, luego agrupa las entradas de cada día y la convierte en una serie de tiempo."
   ]
  },
  {
   "cell_type": "code",
   "execution_count": 5,
   "metadata": {},
   "outputs": [],
   "source": [
    "def counts_time_series(df):\n",
    "    \"\"\"Convertir la columna 'created_at' a fecha\"\"\"\n",
    "    df['created_at'] = pd.to_datetime(df['created_at'], format='%Y-%m-%d', errors='coerce')\n",
    "    \n",
    "    \"\"\"Agrupa por el día y cuenta el numero de entradas con ese día\"\"\"\n",
    "    time_series_with_counts = df.groupby(df['created_at'].dt.floor('d')).size()\n",
    "    \n",
    "    return time_series_with_counts"
   ]
  },
  {
   "cell_type": "code",
   "execution_count": 11,
   "metadata": {},
   "outputs": [
    {
     "data": {
      "image/png": "[encoded data removed]",
      "text/plain": [
       "<Figure size 792x360 with 1 Axes>"
      ]
     },
     "metadata": {},
     "output_type": "display_data"
    }
   ],
   "source": [
    "twitter_time_series =  counts_time_series(df).rolling(window=7, center=True).mean()\n",
    "ax = twitter_time_series.plot(title=\"Tweets\", xlabel = \"Fecha\", ylabel = \"Número\")\n",
    "ax.xaxis.set_major_formatter(mdates.DateFormatter('%b %y'))\n",
    "plt.show()"
   ]
  },
  {
   "cell_type": "code",
   "execution_count": 13,
   "metadata": {},
   "outputs": [],
   "source": [
    "# Exportamos\n",
    "twitter_time_series.to_csv('../datos/series_Twitter.csv') #escribimos el df"
   ]
  },
  {
   "cell_type": "markdown",
   "metadata": {},
   "source": [
    "# Análisis de la serie de tiempo\n",
    "\n",
    "En la figura se observa un comportamiento irregular a lo largo de la pandemia, sin embargo, se puede notar que en septiembre de 2020 existe un número de publicaciones considerablemante más alto que en otras fechas, lo cual implica una pendiente creciente significativa en la serie de tiempo. También tenemos un incremento notable en agosto de 2020 y abril de 2021. "
   ]
  },
  {
   "cell_type": "markdown",
   "metadata": {},
   "source": [
    "### Grupo 1: infectado covid-19, muerte covid-19"
   ]
  },
  {
   "cell_type": "code",
   "execution_count": null,
   "metadata": {},
   "outputs": [],
   "source": [
    "df = pd.read_csv('../datos/datos_twitter/twitter_1_grupo.csv', parse_dates=['created_at']) #leer los datos, con la columna 'created at' como fecha \n",
    "print(df.shape)\n",
    "df.drop_duplicates(keep='first')"
   ]
  },
  {
   "cell_type": "markdown",
   "metadata": {},
   "source": [
    "En total se extraen 365 tweets, luego de remover los tweets duplicados, queda un total de 360, los cuales se distribuyen de la siguiente manera: "
   ]
  },
  {
   "cell_type": "code",
   "execution_count": null,
   "metadata": {},
   "outputs": [],
   "source": [
    "twitter_time_series =  counts_time_series(df)\n",
    "twitter_time_series.plot(title=\"Tweets\", xlabel = \"Fecha\", ylabel = \"Número\")"
   ]
  },
  {
   "cell_type": "markdown",
   "metadata": {},
   "source": [
    "### Grupo 2: bombona de oxígeno, flujometro de oxígeno, saturación de oxígeno, dexametasona"
   ]
  },
  {
   "cell_type": "code",
   "execution_count": null,
   "metadata": {},
   "outputs": [],
   "source": [
    "df = pd.read_csv('../datos/datos_twitter/twitter_2_grupo.csv', parse_dates=['created_at']) #leer los datos, con la columna 'created at' como fecha \n",
    "print(df.shape)\n",
    "df.drop_duplicates(keep='first')"
   ]
  },
  {
   "cell_type": "markdown",
   "metadata": {},
   "source": [
    "En total se extraen 295 tweets, luego de remover los tweets duplicados, queda un total de 247, los cuales se distribuyen de la siguiente manera: "
   ]
  },
  {
   "cell_type": "code",
   "execution_count": null,
   "metadata": {},
   "outputs": [],
   "source": [
    "twitter_time_series =  counts_time_series(df)\n",
    "twitter_time_series.plot(title=\"Tweets\", xlabel = \"Fecha\", ylabel = \"Número\")"
   ]
  },
  {
   "cell_type": "markdown",
   "metadata": {},
   "source": [
    "### Grupo 3: GoFundMe venezuela covid-19, recolectar dinero covid-19, ayuda covid-19"
   ]
  },
  {
   "cell_type": "code",
   "execution_count": null,
   "metadata": {},
   "outputs": [],
   "source": [
    "df = pd.read_csv('../datos/datos_twitter/twitter_3_grupo.csv', parse_dates=['created_at']) #leer los datos, con la columna 'created at' como fecha \n",
    "print(df.shape)\n",
    "df.drop_duplicates(keep='first')"
   ]
  },
  {
   "cell_type": "markdown",
   "metadata": {},
   "source": [
    "En total se extraen 757 tweets, luego de remover los tweets duplicados, queda un total de 745, los cuales se distribuyen de la siguiente manera: "
   ]
  },
  {
   "cell_type": "code",
   "execution_count": null,
   "metadata": {},
   "outputs": [],
   "source": [
    "twitter_time_series =  counts_time_series(df)\n",
    "twitter_time_series.plot(title=\"Tweets\", xlabel = \"Fecha\", ylabel = \"Número\")"
   ]
  },
  {
   "cell_type": "markdown",
   "metadata": {},
   "source": [
    "### Grupo 4: servicio público"
   ]
  },
  {
   "cell_type": "code",
   "execution_count": null,
   "metadata": {},
   "outputs": [],
   "source": [
    "df = pd.read_csv('../datos/datos_twitter/twitter_4_grupo.csv', parse_dates=['created_at']) \n",
    "print(df.shape)\n",
    "df.drop_duplicates(keep='first')"
   ]
  },
  {
   "cell_type": "markdown",
   "metadata": {},
   "source": [
    "En total se extraen 1490 tweets, luego de remover los tweets duplicados, queda un total de 1430, los cuales se distribuyen de la siguiente manera:"
   ]
  },
  {
   "cell_type": "code",
   "execution_count": null,
   "metadata": {},
   "outputs": [],
   "source": [
    "twitter_time_series =  counts_time_series(df)\n",
    "twitter_time_series.plot(title=\"Tweets\", xlabel = \"Fecha\", ylabel = \"Número\")"
   ]
  },
  {
   "cell_type": "markdown",
   "metadata": {},
   "source": [
    "### Grupo 5: UCIS, unidad de cuidados intensivos"
   ]
  },
  {
   "cell_type": "code",
   "execution_count": null,
   "metadata": {},
   "outputs": [],
   "source": [
    "df = pd.read_csv('../datos/datos_twitter/twitter_5_grupo.csv', parse_dates=['created_at'])  \n",
    "print(df.shape) \n",
    "df.drop_duplicates(keep='first')"
   ]
  },
  {
   "cell_type": "markdown",
   "metadata": {},
   "source": [
    "En total se extraen 76 tweets, luego de remover los tweets duplicados, queda un total de 76, los cuales se distribuyen de la siguiente manera:"
   ]
  },
  {
   "cell_type": "code",
   "execution_count": null,
   "metadata": {},
   "outputs": [],
   "source": [
    "twitter_time_series =  counts_time_series(df)\n",
    "twitter_time_series.plot(title=\"Tweets\", xlabel = \"Fecha\", ylabel = \"Número\")"
   ]
  },
  {
   "cell_type": "markdown",
   "metadata": {},
   "source": [
    "### Grupo 6: tratamiento covid-19 "
   ]
  },
  {
   "cell_type": "code",
   "execution_count": null,
   "metadata": {},
   "outputs": [],
   "source": [
    "df = pd.read_csv('../datos/datos_twitter/twitter_6_grupo.csv', parse_dates=['created_at']) \n",
    "print(df.shape)\n",
    "df.drop_duplicates(keep='first')"
   ]
  },
  {
   "cell_type": "markdown",
   "metadata": {},
   "source": [
    "En total se extraen 76 tweets, luego de remover los tweets duplicados, queda un total de 76, los cuales se distribuyen de la siguiente manera:"
   ]
  },
  {
   "cell_type": "code",
   "execution_count": null,
   "metadata": {},
   "outputs": [],
   "source": [
    "twitter_time_series =  counts_time_series(df)\n",
    "twitter_time_series.plot(title=\"Tweets\", xlabel = \"Fecha\", ylabel = \"Número\")"
   ]
  }
 ],
 "metadata": {
  "kernelspec": {
   "display_name": "Python 3",
   "language": "python",
   "name": "python3"
  },
  "language_info": {
   "codemirror_mode": {
    "name": "ipython",
    "version": 3
   },
   "file_extension": ".py",
   "mimetype": "text/x-python",
   "name": "python",
   "nbconvert_exporter": "python",
   "pygments_lexer": "ipython3",
   "version": "3.7.3"
  }
 },
 "nbformat": 4,
 "nbformat_minor": 5
}
