{
 "cells": [
  {
   "cell_type": "markdown",
   "id": "90e43ced",
   "metadata": {},
   "source": [
    "# Exploración de indicadores que reflejen la incidencia de Covid-19 en Venezuela usando fuentes de datos no oficiales.\n",
    "\n",
    "# Google Trends API - pytrends \n",
    "\n",
    "___ \n",
    "\n",
    "Google Trends es un sitio web de Google que analiza la popularidad de los términos de búsqueda. Se pueden ver las palabras claves de tendencia, evaluar su popularidad en diferentes períodos de tiempo, explorar palabras claves relacionadas y mucho más.\n",
    "\n",
    "Este notebook de Jupyter contiene todo el código utilizado para la extracción de los datos de Google Trends de las palabras claves que mostraremos más adelante. Se utiliza la siguiente biblioteca de Python para tal fin: [pytrends](https://pypi.org/project/pytrends/).\n",
    "___\n",
    "\n",
    "## Configuración\n",
    "\n",
    "Configurar el entorno importando las bibliotecas con las que se van trabajar. Adicional a `pytrends`, se utilizará `pandas` que es una biblioteca de ciencia de datos y `matplotlib` y `seaborn` para la visualización de los datos. "
   ]
  },
  {
   "cell_type": "code",
   "execution_count": null,
   "id": "a8a8ca1b",
   "metadata": {},
   "outputs": [],
   "source": [
    "from pytrends.request import TrendReq \n",
    "import pandas as pd    \n",
    "import matplotlib.pyplot as plt\n",
    "import seaborn as sns"
   ]
  },
  {
   "cell_type": "markdown",
   "id": "41339467",
   "metadata": {},
   "source": [
    "Definir el estilo de las gráficas utilizando los siguientes `seaborn`."
   ]
  },
  {
   "cell_type": "code",
   "execution_count": null,
   "id": "02cce6a3",
   "metadata": {},
   "outputs": [],
   "source": [
    "#tamaño\n",
    "sns.set(rc={'figure.figsize':(11, 5)})\n",
    "#fondo \n",
    "sns.set_style(\"white\")"
   ]
  },
  {
   "cell_type": "markdown",
   "id": "849ff17d",
   "metadata": {},
   "source": [
    "A continuación se define la función `consulta` que:\n",
    "\n",
    "- Hace la conexión con Google `TrendReq()`\n",
    "\n",
    "- Carga la solicitud `pytrend.build_payload()` \n",
    "\n",
    "- LLama al método `pytrend.interest_over_time()` que da el interés de la búsqueda a lo largo del tiempo.\n",
    "\n",
    "- LLama al método `pytrend.related_queries()` que muestra detalladamente las búsquedas relacionadas a las palabras claves."
   ]
  },
  {
   "cell_type": "code",
   "execution_count": null,
   "id": "ad295f0c",
   "metadata": {},
   "outputs": [],
   "source": [
    "def consulta(kw_list, cat=0, timeframe='today 12-m', geo='VE'):\n",
    "   \n",
    "    \"\"\"Conectar con google\"\"\"\n",
    "    pytrend = TrendReq(hl='es-VE') \n",
    "    \n",
    "    \"\"\"Hacer la solicitud:\n",
    "    kw_list = lista de palabras claves\n",
    "    cat = categoría (todas las categorías (0))\n",
    "    timeframe =  rango de tiempo\n",
    "    geo = país (Abreviatura de dos letras del país (VE))\n",
    "    \"\"\"\n",
    "    pytrend.build_payload(kw_list, cat, timeframe, geo) \n",
    "    \n",
    "    \"\"\"Interés a lo largo del tiempo\"\"\"\n",
    "    iot_df = pytrend.interest_over_time()\n",
    "    iot_df.reset_index().plot(x=\"date\", y=kw_list, kind =\"line\", title=\"Tendencias\", xlabel = \"Fecha\", ylabel = \"Interés\")\n",
    "       \n",
    "    \n",
    "    \"\"\"Búsquedas de temas relacionados\"\"\" \n",
    "    rq_df = pytrend.related_queries()\n",
    "    \n",
    "    print(rq_df)"
   ]
  },
  {
   "cell_type": "markdown",
   "id": "d1948401",
   "metadata": {},
   "source": [
    "## Recopilación y análisis de datos\n",
    "\n",
    "___\n",
    "\n",
    "Definamos nuestras **palabras claves** \n",
    "\n",
    "- oxígeno\n",
    "- GoFundMe\n",
    "- ayuda económica\n",
    "- servicio público\n",
    "- tratamiento covid-19\n",
    "- dexametasona\n",
    "\n",
    "Ya podemos empezar a extraer información por medio de las solicitudes. \n",
    "\n",
    "___\n",
    "\n",
    "### Solicitud: oxígeno\n",
    "\n",
    "Probemos con tilde y sin tilde para ver si hay diferencias entre los resultados. "
   ]
  },
  {
   "cell_type": "code",
   "execution_count": null,
   "id": "2abd12b1",
   "metadata": {},
   "outputs": [],
   "source": [
    "kw_list = ['oxígeno', 'oxigeno'] \n",
    "consulta(kw_list, cat=0,  timeframe='today 12-m', geo='VE')"
   ]
  },
  {
   "cell_type": "markdown",
   "id": "6a2ad8bc",
   "metadata": {},
   "source": [
    "## Interpretación de los resultados de nuestra primera solicitud\n",
    "\n",
    "Estos resultados se dividen en dos partes: al principio encontramos un diccionario con las búsquedas relacionadas a las palabras claves, donde se les asocian valores en una escala del 0 al 100. El número 100 le corresponde a la tendencia más alta y a medida que va disminuyendo el número, va disminuyendo la tendencia. Finalmente, nos arroja una serie de tiempo que nos muestra el cambio de popularidad con el tiempo; los valores representan  el interés de búsqueda relativo al punto más alto en el gráfico, siendo 100 el pico de popularidad.\n",
    "\n",
    "Tomemos como referencia \"oxigeno\", ya que tiene una búsqueda más significativa que \"oxígeno\". Las tendencias más altas de las consultas relacionadas a ella son \"saturacion de oxigeno\" (100), \"concentrador de oxigeno\" (74) y \"bombona de oxigeno\" (54). Adicionalmente, observamos cómo cambia su interés a lo largo del tiempo, teniendo un aumento exponencial de búsqueda entre marzo y mediados de abril, donde alcanza su punto máximo.  \n",
    "\n",
    "<<<falta análisis<<<\n",
    "\n",
    "Podemos interpretar analógamente las siguientes secciones que nos muestran las distintas solicitudes. \n",
    "___\n",
    "\n",
    "### Solicitud: GoFundMe"
   ]
  },
  {
   "cell_type": "code",
   "execution_count": null,
   "id": "b33cf77b",
   "metadata": {},
   "outputs": [],
   "source": [
    "kw_list = ['GoFundMe']\n",
    "consulta(kw_list, cat=0,  timeframe='today 12-m', geo='VE')"
   ]
  },
  {
   "cell_type": "markdown",
   "id": "b4c0de66",
   "metadata": {},
   "source": [
    "### Solicitud: ayuda económica"
   ]
  },
  {
   "cell_type": "code",
   "execution_count": null,
   "id": "7449d339",
   "metadata": {},
   "outputs": [],
   "source": [
    "kw_list = ['ayuda económica', 'ayuda economica']\n",
    "consulta(kw_list, cat=0,  timeframe='today 12-m', geo='VE')"
   ]
  },
  {
   "cell_type": "markdown",
   "id": "598d01d9",
   "metadata": {},
   "source": [
    "### Solicitud: servicio público"
   ]
  },
  {
   "cell_type": "code",
   "execution_count": null,
   "id": "61ff96b6",
   "metadata": {},
   "outputs": [],
   "source": [
    "kw_list = ['servicio público', 'servicio publico']\n",
    "consulta(kw_list, cat=0,  timeframe='today 12-m', geo='VE')"
   ]
  },
  {
   "cell_type": "markdown",
   "id": "7397fe53",
   "metadata": {},
   "source": [
    "### Solicitud: tratamiento covid-19"
   ]
  },
  {
   "cell_type": "code",
   "execution_count": null,
   "id": "fad1c541",
   "metadata": {},
   "outputs": [],
   "source": [
    "kw_list = ['tratamiento covid-19']\n",
    "consulta(kw_list, cat=0,  timeframe='today 12-m', geo='VE')"
   ]
  },
  {
   "cell_type": "markdown",
   "id": "775bdaae",
   "metadata": {},
   "source": [
    "### Solicitud: dexametasona"
   ]
  },
  {
   "cell_type": "code",
   "execution_count": null,
   "id": "08b2ad9f",
   "metadata": {},
   "outputs": [],
   "source": [
    "kw_list = ['dexametasona']\n",
    "consulta(kw_list, cat=0,  timeframe='today 12-m', geo='VE')"
   ]
  },
  {
   "cell_type": "markdown",
   "id": "e04c2967",
   "metadata": {},
   "source": [
    "### Comparación de los resultados\n",
    "\n",
    "Visualicemos todas las búsquedas juntas. "
   ]
  },
  {
   "cell_type": "code",
   "execution_count": null,
   "id": "efb2b35a",
   "metadata": {
    "scrolled": true
   },
   "outputs": [],
   "source": [
    "#pytrend = TrendReq(hl='es-VE') \n",
    "kw_list = ['oxigeno', 'GoFundMe', 'tratamiento covid', 'dexametasona']\n",
    "pytrend.build_payload(kw_list, cat=0, timeframe='today 12-m', geo='VE') \n",
    "df = pytrend.interest_over_time()\n",
    "\n",
    "plt.figure()\n",
    "plt.plot(df.index,df['oxigeno'],'b--')\n",
    "plt.plot(df.index,df['GoFundMe'],'b:')\n",
    "plt.plot(df.index,df['tratamiento covid'],'b.-')\n",
    "plt.plot(df.index,df['dexametasona'],'b-')\n",
    "plt.legend(['oxigeno','GoFundMe', 'ayuda economica', 'Tratamiento', 'dexametasona'])\n",
    "plt.title(\"Tendencias\")\n",
    "plt.ylabel(\"Interés\")\n",
    "plt.xlabel(\"Fecha\")"
   ]
  },
  {
   "cell_type": "markdown",
   "id": "a0bd45b8",
   "metadata": {},
   "source": [
    "<<<Análisis<<<"
   ]
  }
 ],
 "metadata": {
  "celltoolbar": "Raw Cell Format",
  "kernelspec": {
   "display_name": "Python 3",
   "language": "python",
   "name": "python3"
  },
  "language_info": {
   "codemirror_mode": {
    "name": "ipython",
    "version": 3
   },
   "file_extension": ".py",
   "mimetype": "text/x-python",
   "name": "python",
   "nbconvert_exporter": "python",
   "pygments_lexer": "ipython3",
   "version": "3.8.8"
  }
 },
 "nbformat": 4,
 "nbformat_minor": 5
}
